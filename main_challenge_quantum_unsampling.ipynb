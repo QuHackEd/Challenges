{
 "cells": [
  {
   "cell_type": "markdown",
   "metadata": {},
   "source": [
    "# Main Challenge: Variational Quantum Unsampling\n",
    "\n",
    "Here we provide you some introductory material to get you started on the main challenge, \n",
    "the results of which you will be presenting tomorrow.\n",
    "\n",
    "In this challenge, you will be investigating a recently defined algorithm,\n",
    "called 'Variational Quanutm Unsampling' \n",
    "\n",
    "(https://arxiv.org/abs/1904.10463)\n",
    "\n",
    "This is a variational algorithm, whose goal is to determine which process created a particular \n",
    "quantum state which is fed into it.\n",
    "\n",
    "Essentially, it tries to determine some unitary, $U$, which created the state:\n",
    "\n",
    "$\\left|\\psi_{\\text{out}}\\right> = U\\left|\\psi_{\\text{in}}\\right>$\n",
    "\n",
    "when applied to some (known) reference state, $\\left|\\psi_{\\text{in}}\\right>$\n",
    "\n",
    "The algorithm does this by applying some parameterised unitary operation, $V(\\theta)$, on the state $\\left|\\psi_{\\text{out}}\\right>$ in order to return it to the reference state, $\\left|\\psi_{\\text{in}}\\right>$. In other words, it attempts to find the inverse of the target unitary, $U$, such that:\n",
    "\n",
    "$\\left|\\psi_{\\text{in}}\\right> =  V(\\theta)U\\left|\\psi_{\\text{in}}\\right>$\n",
    "\n",
    "This is achieved by minimising some cost function, relative to the parameters, $\\theta$, which describes the discrepancy between the target, and the current state of the system at any point during the optimisation procedure."
   ]
  },
  {
   "cell_type": "markdown",
   "metadata": {},
   "source": [
    "First import the usual things:"
   ]
  },
  {
   "cell_type": "code",
   "execution_count": null,
   "metadata": {},
   "outputs": [],
   "source": [
    "from pyquil import Program\n",
    "from pyquil.api import get_qc, WavefunctionSimulator\n",
    "from pyquil.gates import *\n",
    "import numpy as np\n",
    "import os, inspect, sys\n",
    "\n",
    "import sys\n",
    "sys.path.insert(0, 'tests/')\n"
   ]
  },
  {
   "cell_type": "code",
   "execution_count": null,
   "metadata": {},
   "outputs": [],
   "source": []
  },
  {
   "cell_type": "code",
   "execution_count": null,
   "metadata": {},
   "outputs": [],
   "source": []
  },
  {
   "cell_type": "code",
   "execution_count": null,
   "metadata": {},
   "outputs": [],
   "source": []
  },
  {
   "cell_type": "code",
   "execution_count": null,
   "metadata": {},
   "outputs": [],
   "source": []
  }
 ],
 "metadata": {
  "kernelspec": {
   "display_name": "Python 3",
   "language": "python",
   "name": "python3"
  },
  "language_info": {
   "codemirror_mode": {
    "name": "ipython",
    "version": 3
   },
   "file_extension": ".py",
   "mimetype": "text/x-python",
   "name": "python",
   "nbconvert_exporter": "python",
   "pygments_lexer": "ipython3",
   "version": "3.6.5"
  }
 },
 "nbformat": 4,
 "nbformat_minor": 2
}
