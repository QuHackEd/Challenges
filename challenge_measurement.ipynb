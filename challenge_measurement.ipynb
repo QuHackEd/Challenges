{
 "cells": [
  {
   "cell_type": "markdown",
   "metadata": {},
   "source": [
    "# Challenge: Measurement\n",
    "In this challenge, you will experiment with different ways to measure\n",
    "quantum systems using pyQuil\n"
   ]
  },
  {
   "cell_type": "markdown",
   "metadata": {},
   "source": [
    "Import the things we will need:"
   ]
  },
  {
   "cell_type": "code",
   "execution_count": 1,
   "metadata": {},
   "outputs": [],
   "source": [
    "from pyquil import Program\n",
    "from pyquil.gates import H, MEASURE\n",
    "\n",
    "\n",
    "import sys\n",
    "sys.path.insert(0, 'tests/')\n",
    "\n",
    "from test_challenge_measurement import *\n",
    "\n",
    "# from auxiliary_functions.auxiliary_unitaries import two_qubit_prod_prep\n"
   ]
  },
  {
   "cell_type": "markdown",
   "metadata": {},
   "source": [
    "Measurement in PyQuil can be done in two different ways:\n",
    "    \n",
    "(1) Explicit measure instructions can be added **AT THE END** of a Quil Program\n",
    "\n",
    "(2) The run_and_measure option can be run to measure **ALL** qubits in the device at once"
   ]
  },
  {
   "cell_type": "markdown",
   "metadata": {},
   "source": [
    "In this challenge we will look at a device (either a quantum chip or a simulator) for the first time.\n",
    "\n",
    "Firstly we must choose what device we want to look at. \n",
    "\n",
    "For now, we will use a 3 qubit, fully connected device structure called *3q-qvm*.\n",
    "This chip type is **only** available as a simulator, current quantum devices do not\n",
    "have this all-to-all connectivity available."
   ]
  },
  {
   "cell_type": "code",
   "execution_count": 2,
   "metadata": {},
   "outputs": [],
   "source": [
    "qc_name = '3q-qvm' # The device name is passed as a string"
   ]
  },
  {
   "cell_type": "code",
   "execution_count": 3,
   "metadata": {},
   "outputs": [],
   "source": [
    "# Now import the required function to call a device:\n",
    "\n",
    "from pyquil.api import get_qc\n",
    "\n",
    "qc = get_qc(qc_name) \n",
    "# This also takes an argument to specify whether or not we call the simulator, or the real chip\n",
    "# which we will see later.\n",
    "\n",
    "# We can also get a list of qubits available on the chip.\n",
    "qubits = qc.qubits()\n",
    "\n",
    "# It is a good idea to deal with this list directly\n",
    "# rather than arbitrary qubit indices (which may not be available on the chosen chip.)\n",
    "# e.g. implement gates as H(qubits[0]) rather than H(0), as qubit '0' might not be available on the \n",
    "# chosen chip"
   ]
  },
  {
   "cell_type": "markdown",
   "metadata": {},
   "source": [
    "# Measurement: You better run, better run"
   ]
  },
  {
   "cell_type": "markdown",
   "metadata": {},
   "source": [
    "First, we will explicitly define the measure instuctions as part\n",
    "of the quil Program, and call the **run** function "
   ]
  },
  {
   "cell_type": "markdown",
   "metadata": {},
   "source": [
    "## Example"
   ]
  },
  {
   "cell_type": "code",
   "execution_count": 4,
   "metadata": {},
   "outputs": [],
   "source": [
    "# For explicit measure instructions, we must declare classical memory first to\n",
    "# put the measurement results into"
   ]
  },
  {
   "cell_type": "code",
   "execution_count": 5,
   "metadata": {},
   "outputs": [],
   "source": [
    "circuit = Program()\n",
    "\n",
    "# We are measuring 2 qubits, so we declare a register called ro which will contain binary (BIT) values\n",
    "creg = circuit.declare(\"ro\", \"BIT\", 2)\n"
   ]
  },
  {
   "cell_type": "code",
   "execution_count": 6,
   "metadata": {},
   "outputs": [],
   "source": [
    "# Add gates and measurement instructions here\n",
    "\n",
    "circuit += MEASURE(qubits[0], creg[0])\n",
    "circuit += MEASURE(qubits[0], creg[1])"
   ]
  },
  {
   "cell_type": "code",
   "execution_count": 7,
   "metadata": {},
   "outputs": [
    {
     "ename": "SyntaxError",
     "evalue": "invalid syntax (<ipython-input-7-df395083edc0>, line 2)",
     "output_type": "error",
     "traceback": [
      "\u001b[0;36m  File \u001b[0;32m\"<ipython-input-7-df395083edc0>\"\u001b[0;36m, line \u001b[0;32m2\u001b[0m\n\u001b[0;31m    num_shots = # Add required number of repetitions of the measurements\u001b[0m\n\u001b[0m                                                                        ^\u001b[0m\n\u001b[0;31mSyntaxError\u001b[0m\u001b[0;31m:\u001b[0m invalid syntax\n"
     ]
    }
   ],
   "source": [
    "with local_qvm(): # call the qvm in the background\n",
    "    num_shots = # Add required number of repetitions of the measurements\n",
    "    circuit.wrap_in_numshots_loop(num_shots) # This will wrap the circuit in a loop to measure num_shots times \n",
    "    # This compiles the circuit onto Quil code and the native architecture of the device; 'qc'\n",
    "    executable = qc.compile(circuit)\n",
    "    # 'run' commands take Quil executables and runs them. results will be an array of the measurement results\n",
    "    # from qubits 0 and 1\n",
    "    result = qc.run(executable) \n"
   ]
  },
  {
   "cell_type": "markdown",
   "metadata": {},
   "source": [
    "## Task:\n",
    "\n",
    "Using the device *'5q-qvm'*, prepare the device qubits in the state:\n",
    "\n",
    "$\\left|0\\right>\\otimes\\left|0\\right>\\otimes\\left|+\\right>\\otimes\\left|+\\right>\\otimes\\left|0\\right>$\n",
    "\n",
    "And gather measurement results from **only** those qubit prepared in an equal superposition state.\n",
    "\n",
    "*Don't forget to declare your registers!*"
   ]
  },
  {
   "cell_type": "code",
   "execution_count": 8,
   "metadata": {},
   "outputs": [],
   "source": [
    "qc_name = '5q-qvm' \n",
    "circuit = Program()\n",
    "num_shots = #\n",
    "\n",
    "results = # \n"
   ]
  },
  {
   "cell_type": "code",
   "execution_count": 9,
   "metadata": {},
   "outputs": [
    {
     "name": "stdout",
     "output_type": "stream",
     "text": [
      "It looks like the results array is the wrong size.\n",
      "Did you measure more than two qubits??\n"
     ]
    }
   ],
   "source": [
    "test_measurement_run_results(results, num_shots) # Test your code here"
   ]
  },
  {
   "cell_type": "markdown",
   "metadata": {},
   "source": [
    "# Measurement: Option 2\n",
    "Next, we will use the run_and_measure function to measure all qubits\n",
    "at once, without explicitly using MEASURE instructions.\n",
    "\n"
   ]
  },
  {
   "cell_type": "markdown",
   "metadata": {},
   "source": [
    "## Task:\n",
    "Implement a Hadamard gates on the first two available \n",
    "qubits [7, 0] of the chip *qpu_name* and measure ALL qubits \n",
    "(use **run_and_measure**)\n",
    "\n",
    "Note: The labels of qubits on the chip *qpu_name* may not correspond \n",
    "to an ordered list starting at index 0"
   ]
  },
  {
   "cell_type": "code",
   "execution_count": null,
   "metadata": {},
   "outputs": [],
   "source": [
    "def measurement_2(qpu_name, as_qvm_value, num_shots):\n",
    "    \"\"\"\n",
    "        Args: \n",
    "            qpu_name [type : str]\n",
    "            Name of the device on which to run the Program.\n",
    "\n",
    "            as_qvm_value [type : bool]\n",
    "            True if device is a QVM, otherwise false.\n",
    "\n",
    "            num_shots [type : int]\n",
    "            Number of shots to repeat measurement for.\n",
    "\n",
    "        Output:\n",
    "            results [type : dict]\n",
    "            Dictionary, keys correspond to qubits, values are numpy arrays\n",
    "            with measurement results. \n",
    "    \"\"\"\n",
    "    qc = get_qc(qpu_name, as_qvm=as_qvm_value)\n",
    "    qubits = qc.qubits()\n",
    "    circuit = Program()\n",
    "    \n",
    "    circuit += H(qubits[0])\n",
    "    circuit += H(qubits[3])\n",
    "    \n",
    "    results = qc.run_and_measure(circuit, num_shots)\n",
    "    \n",
    "    return results"
   ]
  },
  {
   "cell_type": "code",
   "execution_count": null,
   "metadata": {},
   "outputs": [],
   "source": [
    "qpu_name = 'Aspen-4-4Q-A'\n",
    "as_qvm_value = True\n",
    "num_shots = 100\n",
    "\n",
    "results_2 = measurement_2(qpu_name, as_qvm_value, num_shots)\n",
    "print(results_2)"
   ]
  }
 ],
 "metadata": {
  "kernelspec": {
   "display_name": "Python 3",
   "language": "python",
   "name": "python3"
  },
  "language_info": {
   "codemirror_mode": {
    "name": "ipython",
    "version": 3
   },
   "file_extension": ".py",
   "mimetype": "text/x-python",
   "name": "python",
   "nbconvert_exporter": "python",
   "pygments_lexer": "ipython3",
   "version": "3.6.5"
  }
 },
 "nbformat": 4,
 "nbformat_minor": 2
}
