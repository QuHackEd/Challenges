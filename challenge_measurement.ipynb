{
 "cells": [
  {
   "cell_type": "markdown",
   "metadata": {},
   "source": [
    "# Challenge: Measurement\n",
    "In this challenge, you will experiment with different ways to measure\n",
    "quantum systems using pyQuil. \n",
    "\n",
    "The first two excercises will guide you through the two methods to measure quantum systems using PyQuil. \n",
    "\n",
    "The final two challenges will test your knowledge about quantum measurements.\n"
   ]
  },
  {
   "cell_type": "markdown",
   "metadata": {},
   "source": [
    "Import the things we will need:"
   ]
  },
  {
   "cell_type": "code",
   "execution_count": 1,
   "metadata": {},
   "outputs": [],
   "source": [
    "from pyquil import Program\n",
    "from pyquil.gates import *\n",
    "\n",
    "\n",
    "import sys\n",
    "sys.path.insert(0, 'tests/')\n",
    "\n",
    "from test_challenge_measurement import *\n",
    "\n",
    "# from auxiliary_functions.auxiliary_unitaries import two_qubit_prod_prep\n"
   ]
  },
  {
   "cell_type": "markdown",
   "metadata": {},
   "source": [
    "Measurement in PyQuil can be done in two different ways:\n",
    "    \n",
    "(1) Explicit measure instructions can be added **AT THE END** of a Quil Program\n",
    "\n",
    "(2) The run_and_measure option can be run to measure **ALL** qubits in the device at once"
   ]
  },
  {
   "cell_type": "markdown",
   "metadata": {},
   "source": [
    "In this challenge we will look at a device (either a quantum chip or a simulator) for the first time.\n",
    "\n",
    "Firstly we must choose what device we want to look at. \n",
    "\n",
    "For now, we will use a 3 qubit, fully connected device structure called *3q-qvm*.\n",
    "This chip type is **only** available as a simulator, current quantum devices do not\n",
    "have this all-to-all connectivity available."
   ]
  },
  {
   "cell_type": "code",
   "execution_count": 2,
   "metadata": {},
   "outputs": [],
   "source": [
    "qc_name = '3q-qvm' # The device name is passed as a string"
   ]
  },
  {
   "cell_type": "code",
   "execution_count": 3,
   "metadata": {},
   "outputs": [],
   "source": [
    "# Now import the required function to call a device:\n",
    "\n",
    "from pyquil.api import get_qc"
   ]
  },
  {
   "cell_type": "code",
   "execution_count": 4,
   "metadata": {},
   "outputs": [],
   "source": [
    "qc = get_qc(qc_name) \n",
    "# This also takes an argument to specify whether or not we call the simulator, or the real chip\n",
    "# which we will see later.\n",
    "\n",
    "# We can also get a list of qubits available on the chip.\n",
    "qubits = qc.qubits()\n",
    "\n",
    "# It is a good idea to deal with this list directly\n",
    "# rather than arbitrary qubit indices (which may not be available on the chosen chip.)\n",
    "# e.g. implement gates as H(qubits[0]) rather than H(0), as qubit '0' might not be available on the \n",
    "# chosen chip"
   ]
  },
  {
   "cell_type": "markdown",
   "metadata": {},
   "source": [
    "# Measurement Excercise 1: You better run, better run"
   ]
  },
  {
   "cell_type": "markdown",
   "metadata": {},
   "source": [
    "First, we will explicitly define the measure instuctions as part\n",
    "of the quil Program, and call the **run** function "
   ]
  },
  {
   "cell_type": "markdown",
   "metadata": {},
   "source": [
    "## Example"
   ]
  },
  {
   "cell_type": "code",
   "execution_count": 5,
   "metadata": {},
   "outputs": [],
   "source": [
    "# For explicit measure instructions, we must declare classical memory first to\n",
    "# put the measurement results into"
   ]
  },
  {
   "cell_type": "code",
   "execution_count": 6,
   "metadata": {},
   "outputs": [],
   "source": [
    "circuit = Program()\n",
    "\n",
    "# We are measuring 2 qubits, so we declare a register called ro which will contain binary (BIT) values\n",
    "creg = circuit.declare(\"ro\", \"BIT\", 2)\n"
   ]
  },
  {
   "cell_type": "code",
   "execution_count": 7,
   "metadata": {},
   "outputs": [],
   "source": [
    "# Add gates and measurement instructions here\n",
    "\n",
    "circuit += MEASURE(qubits[0], creg[0])\n",
    "circuit += MEASURE(qubits[0], creg[1])"
   ]
  },
  {
   "cell_type": "code",
   "execution_count": 8,
   "metadata": {},
   "outputs": [
    {
     "ename": "SyntaxError",
     "evalue": "invalid syntax (<ipython-input-8-df395083edc0>, line 2)",
     "output_type": "error",
     "traceback": [
      "\u001b[0;36m  File \u001b[0;32m\"<ipython-input-8-df395083edc0>\"\u001b[0;36m, line \u001b[0;32m2\u001b[0m\n\u001b[0;31m    num_shots = # Add required number of repetitions of the measurements\u001b[0m\n\u001b[0m                                                                        ^\u001b[0m\n\u001b[0;31mSyntaxError\u001b[0m\u001b[0;31m:\u001b[0m invalid syntax\n"
     ]
    }
   ],
   "source": [
    "with local_qvm(): # call the qvm in the background\n",
    "    num_shots = # Add required number of repetitions of the measurements\n",
    "    circuit.wrap_in_numshots_loop(num_shots) # This will wrap the circuit in a loop to measure num_shots times \n",
    "    # This compiles the circuit onto Quil code and the native architecture of the device; 'qc'\n",
    "    executable = qc.compile(circuit)\n",
    "    # 'run' commands take Quil executables and runs them. results will be an array of the measurement results\n",
    "    # from qubits 0 and 1\n",
    "    result = qc.run(executable) \n"
   ]
  },
  {
   "cell_type": "markdown",
   "metadata": {},
   "source": [
    "## Task:\n",
    "\n",
    "Using the device *'5q-qvm'*, prepare the device qubits in the state:\n",
    "\n",
    "$\\left|0\\right>\\otimes\\left|0\\right>\\otimes\\left|+\\right>\\otimes\\left|+\\right>\\otimes\\left|0\\right>$\n",
    "\n",
    "And gather measurement results from **only** those qubit prepared in an equal superposition state.\n",
    "\n",
    "*Don't forget to declare your registers!*"
   ]
  },
  {
   "cell_type": "code",
   "execution_count": null,
   "metadata": {},
   "outputs": [],
   "source": [
    "qc_name = '5q-qvm' \n",
    "circuit = Program()\n",
    "num_shots = #\n",
    "\n",
    "results = # \n"
   ]
  },
  {
   "cell_type": "code",
   "execution_count": null,
   "metadata": {},
   "outputs": [],
   "source": [
    "test_measurement_run_results(results, num_shots) # Test your code here"
   ]
  },
  {
   "cell_type": "markdown",
   "metadata": {},
   "source": [
    "# Measurement Excercise 2: Second Method\n",
    "\n",
    "Next, we will use the *run_and_measure* function to measure all qubits\n",
    "at once, without explicitly using MEASURE instructions.\n",
    "\n",
    "We can also try out some of the more restricted chip architectures.\n",
    "\n",
    "We will use the device 'Aspen-4-4Q-A', which has the following qubits connected in a 'line topology':\n",
    "\n",
    "7 -- 0 -- 1 -- 2\n",
    "\n",
    "This corresponds to using the qubits, {0, 1, 2, 7} from the 16 Qubit Aspen chip."
   ]
  },
  {
   "cell_type": "markdown",
   "metadata": {},
   "source": [
    "## Task:\n",
    "Measure **all** qubits of the *Aspen-4-4Q-A* chip, and ensure that the \n",
    "measurement outcomes from qubits 0 and 7 are **always** 1. \n",
    "\n",
    "The measurement outcomes from the other qubits can be anything.\n",
    "\n",
    "Note: The labels of qubits on the chip *Aspen-4-4Q-A* may not correspond \n",
    "to an ordered list starting at index 0"
   ]
  },
  {
   "cell_type": "code",
   "execution_count": null,
   "metadata": {},
   "outputs": [],
   "source": [
    "qc_name = 'Aspen-4-4Q-A' \n",
    "\n",
    "# When using get_qc() with a real chip (which is not explicitly a QVM), we must pass an extra\n",
    "# flag to specify whether we want to run the program on the real QPU (i.e. the real chip), or \n",
    "# a simulator of that chip with the same topology, by setting as_qvm to be True \n",
    "\n",
    "as_qvm_value = True \n",
    "qc = get_qc(qc_name, as_qvm=as_qvm_value) # We have specified a simulator of the Aspen-4-4Q-A chip\n",
    "\n",
    "qubits = qc.qubits()\n",
    "circuit = Program()\n",
    "num_shots = 10\n",
    "\n",
    "circuit += X(qubits[1])\n",
    "circuit += X(qubits[2])\n",
    "\n",
    "results = qc.run_and_measure(circuit, num_shots)\n",
    "results"
   ]
  },
  {
   "cell_type": "code",
   "execution_count": null,
   "metadata": {},
   "outputs": [],
   "source": [
    "test_measurement_runandmeasure_results(results, num_shots) # Test your code here"
   ]
  },
  {
   "cell_type": "markdown",
   "metadata": {},
   "source": [
    "# Measurement Challenge 1:\n",
    "\n",
    "## Single Qubit Measurement\n",
    "Now, using any chip architecture, produce measurement outcomes \n",
    "from any qubit such that the following statistics are observed:\n",
    "\n",
    "The state of the chip must be a *pure* state. You can use either \n",
    "measurement method.\n",
    "\n",
    "(1): Outcome 0 is observed $\\frac{1}{4}$ of the time. (This corresponds to the qubit state being $\\left|0\\right>$ with probability $\\frac{1}{4}$).\n",
    "\n",
    "(2): Outcome 1 is observed $\\frac{3}{4}$ of the time. (This corresponds to the qubit state being $\\left|1\\right>$ with probability $\\frac{3}{4}$)\n",
    "\n",
    "*Hint: You can use the WavefunctionSimulator to print out the wavefunction*"
   ]
  },
  {
   "cell_type": "code",
   "execution_count": 9,
   "metadata": {},
   "outputs": [
    {
     "name": "stdout",
     "output_type": "stream",
     "text": [
      "(0.8660254038+0j)|0> + (0.5+0j)|1>\n"
     ]
    },
    {
     "data": {
      "text/plain": [
       "{0: array([0, 0, 0, 0, 0, 0, 0, 1, 0, 0, 0, 0, 1, 0, 0, 0, 0, 0, 1, 0, 0, 0,\n",
       "        0, 0, 0, 0, 0, 1, 1, 0, 1, 1, 0, 0, 1, 0, 0, 1, 0, 0, 0, 0, 0, 0,\n",
       "        0, 0, 0, 0, 0, 0, 0, 0, 0, 0, 0, 0, 0, 0, 1, 0, 1, 1, 0, 0, 0, 1,\n",
       "        1, 0, 0, 0, 0, 0, 0, 0, 0, 1, 0, 0, 0, 1, 0, 0, 0, 1, 0, 1, 0, 0,\n",
       "        1, 0, 0, 0, 0, 0, 1, 1, 0, 0, 0, 0]),\n",
       " 1: array([0, 0, 0, 0, 0, 0, 0, 0, 0, 0, 0, 0, 0, 0, 0, 0, 0, 0, 0, 0, 0, 0,\n",
       "        0, 0, 0, 0, 0, 0, 0, 0, 0, 0, 0, 0, 0, 0, 0, 0, 0, 0, 0, 0, 0, 0,\n",
       "        0, 0, 0, 0, 0, 0, 0, 0, 0, 0, 0, 0, 0, 0, 0, 0, 0, 0, 0, 0, 0, 0,\n",
       "        0, 0, 0, 0, 0, 0, 0, 0, 0, 0, 0, 0, 0, 0, 0, 0, 0, 0, 0, 0, 0, 0,\n",
       "        0, 0, 0, 0, 0, 0, 0, 0, 0, 0, 0, 0]),\n",
       " 2: array([0, 0, 0, 0, 0, 0, 0, 0, 0, 0, 0, 0, 0, 0, 0, 0, 0, 0, 0, 0, 0, 0,\n",
       "        0, 0, 0, 0, 0, 0, 0, 0, 0, 0, 0, 0, 0, 0, 0, 0, 0, 0, 0, 0, 0, 0,\n",
       "        0, 0, 0, 0, 0, 0, 0, 0, 0, 0, 0, 0, 0, 0, 0, 0, 0, 0, 0, 0, 0, 0,\n",
       "        0, 0, 0, 0, 0, 0, 0, 0, 0, 0, 0, 0, 0, 0, 0, 0, 0, 0, 0, 0, 0, 0,\n",
       "        0, 0, 0, 0, 0, 0, 0, 0, 0, 0, 0, 0]),\n",
       " 7: array([0, 0, 0, 0, 0, 0, 0, 0, 0, 0, 0, 0, 0, 0, 0, 0, 0, 0, 0, 0, 0, 0,\n",
       "        0, 0, 0, 0, 0, 0, 0, 0, 0, 0, 0, 0, 0, 0, 0, 0, 0, 0, 0, 0, 0, 0,\n",
       "        0, 0, 0, 0, 0, 0, 0, 0, 0, 0, 0, 0, 0, 0, 0, 0, 0, 0, 0, 0, 0, 0,\n",
       "        0, 0, 0, 0, 0, 0, 0, 0, 0, 0, 0, 0, 0, 0, 0, 0, 0, 0, 0, 0, 0, 0,\n",
       "        0, 0, 0, 0, 0, 0, 0, 0, 0, 0, 0, 0])}"
      ]
     },
     "execution_count": 9,
     "metadata": {},
     "output_type": "execute_result"
    }
   ],
   "source": [
    "qc_name = 'Aspen-4-4Q-A' \n",
    "from pyquil.api import WavefunctionSimulator\n",
    "# When using get_qc() with a real chip (which is not explicitly a QVM), we must pass an extra\n",
    "# flag to specify whether we want to run the program on the real QPU (i.e. the real chip), or \n",
    "# a simulator of that chip with the same topology, by setting as_qvm to be True \n",
    "\n",
    "as_qvm_value = True \n",
    "qc = get_qc(qc_name, as_qvm=as_qvm_value) # We have specified a simulator of the Aspen-4-4Q-A chip\n",
    "\n",
    "qubits = qc.qubits()\n",
    "circuit = Program()\n",
    "num_shots = 100\n",
    "make_wf = WavefunctionSimulator()\n",
    "circuit += RY(np.pi/3, qubits[0])\n",
    "wavefunc = make_wf.wavefunction(circuit)\n",
    "print(wavefunc)\n",
    "results = qc.run_and_measure(circuit, num_shots)\n",
    "results"
   ]
  },
  {
   "cell_type": "markdown",
   "metadata": {},
   "source": [
    "Next extract the required measurement results for the single non-trivial qubit measurement\n",
    "and pass them as a python list to check the statistics of the measurement outcomes.\n",
    "\n",
    "*This is a purely python-related challenge*"
   ]
  },
  {
   "cell_type": "code",
   "execution_count": 12,
   "metadata": {},
   "outputs": [
    {
     "name": "stdout",
     "output_type": "stream",
     "text": [
      "[0, 1, 1, 1, 1, 1, 1, 1, 1, 1]\n",
      "True\n",
      "oops, those statistics don't look right... It could just be that you got a disproportionately high number of one outcome or another though. Try a couple more times.\n",
      "Maybe try a bigger number of measurement shots..\n"
     ]
    }
   ],
   "source": [
    "results_list =  # Single qubit measurement result list\n",
    "num_shots = #\n",
    "\n",
    "\n",
    "test_measurement_challenge(results_list, num_shots) # Check statistics here"
   ]
  },
  {
   "cell_type": "markdown",
   "metadata": {},
   "source": [
    "# Measurement Challenge 2: Bell Measurements + Non-Local Correlations\n",
    "\n",
    "Here you will see the 'spooky action at a distance' inherent in Quantum Mechanics.\n",
    "\n",
    "## Task\n",
    "You will create a Bell State:\n",
    "\n",
    "(1) $\\left|\\phi^+\\right> = \\frac{1}{2}\\left(\\left|00\\right> + \\left|11\\right>\\right)$\n",
    "\n",
    "that you saw in the unitaries challenge, between two qubits, and measure them\n",
    "both in the computational basis.\n",
    "\n",
    "First create the state (1):"
   ]
  },
  {
   "cell_type": "code",
   "execution_count": null,
   "metadata": {},
   "outputs": [],
   "source": [
    "circuit = Program()\n"
   ]
  },
  {
   "cell_type": "markdown",
   "metadata": {},
   "source": [
    "Now measure in the computational basis and examine the results. What do you notice??"
   ]
  },
  {
   "cell_type": "code",
   "execution_count": null,
   "metadata": {},
   "outputs": [],
   "source": [
    "num_shots = #\n",
    "results = #"
   ]
  },
  {
   "cell_type": "markdown",
   "metadata": {},
   "source": [
    "Now imagine two people, Alice and Bob each took one of these two qubits in the quantum register *before* the measurement\n",
    "and brought each qubit to opposite sides of the universe. What would you expect for Alice to observe about her measurement results if she measured *her* qubit in the following two scenarios:\n",
    "\n",
    "(a) **Before** Bob measured his qubit?\n",
    "\n",
    "(b) **After** Bob measured his qubit?"
   ]
  }
 ],
 "metadata": {
  "kernelspec": {
   "display_name": "Python 3",
   "language": "python",
   "name": "python3"
  },
  "language_info": {
   "codemirror_mode": {
    "name": "ipython",
    "version": 3
   },
   "file_extension": ".py",
   "mimetype": "text/x-python",
   "name": "python",
   "nbconvert_exporter": "python",
   "pygments_lexer": "ipython3",
   "version": "3.6.5"
  }
 },
 "nbformat": 4,
 "nbformat_minor": 2
}
