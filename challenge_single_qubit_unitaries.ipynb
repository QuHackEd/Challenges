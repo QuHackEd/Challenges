{
 "cells": [
  {
   "cell_type": "markdown",
   "metadata": {},
   "source": [
    "# Challenge: Unitaries\n",
    "\n",
    "## Single qubit unitaries"
   ]
  },
  {
   "cell_type": "markdown",
   "metadata": {},
   "source": [
    "In this challenge, you will have to apply certain unitaries to prepare particular final states"
   ]
  },
  {
   "cell_type": "markdown",
   "metadata": {},
   "source": [
    "Firstly, import the things we will need:"
   ]
  },
  {
   "cell_type": "code",
   "execution_count": null,
   "metadata": {},
   "outputs": [],
   "source": [
    "from pyquil import Program\n",
    "from pyquil.api import get_qc, WavefunctionSimulator\n",
    "from pyquil.gates import *\n",
    "import numpy as np\n",
    "import os, inspect, sys\n",
    "\n",
    "import sys\n",
    "sys.path.insert(0, 'tests/')\n",
    "\n",
    "from test_single_qubit_unitaries import *\n",
    "\n",
    "from auxiliary_functions.auxiliary_unitaries import plus_prep, minus_prep, one_prep\n"
   ]
  },
  {
   "cell_type": "markdown",
   "metadata": {},
   "source": [
    "## Challenge 1: \n",
    "\n",
    "### Bit flip.\n",
    "\n",
    "Inputs: Initial state prepared in the computational basis state: |0> \n",
    "\n",
    "Task: Output a state which is prepared in the orthogonal state: |1>"
   ]
  },
  {
   "cell_type": "code",
   "execution_count": null,
   "metadata": {},
   "outputs": [],
   "source": [
    "# Initialise an empty circuit: \n",
    "\n",
    "circuit = Program()\n",
    "\n",
    "# The circuit now contains a quantum register in the \n",
    "# state |0>.\n",
    "# Apply a unitary gate (or gates) such that the output state is |1>\n",
    "\n",
    "# You can check if the output state if correct by printing \n",
    "# out the wavefunction of the state using a simulator.\n",
    "make_wf = WavefunctionSimulator()\n",
    "\n",
    "wavefunction = make_wf.wavefunction(circuit)\n",
    "print('The wavefunction is:', wavefunction)"
   ]
  },
  {
   "cell_type": "code",
   "execution_count": null,
   "metadata": {},
   "outputs": [],
   "source": [
    "test_bit_flip_unitary(circuit)\n"
   ]
  },
  {
   "cell_type": "markdown",
   "metadata": {},
   "source": [
    "## Challenge 2: \n",
    "\n",
    "### Superposition Preparation.\n",
    "\n",
    "#### Inputs:\n",
    "Initial state prepared the computational basis state: $|0>$\n",
    "\n",
    "#### Task:\n",
    "Prepare the qubit in the *superposition* state: $|+> = \\frac{1}{\\sqrt{2}}\\left(|0> + |1> \\right)$"
   ]
  },
  {
   "cell_type": "code",
   "execution_count": null,
   "metadata": {},
   "outputs": [],
   "source": [
    "# Initialise an empty circuit: \n",
    "\n",
    "circuit = Program()\n",
    "\n",
    "# The circuit now contains a quantum register in the \n",
    "# state |0>.\n",
    "# Apply a unitary gate (or gates) such that the output state is |+>\n",
    "\n",
    "circuit += # Add gates here\n",
    "\n",
    "# You can check if the output state if correct by printing \n",
    "# out the wavefunction of the state using a simulator.\n",
    "make_wf = WavefunctionSimulator()\n",
    "\n",
    "wavefunction = make_wf.wavefunction(circuit)\n",
    "print('The wavefunction is:', wavefunction)\n"
   ]
  },
  {
   "cell_type": "code",
   "execution_count": null,
   "metadata": {},
   "outputs": [],
   "source": [
    "# Run test to check if correct state was obtained\n",
    "test_superposition_unitary(circuit)"
   ]
  },
  {
   "cell_type": "markdown",
   "metadata": {},
   "source": [
    "## Challenge 3:\n",
    "\n",
    "### Reversal:\n",
    "\n",
    "In this case you will be give a state which is not prepared in the computational \n",
    "basis, instead it is prepared in the _Hadamard basis_, $|+>$\n",
    "\n",
    "#### Inputs:\n",
    "Initial state prepared in the basis state: $|+>$\n",
    "\n",
    "#### Task:\n",
    "Return state to the computational basis state: $|0>)$\n"
   ]
  },
  {
   "cell_type": "code",
   "execution_count": null,
   "metadata": {},
   "outputs": [],
   "source": [
    "# Initialise a |+> state: \n",
    "circuit = plus_prep()\n",
    "\n",
    "# The circuit now contains a quantum register in the \n",
    "# state |+>.\n",
    "# Apply a unitary gate (or gates) such that the output state is |0>\n",
    "\n",
    "circuit +=#Your code here\n",
    "\n",
    "# (Again, if you wish you can print out the wavefunction to check how you are doing)"
   ]
  },
  {
   "cell_type": "code",
   "execution_count": null,
   "metadata": {},
   "outputs": [],
   "source": [
    "# Now test that the correct circut has been created\n",
    "test_plus_input_to_zero(circuit)"
   ]
  },
  {
   "cell_type": "markdown",
   "metadata": {},
   "source": [
    "## Challenge 4:\n",
    "\n",
    "### Reversal + Flip.\n",
    "\n",
    "\n",
    "#### Inputs:\n",
    "Initial state prepared in the basis state: $|-\\rangle$\n",
    "\n",
    "#### Task:\n",
    "Return state to the computational basis state: $|0\\rangle$\n",
    "\n",
    "*Hint: You may need to apply more than one gate.*"
   ]
  },
  {
   "cell_type": "code",
   "execution_count": null,
   "metadata": {},
   "outputs": [],
   "source": [
    "# Initialise a |-> state: \n",
    "\n",
    "circuit = minus_prep()\n",
    "\n",
    "# The circuit now contains a quantum register in the \n",
    "# state: |-> = 1/\\sqrt(2)(|0> - |1>).\n",
    "# Apply a unitary gate (or gates) such that the output state is |0>\n",
    "\n",
    "circuit += # Apply Gates here"
   ]
  },
  {
   "cell_type": "code",
   "execution_count": null,
   "metadata": {},
   "outputs": [],
   "source": [
    "# Let's test the code again\n",
    "test_minus_input_to_zero(circuit)"
   ]
  },
  {
   "cell_type": "markdown",
   "metadata": {},
   "source": [
    "## Challenge 5:\n",
    "\n",
    "### Phases.\n",
    "\n",
    "Finally, we will look at how to create 'phases', which are factors of $e^{i\\theta}$ for some angle $\\theta$.\n",
    "\n",
    "Phases can typically be \n",
    "   1. 'Global' - they factor out of the wavefunction and just become a scalar multiple, i.e.:\n",
    "       \n",
    "       $e^{i\\theta}\\frac{1}{\\sqrt{2}}\\left(|0\\rangle+|1\\rangle\\right)$.\n",
    "       \n",
    "   2. 'Relative' (or Local)  - they apply to some parts of the state but not to others\n",
    "       i.e a $-1$ phase difference between the states:\n",
    "       \n",
    "       $|+\\rangle = \\frac{1}{\\sqrt{2}}\\left(|0\\rangle+|1\\rangle\\right), |-\\rangle = \\frac{1}{\\sqrt{2}}\\left(|0\\rangle-|1\\rangle\\right)$\n",
    "       \n",
    "We typically ignore global phases, they are not 'observable' in the sense that they cannot be determined by a measurement. This is because the thing we observe in experiments are probabilities, $|\\langle\\phi|\\psi\\rangle|^2$, which are real numbers, and not the 'amplitudes', $\\langle\\phi|\\psi\\rangle$, which can be complex.\n",
    "\n",
    "In the probabilies, global phases cancel each other out. Say we have $|\\psi\\rangle$ and $|\\psi_\\theta\\rangle =  e^{i\\theta}|\\psi\\rangle$, which correspond to the same ***physical state***. Then have:\n",
    "\n",
    "\\begin{align}\n",
    " |\\langle\\phi|\\psi_\\theta\\rangle|^2 = \\langle\\phi|\\psi_\\theta\\rangle\\langle\\psi_\\theta|\\phi\\rangle =  e^{i\\theta}e^{-i\\theta}\\langle\\phi|\\psi\\rangle\\langle\\psi|\\phi\\rangle = \\langle\\phi|\\psi\\rangle\\langle\\psi|\\phi\\rangle = |\\langle\\phi|\\psi\\rangle|^2\n",
    "\\end{align}\n",
    "\n",
    "***However*** the same is not true for *relative* phases; the states $|+\\rangle, |-\\rangle$ are very different, and of course we can observe the difference between these states (by measuring in a correct basis, as we will see later). \n",
    "\n",
    "In fact, the reason we get computational speedups in Quantum Algorithms is exactly because of this fact - the local phases mean that certain states in a particular computation can ***interfere*** and cancel each other out. \n",
    "\n",
    "If smart enough, we can engineer this 'cancellation' to happen for the incorrect solutions to a problem, so the 'correct' solutions get a boost and we can find them more easily.\n",
    "\n",
    "## Global Phase\n",
    "\n",
    "#### Inputs:\n",
    "Initial state prepared in the basis state: $|1\\rangle$\n",
    "\n",
    "#### Task:\n",
    "Apply a phase (of -1) to this state to get: $-|1\\rangle$\n",
    "\n"
   ]
  },
  {
   "cell_type": "code",
   "execution_count": null,
   "metadata": {},
   "outputs": [],
   "source": [
    "circuit = one_prep()\n",
    "# The circuit now contains a quantum register in the \n",
    "# state: |1>.\n",
    "# Apply a unitary gate (or gates) such that the output state is -|1>\n",
    "\n",
    "circuit += # Apply Gates here\n"
   ]
  },
  {
   "cell_type": "code",
   "execution_count": null,
   "metadata": {},
   "outputs": [],
   "source": [
    "# Let's test the code again\n",
    "test_one_phase(circuit)"
   ]
  },
  {
   "cell_type": "markdown",
   "metadata": {},
   "source": [
    "## Relative Phase\n",
    "\n",
    "#### Inputs:\n",
    "Initial state prepared in the basis state: $|+\\rangle = \\frac{1}{\\sqrt{2}}\\left(|0\\rangle+|1\\rangle\\right)$\n",
    "\n",
    "#### Task:\n",
    "Apply a *relative* phase (of $e^{i \\theta}, \\theta = \\frac{\\pi}{3}$) to this state to get:\n",
    "\n",
    "$|\\phi\\rangle = \\frac{1}{\\sqrt{2}}\\left(|0\\rangle+e^{i \\pi/3}|1\\rangle\\right)$\n",
    "\n"
   ]
  },
  {
   "cell_type": "code",
   "execution_count": null,
   "metadata": {},
   "outputs": [],
   "source": [
    "circuit = plus_prep()\n",
    "# The circuit now contains a quantum register in the \n",
    "# state: |+> = 1/\\sqrt(2)(|0> + |1>).\n",
    "# Apply a unitary gate (or gates) such that the output state is |phi> = 1/\\sqrt(2)(|0> + e^{i\\pi/3}|1>)\n",
    "\n",
    "circuit += # Apply Gates here\n"
   ]
  },
  {
   "cell_type": "code",
   "execution_count": null,
   "metadata": {},
   "outputs": [],
   "source": [
    "test_pi_three_phase(circuit)"
   ]
  }
 ],
 "metadata": {
  "kernelspec": {
   "display_name": "Python 3",
   "language": "python",
   "name": "python3"
  },
  "language_info": {
   "codemirror_mode": {
    "name": "ipython",
    "version": 3
   },
   "file_extension": ".py",
   "mimetype": "text/x-python",
   "name": "python",
   "nbconvert_exporter": "python",
   "pygments_lexer": "ipython3",
   "version": "3.6.5"
  }
 },
 "nbformat": 4,
 "nbformat_minor": 2
}
