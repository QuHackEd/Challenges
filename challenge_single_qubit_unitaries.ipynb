{
 "cells": [
  {
   "cell_type": "markdown",
   "metadata": {},
   "source": [
    "# Challenge: Unitaries"
   ]
  },
  {
   "cell_type": "markdown",
   "metadata": {},
   "source": [
    "In this challenge, you will have to apply certain unitaries to prepare particular final states"
   ]
  },
  {
   "cell_type": "markdown",
   "metadata": {},
   "source": [
    "Firstly, import the things we will need:"
   ]
  },
  {
   "cell_type": "code",
   "execution_count": 1,
   "metadata": {},
   "outputs": [
    {
     "ename": "ModuleNotFoundError",
     "evalue": "No module named 'tests.test_single_qubit_unitaries'",
     "output_type": "error",
     "traceback": [
      "\u001b[0;31m---------------------------------------------------------------------------\u001b[0m",
      "\u001b[0;31mModuleNotFoundError\u001b[0m                       Traceback (most recent call last)",
      "\u001b[0;32m<ipython-input-1-1bd9b0164315>\u001b[0m in \u001b[0;36m<module>\u001b[0;34m()\u001b[0m\n\u001b[1;32m      9\u001b[0m     \u001b[0msys\u001b[0m\u001b[0;34m.\u001b[0m\u001b[0mpath\u001b[0m\u001b[0;34m.\u001b[0m\u001b[0mappend\u001b[0m\u001b[0;34m(\u001b[0m\u001b[0mmodule_path\u001b[0m\u001b[0;34m)\u001b[0m\u001b[0;34m\u001b[0m\u001b[0m\n\u001b[1;32m     10\u001b[0m \u001b[0;34m\u001b[0m\u001b[0m\n\u001b[0;32m---> 11\u001b[0;31m \u001b[0;32mfrom\u001b[0m \u001b[0mtests\u001b[0m\u001b[0;34m.\u001b[0m\u001b[0mtest_single_qubit_unitaries\u001b[0m \u001b[0;32mimport\u001b[0m \u001b[0;34m*\u001b[0m\u001b[0;34m\u001b[0m\u001b[0m\n\u001b[0m\u001b[1;32m     12\u001b[0m \u001b[0;34m\u001b[0m\u001b[0m\n\u001b[1;32m     13\u001b[0m \u001b[0;32mfrom\u001b[0m \u001b[0mauxiliary_functions\u001b[0m\u001b[0;34m.\u001b[0m\u001b[0mauxiliary_unitaries\u001b[0m \u001b[0;32mimport\u001b[0m \u001b[0mplus_prep\u001b[0m\u001b[0;34m,\u001b[0m \u001b[0mminus_prep\u001b[0m\u001b[0;34m\u001b[0m\u001b[0m\n",
      "\u001b[0;31mModuleNotFoundError\u001b[0m: No module named 'tests.test_single_qubit_unitaries'"
     ]
    }
   ],
   "source": [
    "from pyquil import Program\n",
    "from pyquil.api import get_qc, WavefunctionSimulator\n",
    "from pyquil.gates import *\n",
    "import numpy as np\n",
    "import os, inspect, sys\n",
    "\n",
    "module_path = os.path.abspath(os.path.join('..'))\n",
    "if module_path not in sys.path:\n",
    "    sys.path.append(module_path)\n",
    "\n",
    "from tests.test_single_qubit_unitaries import *\n",
    "\n",
    "from auxiliary_functions.auxiliary_unitaries import plus_prep, minus_prep\n"
   ]
  },
  {
   "cell_type": "markdown",
   "metadata": {},
   "source": [
    "## Challenge 1: \n",
    "Bit flip.\n",
    "\n",
    "Inputs: Initial state prepared in the computational basis state: |0> \n",
    "\n",
    "Task: Output a state which is prepared in the orthogonal state: |1>"
   ]
  },
  {
   "cell_type": "code",
   "execution_count": null,
   "metadata": {},
   "outputs": [],
   "source": [
    "# Initialise an empty circuit: \n",
    "\n",
    "circuit = Program()\n",
    "\n",
    "# The circuit now contains a quantum register in the \n",
    "# state |0>.\n",
    "# Apply a unitary gate (or gates) such that the output state is |1>\n",
    "\n",
    "# circuit += #Apply gates here\n",
    "\n",
    "# You can check if the output state if correct by printing \n",
    "# out the wavefunction of the state using a simulator.\n",
    "make_wf = WavefunctionSimulator()\n",
    "\n",
    "wavefunction = make_wf.wavefunction(circuit)\n",
    "print('The wavefunction is:', wavefunction)\n",
    "\n"
   ]
  },
  {
   "cell_type": "code",
   "execution_count": null,
   "metadata": {},
   "outputs": [],
   "source": [
    "test_bit_flip_unitary(circuit)\n"
   ]
  },
  {
   "cell_type": "markdown",
   "metadata": {},
   "source": [
    "## Challenge 2: \n",
    "Superposition Preparation.\n",
    "\n",
    "### Inputs:\n",
    "Initial state prepared the computational basis state: $|0>$\n",
    "\n",
    "### Task:\n",
    "Prepare the qubit in the *superposition* state: $|+> = \\frac{1}{\\sqrt{2}}\\left(|0> + |1> \\right)$"
   ]
  },
  {
   "cell_type": "code",
   "execution_count": null,
   "metadata": {},
   "outputs": [],
   "source": [
    "# Initialise an empty circuit: \n",
    "\n",
    "circuit = Program()\n",
    "\n",
    "# The circuit now contains a quantum register in the \n",
    "# state |0>.\n",
    "# Apply a unitary gate (or gates) such that the output state is |+>\n",
    "\n",
    "circuit += H(0)\n",
    "\n",
    "# You can check if the output state if correct by printing \n",
    "# out the wavefunction of the state using a simulator.\n",
    "make_wf = WavefunctionSimulator()\n",
    "\n",
    "wavefunction = make_wf.wavefunction(circuit)\n",
    "print('The wavefunction is:', wavefunction)\n"
   ]
  },
  {
   "cell_type": "code",
   "execution_count": null,
   "metadata": {},
   "outputs": [],
   "source": [
    "# Run test to check if correct state was obtained\n",
    "test_superposition_unitary(circuit)"
   ]
  },
  {
   "cell_type": "markdown",
   "metadata": {},
   "source": [
    "## Challenge 3:\n",
    "\n",
    "Reversal Number 1:\n",
    "\n",
    "In this case you will be give a state which is not prepared in the computational \n",
    "basis, instead it is prepared in the _Hadamard basis_, $|+>$\n",
    "\n",
    "### Inputs:\n",
    "Initial state prepared in the basis state: $|+>$\n",
    "\n",
    "### Task:\n",
    "Return state to the computational basis state: $|0>)$\n"
   ]
  },
  {
   "cell_type": "code",
   "execution_count": 1,
   "metadata": {},
   "outputs": [
    {
     "ename": "SyntaxError",
     "evalue": "invalid syntax (<ipython-input-1-2096b3daa565>, line 9)",
     "output_type": "error",
     "traceback": [
      "\u001b[0;36m  File \u001b[0;32m\"<ipython-input-1-2096b3daa565>\"\u001b[0;36m, line \u001b[0;32m9\u001b[0m\n\u001b[0;31m    circuit += #Your code here\u001b[0m\n\u001b[0m                              ^\u001b[0m\n\u001b[0;31mSyntaxError\u001b[0m\u001b[0;31m:\u001b[0m invalid syntax\n"
     ]
    }
   ],
   "source": [
    "# Initialise a |+> state: \n",
    "\n",
    "circuit = plus_prep()\n",
    "\n",
    "# The circuit now contains a quantum register in the \n",
    "# state |+>.\n",
    "# Apply a unitary gate (or gates) such that the output state is |0>\n",
    "\n",
    "circuit += #Your code here\n",
    "\n",
    "# (Again, if you wish you can print out the wavefunction to check how you are doing)"
   ]
  },
  {
   "cell_type": "code",
   "execution_count": null,
   "metadata": {},
   "outputs": [],
   "source": [
    "# Now test that the correct circut has been created\n",
    "test_plus_input_to_zero(circuit)"
   ]
  },
  {
   "cell_type": "markdown",
   "metadata": {},
   "source": [
    "## Challenge 4:\n",
    "\n",
    "Reversal + Flip.\n",
    "\n",
    "\n",
    "### Inputs:\n",
    "Initial state prepared in the basis state: $|+>$\n",
    "\n",
    "### Task:\n",
    "Return state to the *other* computational basis state: $|1>)$\n",
    "\n",
    "Hint: You may need to apply more than one gate"
   ]
  },
  {
   "cell_type": "code",
   "execution_count": null,
   "metadata": {},
   "outputs": [],
   "source": [
    "# Initialise a |-> state: \n",
    "\n",
    "circuit = minus_prep()\n",
    "print(circuit._instructions)\n",
    "# The circuit now contains a quantum register in the \n",
    "# state |-> = 1/\\sqrt(2)(|0> - |1>).\n",
    "# Apply a unitary gate (or gates) such that the output state is |0>\n",
    "\n",
    "circuit += #Your code here"
   ]
  },
  {
   "cell_type": "code",
   "execution_count": 2,
   "metadata": {},
   "outputs": [
    {
     "ename": "NameError",
     "evalue": "name 'test_minus_input_to_one' is not defined",
     "output_type": "error",
     "traceback": [
      "\u001b[0;31m---------------------------------------------------------------------------\u001b[0m",
      "\u001b[0;31mNameError\u001b[0m                                 Traceback (most recent call last)",
      "\u001b[0;32m<ipython-input-2-34542d0c4a82>\u001b[0m in \u001b[0;36m<module>\u001b[0;34m()\u001b[0m\n\u001b[1;32m      1\u001b[0m \u001b[0;31m# Let's test the code again\u001b[0m\u001b[0;34m\u001b[0m\u001b[0;34m\u001b[0m\u001b[0m\n\u001b[0;32m----> 2\u001b[0;31m \u001b[0mtest_minus_input_to_one\u001b[0m\u001b[0;34m(\u001b[0m\u001b[0mcircuit\u001b[0m\u001b[0;34m)\u001b[0m\u001b[0;34m\u001b[0m\u001b[0m\n\u001b[0m",
      "\u001b[0;31mNameError\u001b[0m: name 'test_minus_input_to_one' is not defined"
     ]
    }
   ],
   "source": [
    "# Let's test the code again\n",
    "test_minus_input_to_one(circuit)"
   ]
  }
 ],
 "metadata": {
  "kernelspec": {
   "display_name": "Python 3",
   "language": "python",
   "name": "python3"
  },
  "language_info": {
   "codemirror_mode": {
    "name": "ipython",
    "version": 3
   },
   "file_extension": ".py",
   "mimetype": "text/x-python",
   "name": "python",
   "nbconvert_exporter": "python",
   "pygments_lexer": "ipython3",
   "version": "3.6.5"
  }
 },
 "nbformat": 4,
 "nbformat_minor": 2
}
