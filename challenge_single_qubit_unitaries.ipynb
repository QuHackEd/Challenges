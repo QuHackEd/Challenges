{
 "cells": [
  {
   "cell_type": "markdown",
   "metadata": {},
   "source": [
    "# Challenge: Unitaries\n",
    "\n",
    "## Single qubit unitaries"
   ]
  },
  {
   "cell_type": "markdown",
   "metadata": {},
   "source": [
    "In this challenge, you will have to apply certain unitaries to prepare particular final states"
   ]
  },
  {
   "cell_type": "markdown",
   "metadata": {},
   "source": [
    "Firstly, import the things we will need:"
   ]
  },
  {
   "cell_type": "code",
   "execution_count": 1,
   "metadata": {},
   "outputs": [],
   "source": [
    "from pyquil import Program\n",
    "from pyquil.api import get_qc, WavefunctionSimulator\n",
    "from pyquil.gates import *\n",
    "import numpy as np\n",
    "import os, inspect, sys\n",
    "\n",
    "import sys\n",
    "sys.path.insert(0, 'tests/')\n",
    "\n",
    "from test_single_qubit_unitaries import *\n",
    "\n",
    "from auxiliary_functions.auxiliary_unitaries import plus_prep, minus_prep\n"
   ]
  },
  {
   "cell_type": "markdown",
   "metadata": {},
   "source": [
    "## Challenge 1: \n",
    "Bit flip.\n",
    "\n",
    "Inputs: Initial state prepared in the computational basis state: |0> \n",
    "\n",
    "Task: Output a state which is prepared in the orthogonal state: |1>"
   ]
  },
  {
   "cell_type": "code",
   "execution_count": 2,
   "metadata": {},
   "outputs": [
    {
     "name": "stdout",
     "output_type": "stream",
     "text": [
      "The wavefunction is: (1+0j)|0>\n"
     ]
    }
   ],
   "source": [
    "# Initialise an empty circuit: \n",
    "\n",
    "circuit = Program()\n",
    "\n",
    "# The circuit now contains a quantum register in the \n",
    "# state |0>.\n",
    "# Apply a unitary gate (or gates) such that the output state is |1>\n",
    "\n",
    "# circuit += I(0)\n",
    "\n",
    "# You can check if the output state if correct by printing \n",
    "# out the wavefunction of the state using a simulator.\n",
    "make_wf = WavefunctionSimulator()\n",
    "\n",
    "wavefunction = make_wf.wavefunction(circuit)\n",
    "print('The wavefunction is:', wavefunction)"
   ]
  },
  {
   "cell_type": "code",
   "execution_count": 3,
   "metadata": {},
   "outputs": [
    {
     "name": "stdout",
     "output_type": "stream",
     "text": [
      "Hmm, I'm not sure you have any gates applied to the state. Better add some..\n"
     ]
    }
   ],
   "source": [
    "test_bit_flip_unitary(circuit)\n"
   ]
  },
  {
   "cell_type": "markdown",
   "metadata": {},
   "source": [
    "## Challenge 2: \n",
    "Superposition Preparation.\n",
    "\n",
    "### Inputs:\n",
    "Initial state prepared the computational basis state: $|0>$\n",
    "\n",
    "### Task:\n",
    "Prepare the qubit in the *superposition* state: $|+> = \\frac{1}{\\sqrt{2}}\\left(|0> + |1> \\right)$"
   ]
  },
  {
   "cell_type": "code",
   "execution_count": 4,
   "metadata": {},
   "outputs": [
    {
     "name": "stdout",
     "output_type": "stream",
     "text": [
      "The wavefunction is: (1+0j)|0>\n"
     ]
    }
   ],
   "source": [
    "# Initialise an empty circuit: \n",
    "\n",
    "circuit = Program()\n",
    "\n",
    "# The circuit now contains a quantum register in the \n",
    "# state |0>.\n",
    "# Apply a unitary gate (or gates) such that the output state is |+>\n",
    "\n",
    "# circuit += H(0)\n",
    "\n",
    "# You can check if the output state if correct by printing \n",
    "# out the wavefunction of the state using a simulator.\n",
    "make_wf = WavefunctionSimulator()\n",
    "\n",
    "wavefunction = make_wf.wavefunction(circuit)\n",
    "print('The wavefunction is:', wavefunction)\n"
   ]
  },
  {
   "cell_type": "code",
   "execution_count": 5,
   "metadata": {},
   "outputs": [
    {
     "name": "stdout",
     "output_type": "stream",
     "text": [
      "Hmm, I'm not sure you have any gates applied to the state. Better add some..\n"
     ]
    }
   ],
   "source": [
    "# Run test to check if correct state was obtained\n",
    "test_superposition_unitary(circuit)"
   ]
  },
  {
   "cell_type": "markdown",
   "metadata": {},
   "source": [
    "## Challenge 3:\n",
    "\n",
    "Reversal Number 1:\n",
    "\n",
    "In this case you will be give a state which is not prepared in the computational \n",
    "basis, instead it is prepared in the _Hadamard basis_, $|+>$\n",
    "\n",
    "### Inputs:\n",
    "Initial state prepared in the basis state: $|+>$\n",
    "\n",
    "### Task:\n",
    "Return state to the computational basis state: $|0>)$\n"
   ]
  },
  {
   "cell_type": "code",
   "execution_count": 6,
   "metadata": {},
   "outputs": [],
   "source": [
    "# Initialise a |+> state: \n",
    "circuit = plus_prep()\n",
    "\n",
    "# The circuit now contains a quantum register in the \n",
    "# state |+>.\n",
    "# Apply a unitary gate (or gates) such that the output state is |0>\n",
    "\n",
    "circuit += H(0) #Your code here\n",
    "\n",
    "# (Again, if you wish you can print out the wavefunction to check how you are doing)"
   ]
  },
  {
   "cell_type": "code",
   "execution_count": 7,
   "metadata": {},
   "outputs": [
    {
     "name": "stdout",
     "output_type": "stream",
     "text": [
      "oops, you built the state:\n",
      "(0.7071067812+0j)|0> + (0.7071067812+0j)|1>\n",
      "Perhaps an alternative unitary would work?\n",
      "\n"
     ]
    }
   ],
   "source": [
    "# Now test that the correct circut has been created\n",
    "test_plus_input_to_zero(circuit)"
   ]
  },
  {
   "cell_type": "markdown",
   "metadata": {},
   "source": [
    "## Challenge 4:\n",
    "\n",
    "Reversal + Flip.\n",
    "\n",
    "\n",
    "### Inputs:\n",
    "Initial state prepared in the basis state: $|+>$\n",
    "\n",
    "### Task:\n",
    "Return state to the *other* computational basis state: $|1>)$\n",
    "\n",
    "Hint: You may need to apply more than one gate"
   ]
  },
  {
   "cell_type": "code",
   "execution_count": 9,
   "metadata": {},
   "outputs": [],
   "source": [
    "# Initialise a |-> state: \n",
    "\n",
    "circuit = minus_prep()\n",
    "\n",
    "# The circuit now contains a quantum register in the \n",
    "# state |-> = 1/\\sqrt(2)(|0> - |1>).\n",
    "# Apply a unitary gate (or gates) such that the output state is |0>\n",
    "\n",
    "circuit += #Your code here"
   ]
  },
  {
   "cell_type": "code",
   "execution_count": 10,
   "metadata": {},
   "outputs": [
    {
     "name": "stdout",
     "output_type": "stream",
     "text": [
      "\n",
      "Ah shucks, you made:\n",
      "(1+0j)|1>\n",
      "Maybe you need more gates?\n"
     ]
    }
   ],
   "source": [
    "# Let's test the code again\n",
    "test_minus_input_to_one(circuit)"
   ]
  }
 ],
 "metadata": {
  "kernelspec": {
   "display_name": "Python 3",
   "language": "python",
   "name": "python3"
  },
  "language_info": {
   "codemirror_mode": {
    "name": "ipython",
    "version": 3
   },
   "file_extension": ".py",
   "mimetype": "text/x-python",
   "name": "python",
   "nbconvert_exporter": "python",
   "pygments_lexer": "ipython3",
   "version": "3.6.5"
  }
 },
 "nbformat": 4,
 "nbformat_minor": 2
}
