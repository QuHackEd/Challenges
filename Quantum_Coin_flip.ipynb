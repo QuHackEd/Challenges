{
 "cells": [
  {
   "cell_type": "markdown",
   "metadata": {},
   "source": [
    "# Quantum Coin Flip\n",
    "\n",
    "The quantum coin flip."
   ]
  },
  {
   "cell_type": "markdown",
   "metadata": {},
   "source": [
    "## The Setup\n",
    "\n",
    "First we will have to perform the necessary set up. The Program class is used to build quantum circuits and will need to be imported. The gates that we will use in the circuit will be imported from pyquil.gates while the operations get_qc and local_qvm will be imported from pyquil.api. We will explain these operations as the come up."
   ]
  },
  {
   "cell_type": "code",
   "execution_count": 1,
   "metadata": {},
   "outputs": [],
   "source": [
    "import sys\n",
    "sys.path.insert(0, 'tests/')\n",
    "\n",
    "from pyquil import Program \n",
    "from pyquil.gates import H\n",
    "from QCF_tests import *\n",
    "from pyquil.api import get_qc, local_qvm"
   ]
  },
  {
   "cell_type": "markdown",
   "metadata": {},
   "source": [
    "## The Circuit\n",
    "\n",
    "Now we are ready to build our circuit. We have built an instance of a program an all you will need to do is add a gate to the circuit. You will need a state which is equally likely to be mesured in the $heads =  \\left|  0 \\right\\rangle $ and the $ tails = \\left|  1 \\right\\rangle $ states. Remembering that the qubits start in the $ \\left|  0 \\right\\rangle $ state, can you remember from the lectures how this is done?"
   ]
  },
  {
   "cell_type": "code",
   "execution_count": 2,
   "metadata": {},
   "outputs": [
    {
     "name": "stdout",
     "output_type": "stream",
     "text": [
      "Congratulations, you built the state\n",
      "(0.7071067812+0j)|0> + (0.7071067812+0j)|1>\n"
     ]
    }
   ],
   "source": [
    "prog = Program()\n",
    "\n",
    "prog += H(0) #Your gate\n",
    "\n",
    "test_state(prog)"
   ]
  },
  {
   "cell_type": "markdown",
   "metadata": {},
   "source": [
    "## Measurment\n",
    "\n",
    "Now you have your heads/tails superposition it's time to flip the coin! This is just a matter of measureing the state you have just built. Try running and measuring the state you have just built 100 times. \n",
    "\n",
    "Here we have used get_qc to an instance of a quantum computer with more details on the type of quantum computer you can instantiate found [here](https://pyquil.readthedocs.io/en/stable/apidocs/quantum_computer.html). For now we will only need a 1 qubit quantum virtual machine, called the 1q-qvm."
   ]
  },
  {
   "cell_type": "code",
   "execution_count": 3,
   "metadata": {},
   "outputs": [
    {
     "name": "stdout",
     "output_type": "stream",
     "text": [
      "[0 0 0 1 1 0 1 1 1 1 0 0 0 1 1 0 0 1 1 0 1 1 0 0 1 1 0 1 1 1 1 1 1 1 0 1 1\n",
      " 1 1 1 0 1 1 1 0 1 0 0 0 0 1 1 0 0 0 1 1 1 0 0 0 1 0 1 1 0 1 0 0 0 0 0 0 1\n",
      " 0 0 1 0 0 1 1 1 1 0 1 0 0 0 0 1 1 0 0 1 1 0 1 0 1 1]\n",
      "Congratulations, that looks like a random coin flip. You got 53 tails and 47 heads.\n"
     ]
    }
   ],
   "source": [
    "qc = get_qc(\"1q-qvm\")\n",
    "\n",
    "with local_qvm():\n",
    "    result = qc.run_and_measure(prog, 100)\n",
    "    \n",
    "print(result[0])\n",
    "    \n",
    "test_flips(result)"
   ]
  },
  {
   "cell_type": "markdown",
   "metadata": {},
   "source": [
    "Congratulations! You have just split the universe in two! That is, if you believe the [many worlds interpretation](https://en.wikipedia.org/wiki/Many-worlds_interpretation)..."
   ]
  }
 ],
 "metadata": {
  "kernelspec": {
   "display_name": "Python 3",
   "language": "python",
   "name": "python3"
  },
  "language_info": {
   "codemirror_mode": {
    "name": "ipython",
    "version": 3
   },
   "file_extension": ".py",
   "mimetype": "text/x-python",
   "name": "python",
   "nbconvert_exporter": "python",
   "pygments_lexer": "ipython3",
   "version": "3.6.8"
  }
 },
 "nbformat": 4,
 "nbformat_minor": 2
}
