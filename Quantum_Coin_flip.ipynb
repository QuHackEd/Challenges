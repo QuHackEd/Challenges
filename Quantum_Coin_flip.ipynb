{
 "cells": [
  {
   "cell_type": "markdown",
   "metadata": {},
   "source": [
    "# Quantum Coin Flip"
   ]
  },
  {
   "cell_type": "code",
   "execution_count": 3,
   "metadata": {},
   "outputs": [
    {
     "name": "stdout",
     "output_type": "stream",
     "text": [
      "{0: array([1, 1, 0, 1, 0, 0, 1, 0, 1, 1])}\n"
     ]
    }
   ],
   "source": [
    "from pyquil import Program \n",
    "from pyquil.gates import H\n",
    "from pyquil.api import get_qc, local_qvm\n",
    "\n",
    "qc = get_qc(\"1q-qvm\")\n",
    "\n",
    "prog = Program()\n",
    "\n",
    "prog += H(0)\n",
    "\n",
    "with local_qvm():\n",
    "    print(qc.run_and_measure(prog, 10))"
   ]
  }
 ],
 "metadata": {
  "kernelspec": {
   "display_name": "Python 3",
   "language": "python",
   "name": "python3"
  },
  "language_info": {
   "codemirror_mode": {
    "name": "ipython",
    "version": 3
   },
   "file_extension": ".py",
   "mimetype": "text/x-python",
   "name": "python",
   "nbconvert_exporter": "python",
   "pygments_lexer": "ipython3",
   "version": "3.6.5"
  }
 },
 "nbformat": 4,
 "nbformat_minor": 2
}
