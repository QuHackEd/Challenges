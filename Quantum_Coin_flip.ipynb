{
 "cells": [
  {
   "cell_type": "markdown",
   "metadata": {},
   "source": [
    "# Quantum Coin Flip\n",
    "\n",
    "The quantum coin flip."
   ]
  },
  {
   "cell_type": "markdown",
   "metadata": {},
   "source": [
    "## The Setup\n",
    "\n",
    "First we will have to perform the necessary set up. We will explain these operations as the come up and you won't need to add anything here."
   ]
  },
  {
   "cell_type": "code",
   "execution_count": 17,
   "metadata": {},
   "outputs": [],
   "source": [
    "import sys\n",
    "sys.path.insert(0, 'tests/')\n",
    "\n",
    "from QCF_tests import test_state, test_flips\n",
    "from pyquil import Program \n",
    "from pyquil.gates import *\n",
    "from pyquil.api import get_qc, local_qvm"
   ]
  },
  {
   "cell_type": "markdown",
   "metadata": {},
   "source": [
    "## The Circuit\n",
    "\n",
    "Now we are ready to build our circuit. We have built an instance of a program an all you will need to do is add a gate to the circuit. You will need a state which is equally likely to be mesured in the $heads =  \\left|  0 \\right\\rangle $ and the $ tails = \\left|  1 \\right\\rangle $ states. Remembering that the qubits start in the $ \\left|  0 \\right\\rangle $ state, can you remember from the lectures how this is done?"
   ]
  },
  {
   "cell_type": "code",
   "execution_count": 18,
   "metadata": {},
   "outputs": [
    {
     "name": "stdout",
     "output_type": "stream",
     "text": [
      "oops, you built the state\n",
      "(1+0j)|1>\n"
     ]
    }
   ],
   "source": [
    "prog = Program()\n",
    "\n",
    "prog += X(0)\n",
    "\n",
    "test_state(prog)"
   ]
  },
  {
   "cell_type": "markdown",
   "metadata": {},
   "source": [
    "## Measurement\n",
    "\n",
    "Now you have your heads/tails superposition it's time to flip the coin! This is just a matter of measureing the state you have just built. Try running and measuring the state you have just built 100 times. \n",
    "\n",
    "Here we have used get_qc to create an instance of a quantum computer. More details on the type of quantum computer you can instantiate found [here](https://pyquil.readthedocs.io/en/stable/apidocs/quantum_computer.html). For now we will only need a 1 qubit quantum virtual machine, called the 1q-qvm.\n",
    "\n",
    "local_qvm() starts up the necessary compilers and simulators needed for the computation to run."
   ]
  },
  {
   "cell_type": "code",
   "execution_count": 29,
   "metadata": {},
   "outputs": [
    {
     "name": "stdout",
     "output_type": "stream",
     "text": [
      "[0 0 1 0 1 0 1 1 0 1]\n",
      "oops, those statistics don't look right... I could just be that you got a disproportionately high number of heads or tails though. Try a couple more times.\n"
     ]
    }
   ],
   "source": [
    "qc = get_qc(\"1q-qvm\")\n",
    "\n",
    "with local_qvm():\n",
    "    result = qc.run_and_measure(prog, 10)\n",
    "    \n",
    "print(result[0])\n",
    "    \n",
    "test_flips(result)"
   ]
  },
  {
   "cell_type": "markdown",
   "metadata": {},
   "source": [
    "Congratulations! You have just split the universe in two! That is, if you believe the [many worlds interpretation](https://en.wikipedia.org/wiki/Many-worlds_interpretation)..."
   ]
  }
 ],
 "metadata": {
  "kernelspec": {
   "display_name": "Python 3",
   "language": "python",
   "name": "python3"
  },
  "language_info": {
   "codemirror_mode": {
    "name": "ipython",
    "version": 3
   },
   "file_extension": ".py",
   "mimetype": "text/x-python",
   "name": "python",
   "nbconvert_exporter": "python",
   "pygments_lexer": "ipython3",
   "version": "3.6.5"
  }
 },
 "nbformat": 4,
 "nbformat_minor": 2
}
