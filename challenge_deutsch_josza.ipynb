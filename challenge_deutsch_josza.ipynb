{
 "cells": [
  {
   "cell_type": "markdown",
   "metadata": {},
   "source": [
    "# Challenge: The famous Deutsch-Josza Algorithm\n",
    "\n",
    "\n",
    "In this challenge, you will implement the [Deutsch-Josza Algorithm](https://royalsocietypublishing.org/doi/abs/10.1098/rspa.1992.0167), one of the \n",
    "first algorithms which was developed to show an exponential improvement over all classical \n",
    "algorithms for a particular task.\n",
    "\n",
    "### Problem:\n",
    "You are given a function, $f(x)$, and told that this function is either:\n",
    "* *constant* on all inputs x - Meaning $f(x) = 0$ **or** $f(x) = 1$, $\\forall x \\in \\{0, 1\\}^{n}$\n",
    "or\n",
    "* *balanced* -  Meaning $f(x) = 0$ for **exactly** half the inputs x, and $f(x) = 1$ for the other half.\n",
    "\n",
    "You have to determine which of the above describes the function $f$.\n",
    "(Note: Since you are given the promise, $f$ falls *exactly* into one of the categories above, it cannot be \n",
    "anything else.)\n"
   ]
  },
  {
   "cell_type": "markdown",
   "metadata": {},
   "source": [
    "## Step 1\n",
    "\n",
    "For this we must use $n$ qubits, and one extra qubit, an *ancilla*.\n",
    "\n",
    "The first $n$ qubits are initialised in the state $|0\\rangle$, while the ancilla is in the \n",
    "state $|1\\rangle$.\n",
    "\n",
    "### Task:\n",
    "Prepare a circuit (program) which prepares the following state:\n",
    "$|0\\rangle^{\\otimes n}|1\\rangle$\n",
    "\n",
    "(Take $n=3$ for this example)"
   ]
  },
  {
   "cell_type": "code",
   "execution_count": 6,
   "metadata": {},
   "outputs": [],
   "source": [
    "from pyquil import Program\n",
    "from pyquil.api import get_qc, WavefunctionSimulator, local_qvm\n",
    "import numpy as np\n",
    "\n",
    "# Import the other required things you may need here (gates):\n",
    "\n",
    "from pyquil.gates import *\n",
    " \n",
    "make_wf = WavefunctionSimulator()"
   ]
  },
  {
   "cell_type": "code",
   "execution_count": 3,
   "metadata": {},
   "outputs": [],
   "source": [
    "n_qubits = 2\n",
    "circuit = Program()\n",
    "\n",
    "# We will use a 2+1 = 3q-qvm for this example:\n",
    "\n",
    "qc = get_qc('{}q-qvm'.format(n_qubits+1))\n",
    "\n",
    "qubits = qc.qubits()\n",
    "# It is simpler to pick your device first, and then \n",
    "# deal with the qubits it provides\n",
    "\n",
    "# circuit += # Add code here\n",
    "circuit += X(2)"
   ]
  },
  {
   "cell_type": "markdown",
   "metadata": {},
   "source": [
    "## Task\n",
    "Now, apply Hadamards to ***all*** qubits:"
   ]
  },
  {
   "cell_type": "code",
   "execution_count": 4,
   "metadata": {},
   "outputs": [],
   "source": [
    "# Add code here\n",
    "circuit += H(0)\n",
    "circuit += H(1)\n",
    "circuit += H(2)"
   ]
  },
  {
   "cell_type": "markdown",
   "metadata": {},
   "source": [
    "We will need to construct the unitary which implements the oracle, which is defined by:\n",
    "\n",
    "$|x\\rangle|y\\rangle \\rightarrow |x\\rangle|y\\oplus f(x)\\rangle$\n",
    "\n",
    "Where $f(x)$ is the function we wish to check is constant or balanced.\n",
    "\n",
    "We will have to explicitly construct the function in this example in order to work with it, but the point\n",
    "of the oracle in general is to abstract the function as some black box."
   ]
  },
  {
   "cell_type": "code",
   "execution_count": 87,
   "metadata": {},
   "outputs": [],
   "source": [
    "# Define a balanced function over two qubits as an example:\n",
    "f = {'00':1, '01': 0, '10': 1, '11':0} # f = 0 for half the inputs, and f = 1 for the other half."
   ]
  },
  {
   "cell_type": "markdown",
   "metadata": {},
   "source": [
    "We will step through in detail the process for constructing the oracle:\n",
    "\n",
    "This function has the following action on the 'inputs':\n",
    "\n",
    "\\begin{align}\n",
    "f(00) &= 1\\\\\n",
    "f(01) &= 0\\\\\n",
    "f(10) &= 1\\\\\n",
    "f(11) &= 0\n",
    "\\end{align}\n",
    "\n",
    "Therefore, we can see how it behaves with the 8 possible computational basis states of 3 qubits:\n",
    "$\\left\\{|000\\rangle, |010\\rangle, |100\\rangle, |110\\rangle, |001\\rangle, |011\\rangle, |101\\rangle, |111\\rangle\\right\\}$.\n",
    "\n",
    "Where the third qubit (qubit \\#2) is the carries the value, $y$:\n",
    "\\begin{align}\n",
    "|000\\rangle &\\rightarrow |00(0\\oplus f(00))\\rangle = |001\\rangle \\\\\n",
    "|010\\rangle &\\rightarrow |01(0\\oplus f(01))\\rangle = |011\\rangle\\\\\n",
    "|100\\rangle &\\rightarrow |10(0\\oplus f(10))\\rangle = |101\\rangle\\\\\n",
    "|110\\rangle &\\rightarrow |11(0\\oplus f(11))\\rangle = |111\\rangle\\\\\n",
    "|001\\rangle &\\rightarrow |00(1\\oplus f(00))\\rangle = |000\\rangle\\\\\n",
    "|011\\rangle &\\rightarrow |01(1\\oplus f(01))\\rangle = |011\\rangle\\\\\n",
    "|101\\rangle &\\rightarrow |10(1\\oplus f(10))\\rangle = |100\\rangle\\\\\n",
    "|111\\rangle &\\rightarrow |11(1\\oplus f(11))\\rangle = |111\\rangle\\\\\n",
    "\\end{align}\n",
    "\n",
    "\n",
    "You can check that the unitary which does this transformation is given by:\n",
    "\\begin{align}\n",
    "U_f = \\left(\n",
    "\\begin{array}{cccccccc}\n",
    "0 & 1 & 0& 0& 0 & 0 & 0 & 0 \\\\\n",
    "1 & 0 & 0& 0& 0 & 0 & 0 & 0 \\\\\n",
    "0 & 0 & 1& 0& 0 & 0 & 0 & 0 \\\\\n",
    "0 & 0& 0& 1& 0 & 0 & 0 & 0 \\\\\n",
    "0 & 0 & 0& 0& 0 & 1 & 0 & 0 \\\\\n",
    "0 & 0 & 0& 0& 1 & 0 & 0 & 0 \\\\\n",
    "0 & 0 & 0& 0& 0 & 0 & 1 & 0 \\\\\n",
    "0 & 0 & 0& 0& 0 & 0 & 0 & 1 \n",
    "\\end{array}\\right)\n",
    "\\end{align}"
   ]
  },
  {
   "cell_type": "markdown",
   "metadata": {},
   "source": [
    "Now, this will not be a native gate in PyQuil, so we will have to define it manually.\n",
    "\n",
    "*Note: You could decompose this gate into single and two qubit gates to implement directly, but for now we will just implement it manually as a single gate.*"
   ]
  },
  {
   "cell_type": "code",
   "execution_count": 7,
   "metadata": {},
   "outputs": [],
   "source": [
    "from pyquil.quil import DefGate # Import the function that allows us to define our own gates manually\n",
    "oracle_gate = np.array([ \n",
    "                        [0, 1, 0, 0, 0, 0, 0, 0],\\\n",
    "                        [1, 0, 0, 0, 0, 0, 0, 0], \\\n",
    "                        [0, 0, 1, 0, 0, 0, 0, 0],\\\n",
    "                        [0, 0, 0, 1, 0, 0, 0, 0],\\\n",
    "                        [0, 0, 0, 0, 0, 1, 0, 0],\\\n",
    "                        [0, 0, 0, 0, 1, 0, 0, 0],\\\n",
    "                        [0, 0, 0, 0, 0, 0, 1, 0],\\\n",
    "                        [0, 0, 0, 0, 0, 0, 0, 1]] )\n",
    "\n",
    "\n",
    "oracle_gate_definition = DefGate(\"ORACLE_GATE\", oracle_gate) # This will define the gate for use\n",
    "ORACLE_GATE = oracle_gate_definition.get_constructor()"
   ]
  },
  {
   "cell_type": "markdown",
   "metadata": {},
   "source": [
    "Now apply the oracle to the circuit just like [this](http://docs.rigetti.com/en/stable/basics.html):"
   ]
  },
  {
   "cell_type": "code",
   "execution_count": 8,
   "metadata": {},
   "outputs": [],
   "source": [
    "circuit += oracle_gate_definition\n",
    "circuit += ORACLE_GATE(0, 1, 2)\n"
   ]
  },
  {
   "cell_type": "markdown",
   "metadata": {},
   "source": [
    "## Task:\n",
    "Finally, apply Hadamard gates to all qubits ***except*** the ancilla"
   ]
  },
  {
   "cell_type": "code",
   "execution_count": 9,
   "metadata": {},
   "outputs": [],
   "source": [
    "# circuit += # Add gates here"
   ]
  },
  {
   "cell_type": "markdown",
   "metadata": {},
   "source": [
    "Now measure the '*input*' qubits in the computational basis. Don't forget to add memory for each one\n",
    "\n",
    "*Note: Before you measure, why don't you try printing out the wavefunction? The probability of getting the zero outcome, $|0\\rangle^{\\otimes n}$ will tell us whether the function is constant or balanced:*\n",
    "\\begin{align}\n",
    "\\Pr\\left(|State\\rangle = |0\\rangle^{\\otimes n}\\right) = \n",
    "\\begin{cases}\n",
    "0 \\implies f(x) \\text{ is balanced }\\\\\n",
    "1 \\implies f(x) \\text{ is constant }\n",
    "\\end{cases}\n",
    "\\end{align}"
   ]
  },
  {
   "cell_type": "code",
   "execution_count": 10,
   "metadata": {},
   "outputs": [
    {
     "name": "stdout",
     "output_type": "stream",
     "text": [
      "DEFGATE ORACLE_GATE:\n",
      "    0, 1, 0, 0, 0, 0, 0, 0\n",
      "    1, 0, 0, 0, 0, 0, 0, 0\n",
      "    0, 0, 1, 0, 0, 0, 0, 0\n",
      "    0, 0, 0, 1, 0, 0, 0, 0\n",
      "    0, 0, 0, 0, 0, 1, 0, 0\n",
      "    0, 0, 0, 0, 1, 0, 0, 0\n",
      "    0, 0, 0, 0, 0, 0, 1, 0\n",
      "    0, 0, 0, 0, 0, 0, 0, 1\n",
      "\n",
      "X 2\n",
      "H 0\n",
      "H 1\n",
      "H 2\n",
      "ORACLE_GATE 0 1 2\n",
      "H 0\n",
      "H 1\n",
      "DECLARE ro BIT[2]\n",
      "MEASURE 0 ro[0]\n",
      "MEASURE 1 ro[1]\n",
      "\n"
     ]
    }
   ],
   "source": [
    "ro = circuit.declare('ro', 'BIT', n_qubits)\n",
    "for qubit in range(n_qubits):\n",
    "    circuit += MEASURE(qubits[qubit], ro[qubit])\n",
    "print(circuit)"
   ]
  },
  {
   "cell_type": "markdown",
   "metadata": {},
   "source": [
    "Print out the wavefunction and check by eye what the probability of getting $|0\\rangle^{\\otimes n}$ is:\n",
    "\n",
    "*Note: Pyquil uses the [little-endian](https://en.wikipedia.org/wiki/Gulliver%27s_Travels) notation so you will read the wavefunction back-to-front, i.e. $|0010\\rangle$ indicates that qubits 0, 2 and 3 are in the state $|0\\rangle$, while it is qubit **1** which is in the state $|1\\rangle$. This is the reverse ordering to what is standard: where $|0010\\rangle$ means qubit **2** is in the state $|1\\rangle$. This just means you need to reverse the ordering of qubits when looking at a wavefunction to get the 'standard' ordering.*\n",
    "\n",
    "*The reasoning behind this can be seen [here](https://arxiv.org/abs/1711.02086).*"
   ]
  },
  {
   "cell_type": "code",
   "execution_count": 11,
   "metadata": {},
   "outputs": [
    {
     "name": "stdout",
     "output_type": "stream",
     "text": [
      "(-0.7071067812+0j)|010> + (0.7071067812+0j)|110>\n"
     ]
    }
   ],
   "source": [
    "# Add code here\n",
    "wavefunc = make_wf.wavefunction(circuit)\n",
    "print(wavefunc)"
   ]
  },
  {
   "cell_type": "markdown",
   "metadata": {},
   "source": [
    "Now run and measure the circuit a few times and compute the probability of getting the all-zero string\n",
    "\n",
    "*Hint: it should be **exactly** zero since the function is balanced*\n"
   ]
  },
  {
   "cell_type": "code",
   "execution_count": 84,
   "metadata": {},
   "outputs": [],
   "source": [
    "# Add code here"
   ]
  },
  {
   "cell_type": "markdown",
   "metadata": {},
   "source": [
    "# Task: \n",
    "\n",
    "Determine if the following function is constant or balanced:\n",
    "\n",
    "\n",
    "\\begin{align}\n",
    "f(00) &= 1\\\\\n",
    "f(01) &= 1\\\\\n",
    "f(10) &= 1\\\\\n",
    "f(11) &= 1\n",
    "\\end{align}\n",
    "\n",
    "\n",
    "*Of course it is constant, $(f(x) = 1 \\forall x)$, but write the quantum algorithm which shows this. Specifically, you will have to create the correct oracle.*"
   ]
  },
  {
   "cell_type": "code",
   "execution_count": null,
   "metadata": {},
   "outputs": [],
   "source": [
    "circuit = Program()\n",
    "# Add code here"
   ]
  }
 ],
 "metadata": {
  "kernelspec": {
   "display_name": "Python 3",
   "language": "python",
   "name": "python3"
  },
  "language_info": {
   "codemirror_mode": {
    "name": "ipython",
    "version": 3
   },
   "file_extension": ".py",
   "mimetype": "text/x-python",
   "name": "python",
   "nbconvert_exporter": "python",
   "pygments_lexer": "ipython3",
   "version": "3.6.5"
  }
 },
 "nbformat": 4,
 "nbformat_minor": 2
}
