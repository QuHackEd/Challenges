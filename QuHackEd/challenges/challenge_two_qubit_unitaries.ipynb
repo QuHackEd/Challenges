{
 "cells": [
  {
   "cell_type": "markdown",
   "metadata": {},
   "source": [
    "# Challenge: Unitaries 2\n",
    "\n",
    "## Two Qubit Unitaries\n",
    "\n",
    "In this challenge, you will create states composed of more that a single qubit.\n",
    "You will need to use one and two qubit unitary gates to produce certain states.\n",
    "\n",
    "You will learn how to use Controlled Gates, such as the Controlled Z Gate (CZ), \n",
    "Controlled X Gate (CNOT) for example. \n",
    "\n",
    "We will also encounter entanglement for the first time.\n"
   ]
  },
  {
   "cell_type": "markdown",
   "metadata": {},
   "source": [
    "Let's import the important things first:\n"
   ]
  },
  {
   "cell_type": "code",
   "execution_count": null,
   "metadata": {},
   "outputs": [],
   "source": [
    "from pyquil import Program\n",
    "from pyquil.api import get_qc, WavefunctionSimulator\n",
    "from pyquil.gates import *\n",
    "import os, inspect, sys\n",
    "\n",
    "module_path = os.path.abspath(os.path.join('..'))\n",
    "if module_path not in sys.path:\n",
    "    sys.path.append(module_path)\n",
    "\n",
    "from tests.test_two_qubit_unitaries import *\n",
    "\n",
    "from auxiliary_functions.auxiliary_unitaries import plus_prep, minus_prep\n"
   ]
  },
  {
   "cell_type": "markdown",
   "metadata": {},
   "source": [
    "# Challenge: For whom the Bell tolls.\n",
    "\n",
    "We will create a Bell state (the canonical one) whose state is given by:\n",
    "$\\left|\\phi^+\\right> = \\frac{1}{\\sqrt{2}}\\left(\\left|00\\right> + \\left|11\\right>\\right)$. \n",
    "\n",
    "This state is *maximally* entangled, which means that this two qubit state **cannot**\n",
    "be written as a product of *any* two single qubit gates, e.g. $\\left|\\phi_1\\right> \\otimes \\left|\\phi_2\\right>$ \n",
    "\n",
    "This has the effect that the measurement outcomes of each qubit are completely correlated, which we shall see in\n",
    "the Measurement Challenges."
   ]
  },
  {
   "cell_type": "code",
   "execution_count": null,
   "metadata": {},
   "outputs": [],
   "source": []
  }
 ],
 "metadata": {
  "kernelspec": {
   "display_name": "Python 3",
   "language": "python",
   "name": "python3"
  },
  "language_info": {
   "codemirror_mode": {
    "name": "ipython",
    "version": 3
   },
   "file_extension": ".py",
   "mimetype": "text/x-python",
   "name": "python",
   "nbconvert_exporter": "python",
   "pygments_lexer": "ipython3",
   "version": "3.6.5"
  }
 },
 "nbformat": 4,
 "nbformat_minor": 2
}
