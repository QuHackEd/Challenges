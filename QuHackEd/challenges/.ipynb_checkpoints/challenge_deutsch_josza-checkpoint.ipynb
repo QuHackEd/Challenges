{
 "cells": [
  {
   "cell_type": "markdown",
   "metadata": {},
   "source": [
    "# Challenge: The Infamous Deutsch Josza Algorithm\n",
    "\n",
    "\n",
    "In this challenge, you will implement the Deutsch Josza Algorithm, one of the \n",
    "first algorithms which was developed to show an exponential improvement over a classical \n",
    "task.\n",
    "\n",
    "### Problem:\n",
    "You are given a function, $f(x)$, and told that this function is either:\n",
    "* *constant* on all inputs x - Meaning $f(x) = 0$ **or** $f(x) = 1$, $\\forall x \\in \\{0, 1\\}^{n}$\n",
    "or\n",
    "* *balanced* -  Meaning $f(x) = 0$ for **exactly** half the inputs x, and $f(x) = 1$ for the other half.\n",
    "\n",
    "You have to determine which of the above describes the function $f$.\n",
    "(Note: Since you are given the promise, $f$ falls *exactly* into one of the categories above, it cannot be \n",
    "anything else.)\n"
   ]
  },
  {
   "cell_type": "markdown",
   "metadata": {},
   "source": [
    "## Step 1\n",
    "\n",
    "For this we must use $n$ qubits, and one extra qubit, an *ancilla*.\n",
    "\n",
    "The first $n$ qubits are initialised in the state $|0\\rangle$, while the ancilla is in the \n",
    "state $|1\\rangle$.\n",
    "\n",
    "#### Task\n",
    "Prepare a circuit (program) which prepares the following state:\n",
    "$|0\\rangle^{\\otimes n}|1\\rangle$\n",
    "\n",
    "(Take $n=5$ for this example"
   ]
  },
  {
   "cell_type": "code",
   "execution_count": null,
   "metadata": {},
   "outputs": [],
   "source": [
    "from pyquil import Program\n",
    "from pyquil.api import get_qc\n",
    "# Import the other required things you may need here:\n"
   ]
  },
  {
   "cell_type": "code",
   "execution_count": null,
   "metadata": {},
   "outputs": [],
   "source": [
    "n_qubits = 5\n",
    "circuit = Program()\n",
    "\n",
    "# We will use a 5+1 = 6q-qvm for this example:\n",
    "\n",
    "qc = get_qc('6q-qvm')\n",
    "\n",
    "# It is simpler to pick your device first, and then \n",
    "# deal with the qubits it provides\n"
   ]
  }
 ],
 "metadata": {
  "kernelspec": {
   "display_name": "Python 3",
   "language": "python",
   "name": "python3"
  },
  "language_info": {
   "codemirror_mode": {
    "name": "ipython",
    "version": 3
   },
   "file_extension": ".py",
   "mimetype": "text/x-python",
   "name": "python",
   "nbconvert_exporter": "python",
   "pygments_lexer": "ipython3",
   "version": "3.6.5"
  }
 },
 "nbformat": 4,
 "nbformat_minor": 2
}
