{
 "cells": [
  {
   "cell_type": "markdown",
   "metadata": {},
   "source": [
    "# Challenge: Unitaries"
   ]
  },
  {
   "cell_type": "markdown",
   "metadata": {},
   "source": [
    "In this challenge, you will have to apply certain unitaries to prepare particular final states"
   ]
  },
  {
   "cell_type": "markdown",
   "metadata": {},
   "source": [
    "Firstly, import the things we will need:"
   ]
  },
  {
   "cell_type": "code",
   "execution_count": 1,
   "metadata": {},
   "outputs": [
    {
     "name": "stdout",
     "output_type": "stream",
     "text": [
      "['', '/home/brian/anaconda3/lib/python36.zip', '/home/brian/anaconda3/lib/python3.6', '/home/brian/anaconda3/lib/python3.6/lib-dynload', '/home/brian/.local/lib/python3.6/site-packages', '/home/brian/anaconda3/lib/python3.6/site-packages', '/home/brian/anaconda3/lib/python3.6/site-packages/nisqai-0.0.1-py3.6.egg', '/home/brian/anaconda3/lib/python3.6/site-packages/IPython/extensions', '/home/brian/.ipython', '/home/brian/Python_Codes/quhacked/QuHackEd/challenges']\n"
     ]
    },
    {
     "ename": "ModuleNotFoundError",
     "evalue": "No module named 'tests.test_unitaries'",
     "output_type": "error",
     "traceback": [
      "\u001b[0;31m---------------------------------------------------------------------------\u001b[0m",
      "\u001b[0;31mModuleNotFoundError\u001b[0m                       Traceback (most recent call last)",
      "\u001b[0;32m<ipython-input-1-b5322cc8385b>\u001b[0m in \u001b[0;36m<module>\u001b[0;34m()\u001b[0m\n\u001b[1;32m     13\u001b[0m     \u001b[0msys\u001b[0m\u001b[0;34m.\u001b[0m\u001b[0mpath\u001b[0m\u001b[0;34m.\u001b[0m\u001b[0mappend\u001b[0m\u001b[0;34m(\u001b[0m\u001b[0mmodule_path\u001b[0m\u001b[0;34m)\u001b[0m\u001b[0;34m\u001b[0m\u001b[0m\n\u001b[1;32m     14\u001b[0m \u001b[0mprint\u001b[0m\u001b[0;34m(\u001b[0m\u001b[0msys\u001b[0m\u001b[0;34m.\u001b[0m\u001b[0mpath\u001b[0m\u001b[0;34m)\u001b[0m\u001b[0;34m\u001b[0m\u001b[0m\n\u001b[0;32m---> 15\u001b[0;31m \u001b[0;32mfrom\u001b[0m \u001b[0mtests\u001b[0m\u001b[0;34m.\u001b[0m\u001b[0mtest_unitaries\u001b[0m \u001b[0;32mimport\u001b[0m \u001b[0mtest_superpostion_unitary\u001b[0m\u001b[0;34m\u001b[0m\u001b[0m\n\u001b[0m",
      "\u001b[0;31mModuleNotFoundError\u001b[0m: No module named 'tests.test_unitaries'"
     ]
    }
   ],
   "source": [
    "from pyquil import Program\n",
    "from pyquil.api import get_qc, WavefunctionSimulator\n",
    "from pyquil.gates import *\n",
    "import os, inspect, sys\n",
    "# currentdir = os.path.dirname(os.path.abspath(inspect.getfile(inspect.currentframe())))\n",
    "# parentdir = os.path.dirname(currentdir)\n",
    "# sys.path.insert(0,parentdir)\n",
    "# # sys.path.insert(0, 'tests/')\n",
    "# # sys.path.append(\"..\")\n",
    "# print(sys.path)\n",
    "module_path = os.path.abspath(os.path.join('..'))\n",
    "if module_path not in sys.path:\n",
    "    sys.path.append(module_path)\n",
    "print(sys.path)\n",
    "from tests.test_unitaries import test_superpostion_unitary\n"
   ]
  },
  {
   "cell_type": "markdown",
   "metadata": {},
   "source": [
    "## Challenge 1: \n",
    "Bit flip.\n",
    "\n",
    "Inputs: Initial state prepared in the computational basis state: |0> \n",
    "\n",
    "Task: Output a state which is prepared in the orthogonal state: |1>"
   ]
  },
  {
   "cell_type": "code",
   "execution_count": null,
   "metadata": {},
   "outputs": [],
   "source": [
    "# Initialise an empty circuit: \n",
    "\n",
    "circuit = Program()\n",
    "\n",
    "# The circuit now contains a quantum register in the \n",
    "# state |0>.\n",
    "# Apply a unitary gate (or gates) such that the output state is |1>\n",
    "\n",
    "# circuit += #Apply gates here\n",
    "\n",
    "# You can check if the output state if correct by printing \n",
    "# out the wavefunction of the state using a simulator.\n",
    "make_wf = WavefunctionSimulator()\n",
    "\n",
    "wavefunction = make_wf.wavefunction(circuit)\n",
    "print('The wavefunction is:', wavefunction)"
   ]
  },
  {
   "cell_type": "markdown",
   "metadata": {},
   "source": [
    "## Challenge 2: \n",
    "Superposition Preparation.\n",
    "\n",
    "Inputs: Initial state prepared the computational basis state: $|0>$\n",
    "\n",
    "Task: Prepare the qubit in the *superposition* state: $|+> = \\frac{1}{\\sqrt{2}}\\left(|0> + |1> \\right)$"
   ]
  },
  {
   "cell_type": "code",
   "execution_count": null,
   "metadata": {},
   "outputs": [],
   "source": [
    "# Initialise an empty circuit: \n",
    "\n",
    "circuit = Program()\n",
    "\n",
    "# The circuit now contains a quantum register in the \n",
    "# state |0>.\n",
    "# Apply a unitary gate (or gates) such that the output state is |+>\n",
    "\n",
    "circuit += H(0)\n",
    "\n",
    "# You can check if the output state if correct by printing \n",
    "# out the wavefunction of the state using a simulator.\n",
    "make_wf = WavefunctionSimulator()\n",
    "\n",
    "wavefunction = make_wf.wavefunction(circuit)\n",
    "print('The wavefunction is:', wavefunction)\n"
   ]
  },
  {
   "cell_type": "code",
   "execution_count": null,
   "metadata": {},
   "outputs": [],
   "source": []
  }
 ],
 "metadata": {
  "kernelspec": {
   "display_name": "Python 3",
   "language": "python",
   "name": "python3"
  },
  "language_info": {
   "codemirror_mode": {
    "name": "ipython",
    "version": 3
   },
   "file_extension": ".py",
   "mimetype": "text/x-python",
   "name": "python",
   "nbconvert_exporter": "python",
   "pygments_lexer": "ipython3",
   "version": "3.6.5"
  }
 },
 "nbformat": 4,
 "nbformat_minor": 2
}
