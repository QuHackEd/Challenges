{
 "cells": [
  {
   "cell_type": "markdown",
   "metadata": {},
   "source": [
    "# Advanced Challenge: Variational Quantum Unsampling\n",
    "\n",
    "Here we provide you some introductory material to get you started on the main challenge, \n",
    "the results of which you will be presenting tomorrow.\n",
    "\n",
    "In this challenge, you will be investigating a recently defined algorithm,\n",
    "called 'Variational Quanutm Unsampling' \n",
    "\n",
    "(https://arxiv.org/abs/1904.10463)\n",
    "\n",
    "This is a variational algorithm, whose goal is to determine which process created a particular \n",
    "quantum state which is fed into it.\n",
    "\n",
    "Essentially, it tries to determine some unitary, $U$, which created the state:\n",
    "\n",
    "$\\left|\\psi_{\\text{out}}\\right> = U\\left|\\psi_{\\text{in}}\\right>$\n",
    "\n",
    "when applied to some (known) reference state, $\\left|\\psi_{\\text{in}}\\right>$\n",
    "\n",
    "The algorithm does this by applying some parameterised unitary operation, $V(\\theta)$, on the state $\\left|\\psi_{\\text{out}}\\right>$ in order to return it to the reference state, $\\left|\\psi_{\\text{in}}\\right>$. In other words, it attempts to find the inverse of the target unitary, $U$, such that:\n",
    "\n",
    "$\\left|\\psi_{\\text{in}}\\right> =  V(\\theta)U\\left|\\psi_{\\text{in}}\\right>$\n",
    "\n",
    "This is achieved by minimising some cost function, relative to the parameters, $\\theta$, which describes the discrepancy between the target, and the current state of the system at any point during the optimisation procedure."
   ]
  },
  {
   "cell_type": "markdown",
   "metadata": {},
   "source": [
    "First import the usual things:"
   ]
  },
  {
   "cell_type": "code",
   "execution_count": 1,
   "metadata": {},
   "outputs": [],
   "source": [
    "from pyquil import Program\n",
    "from pyquil.api import get_qc, WavefunctionSimulator, local_qvm\n",
    "from pyquil.gates import *\n",
    "import numpy as np\n",
    "import os, inspect, sys\n",
    "\n",
    "import sys\n",
    "sys.path.insert(0, 'tests/')\n",
    "\n",
    "make_wf = WavefunctionSimulator()"
   ]
  },
  {
   "cell_type": "markdown",
   "metadata": {},
   "source": [
    "# Practicalities:\n",
    "\n",
    "Actually optimising the parameters, $\\theta$, of an $n$-qubit state properly would be extremely difficult, if all the measurements were performed at the end. \n",
    "\n",
    "Instead a solution is to break the unitary, $V(\\theta)$ into a number of smaller unitaries:\n",
    "\n",
    "$V_n(\\vec{\\theta}_n), V_{n-1}(\\vec{\\theta}_{n-1}), \\dots V_1(\\vec{\\theta}_1)$, where $V_i$ acts on $i$ qubits only.\n",
    "\n",
    "After **each** unitary is performed, a *single* qubit is measured, and the measurement results are used to optimise the parameters of said unitary.\n"
   ]
  },
  {
   "cell_type": "markdown",
   "metadata": {},
   "source": [
    "# Loss Function\n",
    "\n",
    "As is standard in Machine Learning, we must define some loss function to determine how well we are doing during training.\n",
    "\n",
    "In this case, the loss function will tell us how close the output was to the input, measured by the inner product of the two states.\n",
    "\n",
    "Firslty, imagine we did not break up the unitary, $V(\\theta)$, which evolved the output states, $\\left|\\psi_{out}\\right>$, to some final state:\n",
    "\n",
    "$\\left|\\phi\\right> = V(\\theta)\\left|\\psi_{\\text{out}}\\right>$\n",
    "\n",
    "In this case, we want to see how well we are doing, by measuring the *squared overlap* between the states $\\left|\\phi\\right>$ and the target state, $\\left|\\psi_{\\text{in}}\\right>$:\n",
    "\n",
    "$L = 1 - \\left|\\left<\\phi|\\psi_{\\text{out}}\\right>\\right|^2$.\n",
    "\n",
    "This is the same as taking the *inner product* between the vectors $\\left|\\phi\\right>, \\left|\\psi_{\\text{out}}\\right>$. If these vectors are identical, i.e. $\\left|\\phi\\right> = \\left|\\psi_{\\text{out}}\\right>$, then their inner product will be $1$.\n",
    "In this case, the above cost function, $L$, will be $0$ and we have achieved an optimal minimum.\n",
    "\n",
    "Unfortunately, as mentioned above, this overlap may be exponentially small, i.e. the probability of ending in the\n",
    "state $\\left|\\psi_{\\text{in}}\\right>$ may be very small, especially as the number of qubits grows.\n",
    "\n",
    "A solution is to break up the unitary to the smaller ones above, and sequentially minimise a *sequence* of loss functions,one for each qubit that is measured.\n",
    "\n",
    "For example, if we assume that our input state was a product state: $|\\vec{\\alpha}\\rangle = |\\alpha_1\\rangle\\otimes\\dots |\\alpha_n\\rangle$, then we can optimise a 'local' cost function **per single qubit state**, $\\left|\\alpha_i\\right>$\n",
    "\n",
    "$L_i = 1 - \\left|\\left<\\alpha_i\\right|\\mathsf{Tr}_{-i}\\left(\\rho\\right)\\left|\\alpha_i\\right>\\right|^2$\n",
    "\n",
    "**Note: $\\mathsf{Tr}_{-i}(\\rho)$ denotes the partial trace of a quantum density matrix, $\\rho$, including all subsystems except $i$**\n",
    "\n",
    "*Example: if we have the following state of three qubits, $\\left|\\psi\\right> = \\left|a\\right> \\otimes\\left|b\\right> \\otimes\\left|c\\right>$, which has a corresponding density matrix*:\n",
    "\n",
    "*$\\rho = \\left|a\\right>\\left<a\\right| \\otimes\\left|b\\right>\\left<b\\right| \\otimes\\left|c\\right>\\left<c\\right|$* (for pure states, the density matrix is given by the outer product of $\\left|\\psi\\right>$ with itself, $\\rho = \\left|\\psi\\right>\\left<\\psi\\right|$\n",
    "\n",
    "*Then the partial trace over all but system $b$ (for example) is:*\n",
    "\n",
    " $\\mathsf{Tr}_{-b}(\\rho) = \\left(\\left|a\\right>\\left<a\\right| \\otimes\\left|b\\right>\\left<b\\right| \\otimes \\left|c\\right>\\left<c\\right|\\right) =  \\left|b\\right>\\left<b\\right| \\mathsf{Tr}\\left(\\left|a\\right>\\left<a\\right| \\otimes \\left|c\\right>\\left<c\\right|\\right) = \\left|b\\right>\\left<b\\right| \\mathsf{Tr}\\left(\\left<a|a\\right> \\otimes \\left<c|c\\right>\\right) = \\left|b\\right>\\left<b\\right|$\n"
   ]
  },
  {
   "cell_type": "markdown",
   "metadata": {},
   "source": [
    "# How does the algorithm work?\n",
    "\n",
    "We will use a specific case of the algorithm and consider $\\left|\\psi_{\\text{in}}\\right> = |00\\dots 0\\rangle$ to be a product state.\n",
    "## Input:\n",
    "A state prepared by some unknown unitary, $U|00\\dots 0\\rangle$\n",
    "\n",
    "For each round, $i: n \\rightarrow 1$, apply $i^{th}$ parameterised unitary, $V(\\vec{\\theta}_i)$, and measure $i^{th}$ qubit fidelity from $\\|0\\rangle$ state. Compute Loss function, L_i, and update parameters, $\\vec{\\theta}_i$ using some minimiser.\n",
    "\n",
    "## Output:\n",
    "Optimal angles, $\\vec{\\theta}_n, \\dots, \\vec{\\theta}_1$ to approximate target unitary, $U$.\n"
   ]
  },
  {
   "cell_type": "markdown",
   "metadata": {},
   "source": [
    "We start with a simple example, a two qubit entangled state, which is similar to a Bell state, prepared by the following circuit:\n",
    "\n",
    "$U_{Targ}|00\\rangle = CRX(\\theta_1)_{0, 1}(R_y(\\theta_2) \\otimes \\mathbb{1})|00\\rangle$\n",
    "\n",
    "$CRX(\\theta_1)_{0, 1}$ is a controlled rotation around the Pauli-X axis, by an angle $\\theta$:\n",
    "\n",
    "$CRX(\\theta_1)_{0, 1} = \\left(\\begin{array}{cccc}\n",
    "1 & 0 & 0 & 0\\\\\n",
    "0 & 1 & 0 & 0\\\\\n",
    "0 & 0 & \\cos(\\frac{\\theta}{2}) &  -i\\sin(\\frac{\\theta}{2})\\\\\n",
    "0 & 0 & -i \\sin(\\frac{\\theta}{2}) &  \\cos(\\frac{\\theta}{2})\n",
    "\\end{array}\n",
    "\\right)$\n",
    "\n",
    "We will use this gate since it is similar to the $CNOT/CX$ gate: The Pauli $X$ gate is a rotation around the $X$ axis by an angle $\\pi$ (up to a phase), but it is parameterised so you can see if the algorithm can find the correct parameter.\n",
    "\n",
    "Similarly, we use the $R_y$ gate instead of a Hadamard:\n",
    "\n",
    "$R_y(\\theta_2) = \\left(\\begin{array}{cc}\n",
    "\\cos(\\frac{\\theta}{2}) &  -\\sin(\\frac{\\theta}{2})\\\\\n",
    " \\sin(\\frac{\\theta}{2}) &  \\cos(\\frac{\\theta}{2})\n",
    "\\end{array}\n",
    "\\right)$\n",
    "\n",
    "For $\\theta_2 = \\frac{\\pi}{2}$, we get a state which has a similar effect as the Hadamard gate."
   ]
  },
  {
   "cell_type": "code",
   "execution_count": 2,
   "metadata": {},
   "outputs": [],
   "source": [
    "# Let's define the computer we want to use first\n",
    "qc_name = \"3q-qvm\"\n",
    "qc =get_qc(qc_name)\n",
    "qubits = qc.qubits()"
   ]
  },
  {
   "cell_type": "markdown",
   "metadata": {},
   "source": [
    "We need to define the Control-RX gate, since it is not built into Pyquil:\n",
    "(http://docs.rigetti.com/en/stable/basics.html#defining-parametric-gates)"
   ]
  },
  {
   "cell_type": "code",
   "execution_count": 3,
   "metadata": {},
   "outputs": [],
   "source": [
    "from pyquil.parameters import Parameter, quil_sin, quil_cos\n",
    "from pyquil.quilbase import DefGate\n",
    "\n",
    "# Define the new gate from a matrix\n",
    "theta = Parameter('theta')\n",
    "crx = np.array([\n",
    "    [1, 0, 0, 0],\n",
    "    [0, 1, 0, 0],\n",
    "    [0, 0, quil_cos(theta / 2), -1j * quil_sin(theta / 2)],\n",
    "    [0, 0, -1j * quil_sin(theta / 2), quil_cos(theta / 2)]\n",
    "])\n",
    "\n",
    "gate_definition = DefGate('CRX', crx, [theta])\n",
    "CRX = gate_definition.get_constructor()\n"
   ]
  },
  {
   "cell_type": "markdown",
   "metadata": {},
   "source": [
    "Now we measure qubit $1$ and try and maximise the probability that it is the $|0\\rangle$ state.\n",
    "\n",
    "Note that since $CRX(\\theta)^\\dagger = CRX(-\\theta)$, the angle we want to find will be the negative of the value we input."
   ]
  },
  {
   "cell_type": "code",
   "execution_count": 4,
   "metadata": {},
   "outputs": [],
   "source": [
    "num_trials = 1000\n",
    "# num_trials = # How many measurement shots should we use?\n",
    "\n",
    "params = np.random.rand(1) # We will start with one random parameter.\n",
    "\n",
    "import scipy.optimize as opt # We will use a black-box optimisation routine here.\n",
    "\n",
    "def cost_func_two_qubit_gate(params, qubits):\n",
    "    circuit = Program()\n",
    "    circuit += gate_definition # We need to define the new gate in each program we use it in.\n",
    "\n",
    "    ro = circuit.declare('ro', 'BIT', 1)\n",
    "    target_two_qubit_angle = 0.444 # This is the angle we want to optimise for in this step.\n",
    "    target_single_qubit_angle = 0.7822\n",
    "    \n",
    "    print('The target parameter is:', -target_two_qubit_angle)\n",
    "    \n",
    "    circuit += RY(target_single_qubit_angle, qubits[0])\n",
    "    circuit += CRX(target_two_qubit_angle)(qubits[0], qubits[1])\n",
    "    \n",
    "    # What gate should be applied here to get qubit one to return to the |0> state?\n",
    "#     circuit += # Add gates here\n",
    "    \n",
    "    print('The current parameter value is:', params[0])\n",
    "    circuit += MEASURE(qubits[1], ro[0])\n",
    "    circuit.wrap_in_numshots_loop(num_trials)\n",
    "\n",
    "    executable = qc.compile(circuit)\n",
    "    \n",
    "    results = qc.run(executable)\n",
    "    prob_zero = list(results).count([0])/num_trials \n",
    "    \n",
    "    # We want to minimise this value, by making the probability of observing qubit *one* in the state |0> close to 1\n",
    "    cost_func = 1 - prob_zero \n",
    "\n",
    "    return cost_func\n",
    "\n",
    "# result = opt.minimize(cost_func_two_qubit_gate, params, args=(qubits), method='Powell')\n",
    "\n",
    "# print('The optimised parameter value found is: ', result.x)"
   ]
  },
  {
   "cell_type": "markdown",
   "metadata": {},
   "source": [
    "Try changing the number of measurement shots which are applied to qubit 1. How does this affect the performance of the optimiser?"
   ]
  },
  {
   "cell_type": "markdown",
   "metadata": {},
   "source": [
    "Now, we have optimised the two qubit gate parameter. Next we will learn the correct parameter of the single qubit gate. We will use the optimised value of the parameter found in the previous section."
   ]
  },
  {
   "cell_type": "code",
   "execution_count": 5,
   "metadata": {},
   "outputs": [],
   "source": [
    "num_trials = 1000\n",
    "\n",
    "def cost_func_both_gates(params, optimised_two_q_param, qubits):\n",
    "    circuit = Program()\n",
    "    circuit += gate_definition # We need to define the new gate in each program we use it in.\n",
    "\n",
    "    ro = circuit.declare('ro', 'BIT', 1)\n",
    "    target_two_qubit_angle = 0.444 \n",
    "    target_single_qubit_angle = 0.7822 # This is the angle we want to optimise for in this step.\n",
    "    print('The target parameter is:', -target_single_qubit_angle)\n",
    "    \n",
    "    circuit += RY(target_single_qubit_angle, qubits[0])\n",
    "    circuit += CRX(target_two_qubit_angle)(qubits[0], qubits[1])\n",
    "\n",
    "#     circuit += # Add the optimised gate over 2 qubits here, that you found above\n",
    "#     circuit += # Now put the gate with the parameter to optimise here\n",
    "    \n",
    "    print('The current parameter value is:', params[0])\n",
    "\n",
    "    circuit += MEASURE(qubits[0], ro[0])\n",
    "    circuit.wrap_in_numshots_loop(num_trials)\n",
    "\n",
    "    executable = qc.compile(circuit)\n",
    "    results = qc.run(executable)\n",
    "    prob_zero = list(results).count([0])/num_trials \n",
    "    \n",
    "    # We want to minimise this value, by making the probability of observing |0> in qubit *zero* close to 1\n",
    "    cost_func = 1 - prob_zero \n",
    "\n",
    "    return cost_func\n",
    "\n",
    "\n",
    "result_two_qubit_opt = opt.minimize(cost_func_two_qubit_gate, np.array(params[0]), args=(qubits), method='Powell')\n",
    "\n",
    "optimised_two_q_param = np.asscalar(result_two_qubit_opt.x)\n",
    "params = np.random.rand(1) # We will start with one random parameter for the single qubit gate.\n",
    "print(params)\n",
    "\n",
    "result_single_qubit_opt = \\\n",
    "opt.minimize(cost_func_both_gates, params, args=(optimised_two_q_param, qubits), method='Powell')\n",
    "\n",
    "optimised_single_q_param = result_single_qubit_opt.x"
   ]
  },
  {
   "cell_type": "markdown",
   "metadata": {},
   "source": [
    "Now, take those optimised parameters, and plug them into the circuit you found to see if it the state of the system ends up (close to) the $|00>$ state."
   ]
  },
  {
   "cell_type": "code",
   "execution_count": 6,
   "metadata": {},
   "outputs": [],
   "source": [
    "optimised_params = np.array([optimised_two_q_param, optimised_single_q_param])\n",
    "\n",
    "circuit_optimised = Program()\n",
    "circuit_optimised += gate_definition # We need to define the new gate in each program we use it in.\n",
    "\n",
    "ro = circuit_optimised.declare('ro', 'BIT', 1)\n",
    "target_angles = np.array([0.444, 0.7822]) # Define the target angles again\n",
    "\n",
    "circuit_optimised += RY(target_angles[1], qubits[0])\n",
    "circuit_optimised += CRX(target_angles[0])(qubits[0], qubits[1])\n",
    "\n",
    "# circuit_optimised += # Apply the unitaries V_2, V_1, that you found here with the optimised parameters\n",
    "\n",
    "with local_qvm():\n",
    "    wavefunction = make_wf.wavefunction(circuit_optimised)\n",
    "\n",
    "print(wavefunction)\n",
    "\n",
    "print(wavefunction.get_outcome_probs())"
   ]
  },
  {
   "cell_type": "markdown",
   "metadata": {},
   "source": [
    "What state did you end up in? Was it close to $|00\\rangle$?"
   ]
  },
  {
   "cell_type": "markdown",
   "metadata": {},
   "source": [
    "# Challenge (Optional)\n",
    "\n",
    "***This section will test your understanding of the algorithm, but if you are running short on time, then feel free to skip it and do a different challenge, since it will be time-consuming.***\n",
    "\n",
    "Now that you have a feel for the algorithm, you will be given **unknown** states over two qubits, for which you must try and return them to the zero state.\n",
    "\n",
    "Since you do not know the unitary that prepared them, you cannot just apply the same gates again and optimise the parameters as above above. \n",
    "\n",
    "You should pick a good *ansatz* circuit, and try an optimise the parameters to get as close as you can to returning the state to the $|00\\rangle$ state.\n",
    "\n",
    "*Note: the ansatz on each subset of qubits does not have to consist of only a single gate.*"
   ]
  },
  {
   "cell_type": "code",
   "execution_count": 7,
   "metadata": {},
   "outputs": [],
   "source": [
    "from auxiliary_functions.unsampling_unitaries import *\n"
   ]
  },
  {
   "cell_type": "markdown",
   "metadata": {},
   "source": [
    "The functions:\n",
    "\n",
    "state_one_prep,\n",
    "\n",
    "state_two_prep and\n",
    "\n",
    "state_three_prep\n",
    "\n",
    "will each prepare a particular state. You can use them as a subroutine in your functions, instead of explicitly \n",
    "adding initial gates to a circuit as we did above.\n"
   ]
  },
  {
   "cell_type": "code",
   "execution_count": 8,
   "metadata": {},
   "outputs": [
    {
     "name": "stdout",
     "output_type": "stream",
     "text": [
      "(0.7071067812+0j)|00> + (-0.7066123048+0j)|01> + (-0.026439567+0j)|11>\n"
     ]
    }
   ],
   "source": [
    "# Use as follows:\n",
    "\n",
    "circuit = Program()\n",
    "circuit = state_two_prep(circuit, qubits) # qubits is the list of qubits we get from the quantum device as above.\n",
    "\n",
    "## You can check the state that is produced by printing the wavefunction, but beware this is not \n",
    "## something you can do in general!!\n",
    "\n",
    "with local_qvm():\n",
    "    wavefunc = make_wf.wavefunction(circuit)\n",
    "print(wavefunc)"
   ]
  },
  {
   "cell_type": "markdown",
   "metadata": {},
   "source": [
    "Now find the approximate unitaries which return each of these states to the $|00\\rangle$ state."
   ]
  },
  {
   "cell_type": "code",
   "execution_count": null,
   "metadata": {},
   "outputs": [],
   "source": []
  },
  {
   "cell_type": "code",
   "execution_count": null,
   "metadata": {},
   "outputs": [],
   "source": []
  },
  {
   "cell_type": "code",
   "execution_count": null,
   "metadata": {},
   "outputs": [],
   "source": []
  }
 ],
 "metadata": {
  "kernelspec": {
   "display_name": "Python 3",
   "language": "python",
   "name": "python3"
  },
  "language_info": {
   "codemirror_mode": {
    "name": "ipython",
    "version": 3
   },
   "file_extension": ".py",
   "mimetype": "text/x-python",
   "name": "python",
   "nbconvert_exporter": "python",
   "pygments_lexer": "ipython3",
   "version": "3.6.5"
  }
 },
 "nbformat": 4,
 "nbformat_minor": 2
}
