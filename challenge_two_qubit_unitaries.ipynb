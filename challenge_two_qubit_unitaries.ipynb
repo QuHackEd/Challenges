{
 "cells": [
  {
   "cell_type": "markdown",
   "metadata": {},
   "source": [
    "# Challenge: Unitaries 2\n",
    "\n",
    "## Two Qubit Unitaries\n",
    "\n",
    "In this challenge, you will create states composed of more that a single qubit.\n",
    "You will need to use one and two qubit unitary gates to produce certain states.\n",
    "\n",
    "You will learn how to use Controlled Gates, such as the Controlled Z Gate (CZ), \n",
    "Controlled X Gate (CNOT) for example. \n",
    "\n",
    "We will also encounter entanglement for the first time.\n"
   ]
  },
  {
   "cell_type": "markdown",
   "metadata": {},
   "source": [
    "Let's import the important things first:\n"
   ]
  },
  {
   "cell_type": "code",
   "execution_count": 2,
   "metadata": {},
   "outputs": [],
   "source": [
    "from pyquil import Program\n",
    "from pyquil.api import get_qc, WavefunctionSimulator\n",
    "from pyquil.gates import *\n",
    "import numpy as np\n",
    "\n",
    "import sys\n",
    "sys.path.insert(0, 'tests/')\n",
    "\n",
    "from test_two_qubit_unitaries import *\n",
    "\n",
    "from auxiliary_functions.auxiliary_unitaries import two_qubit_prod_prep"
   ]
  },
  {
   "cell_type": "markdown",
   "metadata": {},
   "source": [
    "# Challenge: For whom the Bell tolls.\n",
    "\n",
    "We will create a Bell state (the canonical one) whose state is given by:\n",
    "$\\left|\\phi^+\\right> = \\frac{1}{\\sqrt{2}}\\left(\\left|00\\right> + \\left|11\\right>\\right)$. \n",
    "\n",
    "This state is *maximally* entangled, which means that this two qubit state **cannot**\n",
    "be written as a product of *any* two single qubit gates, e.g. $\\left|\\phi_1\\right> \\otimes \\left|\\phi_2\\right>$ \n",
    "\n",
    "This has the effect that the measurement outcomes of each qubit are completely correlated, which we shall see in\n",
    "the Measurement Challenges.\n",
    "\n",
    "First, we initialise an empty circuit as usual:\n"
   ]
  },
  {
   "cell_type": "code",
   "execution_count": 3,
   "metadata": {},
   "outputs": [],
   "source": [
    "circuit = Program()"
   ]
  },
  {
   "cell_type": "markdown",
   "metadata": {},
   "source": [
    "The circuit now contains a quantum register in the state $\\left|0\\right>$.\n",
    "\n",
    "Apply a unitary gate (or gates) such that the output state is $\\frac{1}{\\sqrt{2}}(\\left|00\\right>+\\left|11\\right>)$\n",
    "\n",
    "Also known as one of the Bell States, $\\left|\\phi^+\\right>$"
   ]
  },
  {
   "cell_type": "code",
   "execution_count": null,
   "metadata": {},
   "outputs": [],
   "source": [
    "circuit += H(0)\n",
    "circuit += CNOT(0, 1)\n",
    "circuit += Z(1)   # Apply gates here"
   ]
  },
  {
   "cell_type": "markdown",
   "metadata": {},
   "source": [
    "You can check if the output state if correct by printing out the wavefunction of the state using a simulator.\n",
    "\n"
   ]
  },
  {
   "cell_type": "code",
   "execution_count": null,
   "metadata": {},
   "outputs": [],
   "source": [
    "make_wf = WavefunctionSimulator()\n",
    "\n",
    "wavefunction = make_wf.wavefunction(circuit)\n",
    "print('\\nThe wavefunction is:', wavefunction)\n"
   ]
  },
  {
   "cell_type": "code",
   "execution_count": null,
   "metadata": {},
   "outputs": [],
   "source": [
    "test_bell_state_unitary(circuit, 'phi+') #Run this cell to check if you were correct"
   ]
  },
  {
   "cell_type": "markdown",
   "metadata": {},
   "source": [
    "# Challenge 2: Bell\n",
    "\n",
    "Now you should create two of the other Bell states:\n",
    "\n",
    "(1) $\\left|\\phi^-\\right> = \\frac{1}{\\sqrt{2}}\\left(\\left|00\\right>-\\left|11\\right>\\right)$\n",
    "\n",
    "and\n",
    "\n",
    "(2) $\\left|\\psi^+\\right> = \\frac{1}{\\sqrt{2}}\\left(\\left|01\\right>+\\left|10\\right>\\right)$"
   ]
  },
  {
   "cell_type": "markdown",
   "metadata": {},
   "source": [
    "Let's start with (1):  $\\left|\\phi^-\\right> = \\frac{1}{\\sqrt{2}}\\left(\\left|00\\right>-\\left|11\\right>\\right)$\n"
   ]
  },
  {
   "cell_type": "code",
   "execution_count": null,
   "metadata": {},
   "outputs": [],
   "source": [
    "# Initialise an empty circuit: \n",
    "\n",
    "circuit = Program()"
   ]
  },
  {
   "cell_type": "code",
   "execution_count": null,
   "metadata": {},
   "outputs": [],
   "source": [
    "\n",
    "circuit += X(1)\n",
    "circuit += H(0)\n",
    "circuit += CNOT(0, 1) # Apply gates here\n"
   ]
  },
  {
   "cell_type": "code",
   "execution_count": null,
   "metadata": {},
   "outputs": [],
   "source": [
    "test_bell_state_unitary(circuit, 'phi-')\n"
   ]
  },
  {
   "cell_type": "markdown",
   "metadata": {},
   "source": [
    "Now (2): $\\left|\\psi^+\\right> = \\frac{1}{\\sqrt{2}}\\left(\\left|01\\right>+\\left|10\\right>\\right)$"
   ]
  },
  {
   "cell_type": "code",
   "execution_count": null,
   "metadata": {},
   "outputs": [],
   "source": [
    "# Initialise an empty circuit: \n",
    "\n",
    "circuit = Program()"
   ]
  },
  {
   "cell_type": "code",
   "execution_count": null,
   "metadata": {},
   "outputs": [],
   "source": [
    "circuit += X(1)\n",
    "circuit += H(0)\n",
    "circuit += CNOT(0, 1) # Apply gates here\n"
   ]
  },
  {
   "cell_type": "code",
   "execution_count": null,
   "metadata": {},
   "outputs": [],
   "source": [
    "test_bell_state_unitary(circuit, 'psi+')\n"
   ]
  },
  {
   "cell_type": "markdown",
   "metadata": {},
   "source": [
    "# Challenge 3: \n",
    "\n",
    "Here you will be given a state in a specific state, and required to apply some \n",
    "two qubit gates to it.\n",
    "\n",
    "The state is the following two qubit state:\n",
    "$\\left|\\alpha\\right> = (\\cos\\left(\\frac{\\theta}{2}\\right)\\left|0\\right> + \\sin\\left(\\frac{\\theta}{2}\\right)\\left|1\\right>) \\otimes |+> =\n",
    "\\frac{1}{\\sqrt{2}}\\left(\\cos\\left(\\frac{\\theta}{2}\\right)\\left|00\\right> +\\cos\\left(\\frac{\\theta}{2}\\right)\\left|01\\right>+ \\sin\\left(\\frac{\\theta}{2}\\right)\\left|10\\right> + \\sin\\left(\\frac{\\theta}{2}\\right)\\left|11\\right>\\right)$\n",
    "\n",
    "where $\\theta = \\pi/7$\n",
    "\n"
   ]
  },
  {
   "cell_type": "code",
   "execution_count": 1,
   "metadata": {},
   "outputs": [
    {
     "ename": "NameError",
     "evalue": "name 'Program' is not defined",
     "output_type": "error",
     "traceback": [
      "\u001b[0;31m---------------------------------------------------------------------------\u001b[0m",
      "\u001b[0;31mNameError\u001b[0m                                 Traceback (most recent call last)",
      "\u001b[0;32m<ipython-input-1-69196b0f8e56>\u001b[0m in \u001b[0;36m<module>\u001b[0;34m()\u001b[0m\n\u001b[0;32m----> 1\u001b[0;31m \u001b[0mcircuit\u001b[0m \u001b[0;34m=\u001b[0m  \u001b[0mProgram\u001b[0m\u001b[0;34m(\u001b[0m\u001b[0;34m)\u001b[0m\u001b[0;34m\u001b[0m\u001b[0m\n\u001b[0m\u001b[1;32m      2\u001b[0m \u001b[0mcircuit\u001b[0m \u001b[0;34m+=\u001b[0m \u001b[0mtwo_qubit_prod_prep\u001b[0m\u001b[0;34m(\u001b[0m\u001b[0mnp\u001b[0m\u001b[0;34m.\u001b[0m\u001b[0mpi\u001b[0m\u001b[0;34m/\u001b[0m\u001b[0;36m7\u001b[0m\u001b[0;34m)\u001b[0m\u001b[0;34m\u001b[0m\u001b[0m\n",
      "\u001b[0;31mNameError\u001b[0m: name 'Program' is not defined"
     ]
    }
   ],
   "source": [
    "circuit =  Program()\n",
    "circuit += two_qubit_prod_prep(np.pi/7)"
   ]
  },
  {
   "cell_type": "markdown",
   "metadata": {},
   "source": [
    "## Task 1:\n",
    "\n",
    "Prepare the following state:\n",
    "$\\left|\\alpha^*\\right> =\n",
    "\\frac{1}{\\sqrt{2}}\\left(\\cos\\left(\\frac{\\theta}{2}\\right)\\left|00\\right> +\\cos\\left(\\frac{\\theta}{2}\\right)\\left|01\\right>+ \\sin\\left(\\frac{\\theta}{2}\\right)\\left|10\\right> - \\sin\\left(\\frac{\\theta}{2}\\right)\\left|11\\right>\\right)$\n",
    "\n",
    "where $\\theta = \\pi/7$"
   ]
  },
  {
   "cell_type": "code",
   "execution_count": null,
   "metadata": {},
   "outputs": [],
   "source": [
    "circuit += CZ(0,1) #Apply gate(s) here"
   ]
  },
  {
   "cell_type": "code",
   "execution_count": null,
   "metadata": {},
   "outputs": [],
   "source": [
    "test_two_qubit_state_change(circuit) # Run cell to check if correct state was produced"
   ]
  },
  {
   "cell_type": "markdown",
   "metadata": {},
   "source": [
    "## Task 2:\n",
    "\n",
    "Take the state which you generated in the last task:\n",
    "$\\left|\\alpha^*\\right> =\n",
    "\\frac{1}{\\sqrt{2}}\\left(\\cos\\left(\\frac{\\theta}{2}\\right)\\left|00\\right> +\\cos\\left(\\frac{\\theta}{2}\\right)\\left|01\\right>+ \\sin\\left(\\frac{\\theta}{2}\\right)\\left|10\\right> - \\sin\\left(\\frac{\\theta}{2}\\right)\\left|11\\right>\\right)$\n",
    "\n",
    "where $\\theta = \\pi/7$,\n",
    "\n",
    "And reset the qubit registers, i.e. return the qubits to the computational basis state:\n",
    "$\\left|00\\right>$\n",
    "\n",
    "**Hint:** *Firstly, it would be a good idea to undo the operation in the previous task, to remove the entanglement\n",
    "betweent the qubits.*"
   ]
  },
  {
   "cell_type": "code",
   "execution_count": null,
   "metadata": {},
   "outputs": [],
   "source": [
    "\n",
    "circuit += CZ(0,1)\n",
    "circuit += H(1)\n",
    "circuit += RY(-np.pi/7, 0)\n"
   ]
  },
  {
   "cell_type": "code",
   "execution_count": 2,
   "metadata": {},
   "outputs": [
    {
     "ename": "NameError",
     "evalue": "name 'test_two_qubit_reset' is not defined",
     "output_type": "error",
     "traceback": [
      "\u001b[0;31m---------------------------------------------------------------------------\u001b[0m",
      "\u001b[0;31mNameError\u001b[0m                                 Traceback (most recent call last)",
      "\u001b[0;32m<ipython-input-2-ce01597ccda5>\u001b[0m in \u001b[0;36m<module>\u001b[0;34m()\u001b[0m\n\u001b[0;32m----> 1\u001b[0;31m \u001b[0mtest_two_qubit_reset\u001b[0m\u001b[0;34m(\u001b[0m\u001b[0mcircuit\u001b[0m\u001b[0;34m)\u001b[0m \u001b[0;31m# Run cell to check if correct state was produced\u001b[0m\u001b[0;34m\u001b[0m\u001b[0m\n\u001b[0m",
      "\u001b[0;31mNameError\u001b[0m: name 'test_two_qubit_reset' is not defined"
     ]
    }
   ],
   "source": [
    "test_two_qubit_reset(circuit) # Run cell to check if correct state was produced"
   ]
  }
 ],
 "metadata": {
  "kernelspec": {
   "display_name": "Python 3",
   "language": "python",
   "name": "python3"
  },
  "language_info": {
   "codemirror_mode": {
    "name": "ipython",
    "version": 3
   },
   "file_extension": ".py",
   "mimetype": "text/x-python",
   "name": "python",
   "nbconvert_exporter": "python",
   "pygments_lexer": "ipython3",
   "version": "3.6.5"
  }
 },
 "nbformat": 4,
 "nbformat_minor": 2
}
