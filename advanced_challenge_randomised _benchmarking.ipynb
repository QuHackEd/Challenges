{
 "cells": [
  {
   "cell_type": "markdown",
   "metadata": {},
   "source": [
    "# Advanced Challenge: Randomised Benchmarking\n",
    "\n",
    "In this challenge, you will implement randomised benchmarking, a protocol to determine the \n",
    "average gate fidelity of a quantum process.\n",
    "\n"
   ]
  },
  {
   "cell_type": "code",
   "execution_count": null,
   "metadata": {},
   "outputs": [],
   "source": []
  },
  {
   "cell_type": "code",
   "execution_count": null,
   "metadata": {},
   "outputs": [],
   "source": [
    "from pyquil import Program\n",
    "from pyquil.api import get_qc, WavefunctionSimulator\n",
    "from pyquil.gates import *\n",
    "import numpy as np\n",
    "import os, inspect, sys\n",
    "\n",
    "import sys\n",
    "sys.path.insert(0, 'tests/')\n",
    "\n",
    "# from test_single_qubit_unitaries import *\n",
    "\n",
    "# from auxiliary_functions.auxiliary_unitaries import plus_prep, minus_prep\n"
   ]
  },
  {
   "cell_type": "code",
   "execution_count": null,
   "metadata": {},
   "outputs": [],
   "source": [
    "#Firstly define the pulse lengths:\n",
    "    \n",
    "L = [5, 10, 20, 30, 50, 100] \n",
    "\n",
    "circuit = Program()\n",
    "\n",
    "pi_pulses = [0, 1, 2]"
   ]
  }
 ],
 "metadata": {
  "kernelspec": {
   "display_name": "Python 3",
   "language": "python",
   "name": "python3"
  },
  "language_info": {
   "codemirror_mode": {
    "name": "ipython",
    "version": 3
   },
   "file_extension": ".py",
   "mimetype": "text/x-python",
   "name": "python",
   "nbconvert_exporter": "python",
   "pygments_lexer": "ipython3",
   "version": "3.6.5"
  }
 },
 "nbformat": 4,
 "nbformat_minor": 2
}
