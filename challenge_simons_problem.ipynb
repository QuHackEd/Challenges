{
 "cells": [
  {
   "cell_type": "markdown",
   "metadata": {},
   "source": [
    "# Challenge: Simon Says: \"Let's find a hidden shift\" \n",
    "\n",
    "Simon's problem was one of the first Quantum Algorithms which showed and exponential speedup \n",
    "over any classical algorithm, and was the inspiration for Shor's Algorithm.\n",
    "\n",
    "## Problem\n",
    "Given a function, $f : \\{0, 1\\}^n \\rightarrow \\{0, 1\\}^n$, for which you are given the **promise** of the following thing:\n",
    "\n",
    "For some $\\mathbf{s}\\in \\{0, 1\\}^n$, we have that, for all $\\mathbf{x}, \\mathbf{y} \\in \\{0, 1\\}^n$ then:\n",
    "\n",
    "$f(\\mathbf{x}) = f(\\mathbf{y})$ *if and only if* $\\mathbf{x}\\oplus\\mathbf{y} \\in \\{0^n , \\mathbf{s}\\}$\n",
    "\n",
    "The goal of the problem is to find the string, $\\mathbf{s}$.\n",
    "\n",
    "Note, the function can be written equivalently as having the property that, $f(\\mathbf{x})=f(\\mathbf{x}\\oplus \\mathbf{s}) \\forall \\mathbf{x}$, where $\\mathbf{s}$ is a fixed an unknown string. \n",
    "\n",
    "The goal of the algorithm is to find the hidden shift string, $\\mathbf{s}$."
   ]
  },
  {
   "cell_type": "code",
   "execution_count": null,
   "metadata": {},
   "outputs": [],
   "source": [
    "from pyquil import Program\n",
    "from pyquil.api import get_qc, WavefunctionSimulator\n",
    "from pyquil.gates import *\n",
    "import numpy as np\n",
    "import os, inspect, sys\n",
    "\n",
    "import sys\n",
    "sys.path.insert(0, 'tests/')\n",
    "\n",
    "\n"
   ]
  },
  {
   "cell_type": "markdown",
   "metadata": {},
   "source": [
    "Now to implement Simon's Algorithm, we need to use twice as many qubits as the length of the bitstring, $\\mathbf{x}$\n",
    "\n",
    "## Task:\n",
    "Define a (python) function which takes in the length of the string, and outputs an empty circuit (which is **fully-connected**, and a quantum circuit with twice that many qubits:\n"
   ]
  },
  {
   "cell_type": "code",
   "execution_count": null,
   "metadata": {},
   "outputs": [],
   "source": [
    "def simons_init(n):\n",
    "    if isinstance(n, int):\n",
    "        raise: TypeError('n must be an int')\n",
    "    \n",
    "    qc = # Initialise qc here\n",
    "    circuit = # Initialise circuit here\n",
    "    \n",
    "    return qc, circuit "
   ]
  },
  {
   "cell_type": "markdown",
   "metadata": {},
   "source": [
    "## Task: \n",
    "    \n",
    "Next, prepare an equal superposition over all possible bitstrings of length $n$ over the first $n$ qubits in the circuit:\n",
    "\n",
    "\\begin{align}\n",
    "|\\psi\\rangle = \\frac{1}{\\sqrt{2^n}}\\sum\\limits_{\\mathbf{z} \\in \\{0, 1\\}^n}|\\mathbf{z}\\rangle\n",
    "\\end{align}"
   ]
  },
  {
   "cell_type": "code",
   "execution_count": 1,
   "metadata": {},
   "outputs": [
    {
     "ename": "SyntaxError",
     "evalue": "invalid syntax (<ipython-input-1-5f027ab11437>, line 4)",
     "output_type": "error",
     "traceback": [
      "\u001b[0;36m  File \u001b[0;32m\"<ipython-input-1-5f027ab11437>\"\u001b[0;36m, line \u001b[0;32m4\u001b[0m\n\u001b[0;31m    circuit += # Add code here\u001b[0m\n\u001b[0m                              ^\u001b[0m\n\u001b[0;31mSyntaxError\u001b[0m\u001b[0;31m:\u001b[0m invalid syntax\n"
     ]
    }
   ],
   "source": [
    "n = 5\n",
    "qc, circuit = simons_init(n)\n",
    "\n",
    "circuit += # Add code here"
   ]
  },
  {
   "cell_type": "markdown",
   "metadata": {},
   "source": [
    "Next, we need to define the oracle:\n",
    "\n",
    "$$"
   ]
  },
  {
   "cell_type": "code",
   "execution_count": null,
   "metadata": {},
   "outputs": [],
   "source": []
  },
  {
   "cell_type": "markdown",
   "metadata": {},
   "source": [
    "## Task:\n",
    "\n",
    "Finally, apply another layer of Hadamards to the first $n$ qubits, and measure all qubits in the computational basis."
   ]
  },
  {
   "cell_type": "code",
   "execution_count": null,
   "metadata": {},
   "outputs": [],
   "source": [
    "cirucit += # Add gates here"
   ]
  },
  {
   "cell_type": "code",
   "execution_count": null,
   "metadata": {},
   "outputs": [],
   "source": [
    "results = # Add code here"
   ]
  }
 ],
 "metadata": {
  "kernelspec": {
   "display_name": "Python 3",
   "language": "python",
   "name": "python3"
  },
  "language_info": {
   "codemirror_mode": {
    "name": "ipython",
    "version": 3
   },
   "file_extension": ".py",
   "mimetype": "text/x-python",
   "name": "python",
   "nbconvert_exporter": "python",
   "pygments_lexer": "ipython3",
   "version": "3.6.5"
  }
 },
 "nbformat": 4,
 "nbformat_minor": 2
}
