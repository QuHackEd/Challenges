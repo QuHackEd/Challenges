{
 "cells": [
  {
   "cell_type": "markdown",
   "metadata": {},
   "source": [
    "# Challenge: Simons Problem\n",
    "\n",
    "Simons problem was one of the first Quantum Algorithms which showed and exponential speedup \n",
    "over any classical algorithm, and was the inspiration for Shor's Algorithm.\n",
    "\n",
    "## Problem\n",
    "Given a function, $f : \\{0, 1\\}^n \\rightarrow \\{0, 1\\}^n$, for which you are given the **promise** of the following thing:\n",
    "\n",
    "For some $\\mathbf{s}\\in \\{0, 1\\}^n$, we have that, for all $\\mathbf{x}, \\mathbf{y} \\in \\{0, 1\\}^n$ then:\n",
    "\n",
    "$f(\\mathbf{x}) = f(\\mathbf{y})$ *if and only if* $\\mathbf{x}\\oplus\\mathbf{y} \\in \\{0^n , \\mathbf{s}\\}$\n",
    "\n",
    "The goal of the problem is to find the string, $\\mathbf{s}$.\n",
    "\n",
    "Note, function can be written equivalently as having the property that, $f(\\mathbf{x})=f(\\mathbf{x}\\oplus \\mathbf{s})$, where $\\mathbf{s}$ is a "
   ]
  },
  {
   "cell_type": "code",
   "execution_count": null,
   "metadata": {},
   "outputs": [],
   "source": [
    "from pyquil import Program\n",
    "from pyquil.api import get_qc, WavefunctionSimulator\n",
    "from pyquil.gates import *\n",
    "import numpy as np\n",
    "import os, inspect, sys\n",
    "\n",
    "import sys\n",
    "sys.path.insert(0, 'tests/')\n",
    "\n",
    "from test_single_qubit_unitaries import *\n",
    "\n",
    "from auxiliary_functions.auxiliary_unitaries import plus_prep, minus_prep\n"
   ]
  }
 ],
 "metadata": {
  "kernelspec": {
   "display_name": "Python 3",
   "language": "python",
   "name": "python3"
  },
  "language_info": {
   "codemirror_mode": {
    "name": "ipython",
    "version": 3
   },
   "file_extension": ".py",
   "mimetype": "text/x-python",
   "name": "python",
   "nbconvert_exporter": "python",
   "pygments_lexer": "ipython3",
   "version": "3.6.5"
  }
 },
 "nbformat": 4,
 "nbformat_minor": 2
}
