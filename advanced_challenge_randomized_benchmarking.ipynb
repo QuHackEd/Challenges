{
 "cells": [
  {
   "cell_type": "markdown",
   "metadata": {},
   "source": [
    "# Advanced Challenge: Randomized Benchmarking\n",
    "\n",
    "In this challenge, you will implement randomised benchmarking, a protocol to determine the \n",
    "average gate fidelity of a quantum process.\n",
    "\n"
   ]
  },
  {
   "cell_type": "code",
   "execution_count": 1,
   "metadata": {},
   "outputs": [],
   "source": [
    "from pyquil import Program\n",
    "from pyquil.api import get_qc, WavefunctionSimulator, local_qvm\n",
    "from pyquil.gates import *\n",
    "import numpy as np\n",
    "import os, inspect, sys\n",
    "import matplotlib.pyplot as plt\n",
    "import sys\n",
    "sys.path.insert(0, 'tests/')\n",
    "sys.path.insert(0, 'auxiliary_unitaries/')\n",
    "\n",
    "from auxiliary_functions.auxiliary_noise import *\n",
    "\n",
    "%matplotlib inline\n",
    "\n",
    "make_wf = WavefunctionSimulator()\n"
   ]
  },
  {
   "cell_type": "code",
   "execution_count": 2,
   "metadata": {},
   "outputs": [],
   "source": [
    "qc_name = '2q-qvm'\n",
    "with local_qvm():\n",
    "    qc = get_qc(qc_name)\n",
    "\n",
    "qubits = qc.qubits()"
   ]
  },
  {
   "cell_type": "code",
   "execution_count": 3,
   "metadata": {},
   "outputs": [],
   "source": [
    "#Firstly define the pulse lengths:\n",
    "    \n",
    "# lengths = [5, 10, 20, 30, 50, 100] \n",
    "lengths = [2, 3, 4, 5] "
   ]
  },
  {
   "cell_type": "markdown",
   "metadata": {},
   "source": [
    "## Randomized Benchmarking Protocol: Ideal Case"
   ]
  },
  {
   "cell_type": "code",
   "execution_count": 4,
   "metadata": {},
   "outputs": [],
   "source": [
    "import random\n",
    "\n",
    "def random_clifford(circuit, clifford_gates,random_seed):\n",
    "    \n",
    "    random.seed(random_seed)\n",
    "    random_clifford_gate = random.choice(clifford_gates)\n",
    "    print(random_clifford_gate)\n",
    "    print(circuit)\n",
    "    circuit += random_clifford_gate(qubits[0])\n",
    "    return circuit, random_clifford_gate\n"
   ]
  },
  {
   "cell_type": "markdown",
   "metadata": {},
   "source": [
    "Next, define a function to apply a sequence of these random unitaries to the initial state"
   ]
  },
  {
   "cell_type": "code",
   "execution_count": 5,
   "metadata": {},
   "outputs": [],
   "source": [
    "def random_clifford_sequence(circuit, random_seed, clifford_gates, length):\n",
    "    \n",
    "    random_seed = random_seed\n",
    "    random_gates = []\n",
    "    for length in range(length):\n",
    "        circuit, random_clifford_gate = random_clifford(circuit, clifford_gates, random_seed*length)\n",
    "        random_gates.append(random_clifford_gate)     # keep track of gate, run same sequence\n",
    "\n",
    "    for gate in random_gates[::-1]: # Invert sequence and apply gates in reverse order (clifford are self-inverse)\n",
    "        circuit += gate(qubits[0])\n",
    "    return circuit\n"
   ]
  },
  {
   "cell_type": "markdown",
   "metadata": {},
   "source": [
    "Now take that circuit of random cliffords, and measure the fidelity of the final state remaining in the initial state. \n",
    "\n",
    "The final state is denoted $|\\psi\\rangle$, and the initial state was the computational basis state, $|0\\rangle$.\n",
    "\n",
    "Therefore the fidelity is:\n",
    "\n",
    "\\begin{align}\n",
    "F = |\\langle 0 |\\psi \\rangle|^2 = \\Pr(final state = |0\\rangle)\n",
    "\\end{align}\n",
    "\n",
    "So we can estimate this by measuring the qubit a number of times, and counting the number of times we get the '0' ($|0\\rangle$) outcome.\n",
    "\n",
    "# Task:\n",
    "## Apply a measurement on the single qubit and compute the fidelity."
   ]
  },
  {
   "cell_type": "code",
   "execution_count": 6,
   "metadata": {},
   "outputs": [],
   "source": [
    "def compute_fidelity(circuit, random_seed, clifford_gates, length, num_shots):\n",
    "#     print('\\n------------------------------------------\\nRandom seed is', random_seed)\n",
    "    circuit = random_clifford_sequence(circuit, random_seed, clifford_gates, length)\n",
    "#     print(circuit)\n",
    "    ro = circuit.declare('ro', 'BIT', 2)\n",
    "    circuit += MEASURE(qubits[0], ro[0])\n",
    "\n",
    "    circuit.wrap_in_numshots_loop(num_shots)\n",
    "    with local_qvm():\n",
    "        wf = make_wf.wavefunction(circuit)\n",
    "    print('Wavefunction is:', wf)\n",
    "    \n",
    "    executable = qc.compile(circuit)\n",
    "    results = qc.run(executable)\n",
    "    print('Outcomes are',results)\n",
    "    prob_zero = list(results).count([0])/num_shots \n",
    "\n",
    "    print(prob_zero)\n",
    "    \n",
    "    return prob_zero\n",
    "\n",
    "\n",
    "# circuit = Program()\n",
    "# clifford_gates = [H, Z, X]\n",
    "\n",
    "# random_seed = 1\n",
    "# length = 4\n",
    "# num_shots = 1000\n",
    "\n",
    "# fidelity = compute_fidelity(circuit, random_seed, clifford_gates, length, num_shots)\n",
    "\n",
    "# print(fidelity)"
   ]
  },
  {
   "cell_type": "code",
   "execution_count": 7,
   "metadata": {},
   "outputs": [
    {
     "name": "stdout",
     "output_type": "stream",
     "text": [
      "<function X at 0x7eff90631158>\n",
      "\n",
      "<function X at 0x7eff90631158>\n",
      "X 0\n",
      "\n",
      "Wavefunction is: (1+0j)|0>\n",
      "Outcomes are [[0]\n",
      " [0]\n",
      " [0]\n",
      " [0]\n",
      " [0]\n",
      " [0]\n",
      " [0]\n",
      " [0]\n",
      " [0]\n",
      " [0]]\n",
      "1.0\n",
      "<function X at 0x7eff90631158>\n",
      "\n",
      "<function X at 0x7eff90631158>\n",
      "X 0\n",
      "\n",
      "<function X at 0x7eff90631158>\n",
      "X 0\n",
      "X 0\n",
      "\n",
      "Wavefunction is: (1+0j)|0>\n",
      "Outcomes are [[0]\n",
      " [0]\n",
      " [0]\n",
      " [0]\n",
      " [0]\n",
      " [0]\n",
      " [0]\n",
      " [0]\n",
      " [0]\n",
      " [0]]\n",
      "1.0\n",
      "<function X at 0x7eff90631158>\n",
      "\n",
      "<function X at 0x7eff90631158>\n",
      "X 0\n",
      "\n",
      "<function X at 0x7eff90631158>\n",
      "X 0\n",
      "X 0\n",
      "\n",
      "<function X at 0x7eff90631158>\n",
      "X 0\n",
      "X 0\n",
      "X 0\n",
      "\n",
      "Wavefunction is: (1+0j)|0>\n",
      "Outcomes are [[0]\n",
      " [0]\n",
      " [0]\n",
      " [0]\n",
      " [0]\n",
      " [0]\n",
      " [0]\n",
      " [0]\n",
      " [0]\n",
      " [0]]\n",
      "1.0\n",
      "<function X at 0x7eff90631158>\n",
      "\n",
      "<function X at 0x7eff90631158>\n",
      "X 0\n",
      "\n",
      "<function X at 0x7eff90631158>\n",
      "X 0\n",
      "X 0\n",
      "\n",
      "<function X at 0x7eff90631158>\n",
      "X 0\n",
      "X 0\n",
      "X 0\n",
      "\n",
      "<function X at 0x7eff90631158>\n",
      "X 0\n",
      "X 0\n",
      "X 0\n",
      "X 0\n",
      "\n",
      "Wavefunction is: (1+0j)|0>\n",
      "Outcomes are [[0]\n",
      " [0]\n",
      " [0]\n",
      " [0]\n",
      " [0]\n",
      " [0]\n",
      " [0]\n",
      " [0]\n",
      " [0]\n",
      " [0]]\n",
      "1.0\n",
      "The sequence lengths are: [2, 3, 4, 5]\n",
      "\n",
      "The average fidelities are: [1. 1. 1. 1.]\n"
     ]
    }
   ],
   "source": [
    "def compute_avg_fidelity(random_seeds, clifford_gates, lengths, num_shots, noise=False, p=0.1):\n",
    "    average_fidelities = np.zeros(len(lengths)) # Array of average fidelities for each sequence length\n",
    "    \n",
    "    num_seq_repeats = len(random_seeds)\n",
    "    for length in range(len(lengths)):\n",
    "        fidelity = np.zeros(num_seq_repeats)\n",
    "        seq_len = lengths[length]\n",
    "        for repeat in range(num_seq_repeats):\n",
    "            circuit = Program()\n",
    "            fidelity[repeat] = compute_fidelity(circuit, repeat, clifford_gates, seq_len, num_shots)\n",
    "        average_fidelities[length] = (1/num_seq_repeats)*np.sum(fidelity)\n",
    "    \n",
    "    return average_fidelities\n",
    "\n",
    "sequence_length_repeats = 10 # Number of repeats of a particular sequence length\n",
    "\n",
    "random_seeds = np.arange(0, 10, sequence_length_repeats)\n",
    "num_shots = 10\n",
    "clifford_gates = [Z, X]\n",
    "\n",
    "average_fidelities = compute_avg_fidelity(random_seeds, clifford_gates, lengths, num_shots)\n",
    "print('The sequence lengths are:', lengths)\n",
    "print('\\nThe average fidelities are:' , average_fidelities)"
   ]
  },
  {
   "cell_type": "markdown",
   "metadata": {},
   "source": [
    "Next, we can plot the average fidelity as a function of the quantum circuit sequence lengths.\n",
    "In the ideal case (that you have just done), clearly the average fidelity should be the same regardless of the sequence length.\n",
    "\n",
    "When the inverse sequence of gates was applied, there was no noise, so effectively nothing happened to the $|0\\rangle$ state; it returned to the $\\0\\rangle$ state **every** time, and the fidelity should always be $1$.\n",
    "\n",
    "Increasing the length of the circuit does not affect this.\n",
    "\n",
    "We can plot the average fidelities as a function of the sequence lengths (this is a trivial task in this case, but it will become relevant shortly.)"
   ]
  },
  {
   "cell_type": "code",
   "execution_count": 8,
   "metadata": {},
   "outputs": [
    {
     "data": {
      "text/plain": [
       "[<matplotlib.lines.Line2D at 0x7eff836fab38>]"
      ]
     },
     "execution_count": 8,
     "metadata": {},
     "output_type": "execute_result"
    },
    {
     "data": {
      "image/png": "[encoded data removed]",
      "text/plain": [
       "<Figure size 432x288 with 1 Axes>"
      ]
     },
     "metadata": {},
     "output_type": "display_data"
    }
   ],
   "source": [
    "plt.plot(lengths, average_fidelities)"
   ]
  },
  {
   "cell_type": "markdown",
   "metadata": {},
   "source": [
    "Next, we must define 'noisy' gates to benchmark.\n",
    "\n",
    "These will be noisy versions of the perfect clifford gates we used above.\n",
    "\n",
    "For example, imagine our sequence of (one) random cliffords was $X$ applied the the input state:\n",
    "\n",
    "\\begin{align}\n",
    "X|0\\rangle\n",
    "\\end{align}\n",
    "\n",
    "The corresponding density matrix would be (in the perfect case):\n",
    "\n",
    "\\begin{align}\n",
    "\\rho_{ideal} = X|0\\rangle\\langle 0|X\n",
    "\\end{align}\n",
    "\n",
    "Now we can use the density matrix formalism to describe an ***error channel***. Firstly we can examine what is called a '*dephasing*' error channel, which means an erroneous phase error is applied to the state with some probability.\n",
    "\n",
    "In other words, after we thought we had applied the $X$ gates to the state, because of the presence of this error channel, the *actual* state will be the correct state, with some probability, $p$, and some other state (with an error), with the remaining probability (1-p):\n",
    "\n",
    "\\begin{align}\n",
    "\\rho_{noisy} = \\begin{cases}\n",
    "\\rho =  X|0\\rangle\\langle 0|X  &\\text{ with some probability } p\\\\\n",
    "Z\\rho Z = ZX|0\\rangle\\langle 0|XZ &\\text{ with probability } 1-p\n",
    "\\end{cases}\n",
    "\\end{align}\n",
    "\n",
    "We can represent this by a *statistical mixture of these two possibilities*:\n",
    "\\begin{align}\n",
    "\\rho_{noisy} = \\mathcal{E}_{dephase}(\\rho_{ideal}) =  p\\rho_{ideal}+ (1-p)Z\\rho_{ideal} Z = pX|0\\rangle\\langle 0|X+ (1-p)ZX|0\\rangle\\langle 0|XZ \n",
    "\\end{align}\n",
    "\n",
    "where $\\mathcal{E}_{dephase}(\\rho_{ideal})$ is the dephasing error channel applied to the *ideal* state, $\\rho_{ideal}$."
   ]
  },
  {
   "cell_type": "markdown",
   "metadata": {},
   "source": [
    "In the simplest example, we can assume this **same** error channel, $\\mathcal{E}_{dephase}$  with the **same** error strength, $p$, is applied after ***every*** random gate. \n",
    "\n",
    "We can then use apply the same protocol as above with the noisy clifford gates (with this dephasing error model)\n",
    "to get an idea of the average fidelity of the process.\n",
    "\n",
    "*Hint: This should **not** be $1$ for all sequence lengths in this case, we should see the fidelity decay as longer sequences are applied $\\rightarrow$ the effect of noise compounds after each gate.*"
   ]
  },
  {
   "cell_type": "markdown",
   "metadata": {},
   "source": [
    "Of course, when using the simulator, we must **artificially** define our noisy gates. We will directly use the example [here](http://docs.rigetti.com/en/stable/noise.html) to create the dephasing channel.\n",
    "\n",
    "This uses the idea of Kraus maps, which is a generalisation of the above, for our purposes, a kraus map is just defined by a matrix, for example $Z$ or the identity $I$ (which would be the ideal case).\n",
    "\n",
    "The above equation can be written as:\n",
    "\n",
    "\\begin{align}\n",
    "\\rho_{noisy} = \\mathcal{E}_{dephase}(\\rho_{ideal}) =  \\sqrt{p}\\mathbb{I}\\rho_{ideal} \\sqrt{p}\\mathbb{I}+ \\sqrt(1-p)Z\\rho_{ideal} \\sqrt(1-p)Z \n",
    "\\end{align}\n"
   ]
  },
  {
   "cell_type": "code",
   "execution_count": 9,
   "metadata": {},
   "outputs": [],
   "source": [
    "# # Define function to return the operators sqrt(p)I, sqrt(1-p)Z\n",
    "# def dephasing_kraus_map(p):\n",
    "#     \"\"\"\n",
    "#     Generate the Kraus operators corresponding to a dephasing channel.\n",
    "\n",
    "#     :params float p: The one-step dephasing probability.\n",
    "#     :return: A list [k1, k2] of the Kraus operators that parametrize the map.\n",
    "#     :rtype: list\n",
    "#     \"\"\"\n",
    "#     return [np.sqrt(1-p)*np.eye(2), np.sqrt(p)*np.diag([1, -1])]"
   ]
  },
  {
   "cell_type": "markdown",
   "metadata": {},
   "source": [
    "Now we must apply this channel to the target gate, which must be done for each of the Clifford gates.\n",
    "The example for the X gate is below:\n",
    "\n",
    "*Note: This is only done for this example, you will not use the program 'test_circuit' afterwards.*"
   ]
  },
  {
   "cell_type": "code",
   "execution_count": 10,
   "metadata": {},
   "outputs": [],
   "source": [
    "# p = .1\n",
    "# corrupted_X = append_kraus_to_gate(dephasing_kraus_map(p), np.array([[0, 1], [1, 0]]))\n",
    "\n",
    "# test_circuit = Program()\n",
    "# noisy_x =  test_circuit.define_noisy_gate(\"X\", [0], corrupted_X)\n",
    "\n",
    "# test_circuit += X(0)\n",
    "# # noisy_x =  test_circuit.define_noisy_gate(\"X\", [0], corrupted_X)\n",
    "# print(test_circuit)\n",
    "# from auxiliary_functions.auxiliary_noise import define_noisy_cliffords, override_cliffords_in_circuit\n"
   ]
  },
  {
   "cell_type": "code",
   "execution_count": 11,
   "metadata": {},
   "outputs": [
    {
     "name": "stdout",
     "output_type": "stream",
     "text": [
      "[<function DefGate.get_constructor.<locals>.<lambda> at 0x7eff837b47b8>, <function DefGate.get_constructor.<locals>.<lambda> at 0x7eff8f7d5a60>, <function DefGate.get_constructor.<locals>.<lambda> at 0x7eff83785d90>]\n",
      "DEFGATE NOISY_X(%p):\n",
      "    0, 1 - %p\n",
      "    1 - %p, 0\n",
      "\n",
      "DEFGATE NOISY_Z:\n",
      "    1, 0\n",
      "    0, -1\n",
      "\n",
      "DEFGATE NOISY_H(%p):\n",
      "    0.7071067811865475, 0.7071067811865475*(1 - 2*%p)\n",
      "    0.7071067811865475*(1 - 2*%p), 0.7071067811865475\n",
      "\n",
      "\n"
     ]
    }
   ],
   "source": [
    "# from pyquil.quilbase import DefGate\n",
    "# from pyquil.parameters import Parameter\n",
    "\n",
    "# p = Parameter('p')\n",
    "# Z = np.diag([1, -1])\n",
    "# X = np.array([[0, 1], [1, 0]])\n",
    "# H = (1/np.sqrt(2))*np.array([[1, 1], [1, -1]])\n",
    "\n",
    "# corrupted_X = (1-p)*X + p*Z*X*Z \n",
    "# corrupted_H = np.array([[0, 1-p], [1-p, 0]])\n",
    "# # corrupted_Z = (1-p)*Z + p*Z*Z*Z \n",
    "# # corrupted_H = np.array((1-p)*H + p*Z*H*Z) \n",
    "# print(type(corrupted_X))\n",
    "\n",
    "# gate_definition_X = DefGate('NOISY_X', corrupted_X, [p])\n",
    "# NOISY_X = gate_definition_X.get_constructor()\n",
    "\n",
    "# circuit  = Program()\n",
    "# circuit += gate_definition_X\n",
    "# circuit += NOISY_X(0.9)(0)\n",
    "# print(circuit\n",
    "#      )\n",
    "\n",
    "p= 0.9\n",
    "circuit = Program()\n",
    "\n",
    "circuit, noisy_cliffords = define_noisy_cliffords(circuit, p)\n",
    "print(noisy_cliffords)\n",
    "# circuit = define_noisy_gates_in_circuit(circuit, noisy_cliffords)\n",
    "print(circuit)"
   ]
  },
  {
   "cell_type": "code",
   "execution_count": null,
   "metadata": {},
   "outputs": [],
   "source": []
  },
  {
   "cell_type": "markdown",
   "metadata": {},
   "source": [
    "We can load the sequence of predefined noisy clifford gates from an auxiliary function:"
   ]
  },
  {
   "cell_type": "code",
   "execution_count": 12,
   "metadata": {},
   "outputs": [
    {
     "name": "stdout",
     "output_type": "stream",
     "text": [
      "[<function DefGate.get_constructor.<locals>.<lambda> at 0x7eff837b4510>, <function DefGate.get_constructor.<locals>.<lambda> at 0x7eff837b4598>, <function DefGate.get_constructor.<locals>.<lambda> at 0x7eff80672158>]\n",
      "Outcomes are [[1]\n",
      " [1]\n",
      " [1]\n",
      " [0]\n",
      " [1]]\n"
     ]
    }
   ],
   "source": [
    "p = 0.8\n",
    "circuit = Program()\n",
    "\n",
    "circuit, noisy_clifford_gates = define_noisy_cliffords(circuit, p)\n",
    "print(noisy_clifford_gates)\n",
    "# circuit = define_noisy_gates_in_circuit(circuit, noisy_cliffords)\n",
    "\n",
    "[Noisy_X, Noisy_Z, Noisy_H] = noisy_clifford_gates\n",
    "\n",
    "# print(circuit)\n",
    "\n",
    "circuit += Noisy_H(p)(0)\n",
    "circuit += Noisy_X(p)(0)\n",
    "circuit += Noisy_Z(0)\n",
    "\n",
    "circuit += Noisy_H(p)(0)\n",
    "circuit += Noisy_Z(0)\n",
    "circuit += Noisy_X(p)(0)\n",
    "\n",
    "num_shots = 5\n",
    "\n",
    "ro = circuit.declare('ro', 'BIT', 1)\n",
    "circuit += MEASURE(qubits[0], ro[0])\n",
    "circuit.wrap_in_numshots_loop(num_shots)\n",
    "\n",
    "executable = qc.compile(circuit)\n",
    "results = qc.run(executable)\n",
    "\n",
    "# with local_qvm():\n",
    "#     wf = make_wf.wavefunction(circuit)\n",
    "    \n",
    "# print('Wavefunction is:', wf)\n",
    "print('Outcomes are',results)\n"
   ]
  },
  {
   "cell_type": "code",
   "execution_count": 13,
   "metadata": {},
   "outputs": [
    {
     "name": "stdout",
     "output_type": "stream",
     "text": [
      "<function DefGate.get_constructor.<locals>.<lambda> at 0x7eff806720d0>\n",
      "DEFGATE NOISY_X(%p):\n",
      "    0, 1 - %p\n",
      "    1 - %p, 0\n",
      "\n",
      "DEFGATE NOISY_Z:\n",
      "    1, 0\n",
      "    0, -1\n",
      "\n",
      "DEFGATE NOISY_H(%p):\n",
      "    0.7071067811865475, 0.7071067811865475*(1 - 2*%p)\n",
      "    0.7071067811865475*(1 - 2*%p), 0.7071067811865475\n",
      "\n",
      "\n",
      "<function DefGate.get_constructor.<locals>.<lambda> at 0x7eff806720d0>\n",
      "DEFGATE NOISY_X(%p):\n",
      "    0, 1 - %p\n",
      "    1 - %p, 0\n",
      "\n",
      "DEFGATE NOISY_Z:\n",
      "    1, 0\n",
      "    0, -1\n",
      "\n",
      "DEFGATE NOISY_H(%p):\n",
      "    0.7071067811865475, 0.7071067811865475*(1 - 2*%p)\n",
      "    0.7071067811865475*(1 - 2*%p), 0.7071067811865475\n",
      "\n",
      "NOISY_Z 0\n",
      "\n",
      "Wavefunction is: (1+0j)|0>\n",
      "Outcomes are [[0]\n",
      " [0]\n",
      " [0]\n",
      " [0]\n",
      " [0]]\n",
      "1.0\n",
      "<function DefGate.get_constructor.<locals>.<lambda> at 0x7eff80672c80>\n",
      "DEFGATE NOISY_X(%p):\n",
      "    0, 1 - %p\n",
      "    1 - %p, 0\n",
      "\n",
      "DEFGATE NOISY_Z:\n",
      "    1, 0\n",
      "    0, -1\n",
      "\n",
      "DEFGATE NOISY_H(%p):\n",
      "    0.7071067811865475, 0.7071067811865475*(1 - 2*%p)\n",
      "    0.7071067811865475*(1 - 2*%p), 0.7071067811865475\n",
      "\n",
      "\n",
      "<function DefGate.get_constructor.<locals>.<lambda> at 0x7eff80672d08>\n",
      "DEFGATE NOISY_X(%p):\n",
      "    0, 1 - %p\n",
      "    1 - %p, 0\n",
      "\n",
      "DEFGATE NOISY_Z:\n",
      "    1, 0\n",
      "    0, -1\n",
      "\n",
      "DEFGATE NOISY_H(%p):\n",
      "    0.7071067811865475, 0.7071067811865475*(1 - 2*%p)\n",
      "    0.7071067811865475*(1 - 2*%p), 0.7071067811865475\n",
      "\n",
      "NOISY_Z 0\n",
      "\n"
     ]
    },
    {
     "ename": "TypeError",
     "evalue": "Invalid instruction: <function DefGate.get_constructor.<locals>.<lambda>.<locals>.<lambda> at 0x7eff80672d90>",
     "output_type": "error",
     "traceback": [
      "\u001b[0;31m---------------------------------------------------------------------------\u001b[0m",
      "\u001b[0;31mTypeError\u001b[0m                                 Traceback (most recent call last)",
      "\u001b[0;32m<ipython-input-13-5bb7ada18393>\u001b[0m in \u001b[0;36m<module>\u001b[0;34m()\u001b[0m\n\u001b[1;32m     21\u001b[0m \u001b[0;31m# clifford_gates = [Z, X]\u001b[0m\u001b[0;34m\u001b[0m\u001b[0;34m\u001b[0m\u001b[0m\n\u001b[1;32m     22\u001b[0m \u001b[0;34m\u001b[0m\u001b[0m\n\u001b[0;32m---> 23\u001b[0;31m \u001b[0maverage_fidelities\u001b[0m \u001b[0;34m=\u001b[0m \u001b[0mcompute_avg_fidelity_noisy\u001b[0m\u001b[0;34m(\u001b[0m\u001b[0mrandom_seeds\u001b[0m\u001b[0;34m,\u001b[0m \u001b[0mlengths\u001b[0m\u001b[0;34m,\u001b[0m \u001b[0mnum_shots\u001b[0m\u001b[0;34m)\u001b[0m\u001b[0;34m\u001b[0m\u001b[0m\n\u001b[0m\u001b[1;32m     24\u001b[0m \u001b[0mprint\u001b[0m\u001b[0;34m(\u001b[0m\u001b[0;34m'The sequence lengths are:'\u001b[0m\u001b[0;34m,\u001b[0m \u001b[0mlengths\u001b[0m\u001b[0;34m)\u001b[0m\u001b[0;34m\u001b[0m\u001b[0m\n\u001b[1;32m     25\u001b[0m \u001b[0mprint\u001b[0m\u001b[0;34m(\u001b[0m\u001b[0;34m'\\nThe average fidelities are:'\u001b[0m \u001b[0;34m,\u001b[0m \u001b[0maverage_fidelities\u001b[0m\u001b[0;34m)\u001b[0m\u001b[0;34m\u001b[0m\u001b[0m\n",
      "\u001b[0;32m<ipython-input-13-5bb7ada18393>\u001b[0m in \u001b[0;36mcompute_avg_fidelity_noisy\u001b[0;34m(random_seeds, lengths, num_shots, noise, p)\u001b[0m\n\u001b[1;32m     11\u001b[0m             \u001b[0;34m[\u001b[0m\u001b[0mNoisy_X\u001b[0m\u001b[0;34m,\u001b[0m \u001b[0mNoisy_Z\u001b[0m\u001b[0;34m,\u001b[0m \u001b[0mNoisy_H\u001b[0m\u001b[0;34m]\u001b[0m \u001b[0;34m=\u001b[0m \u001b[0mnoisy_clifford_gates\u001b[0m\u001b[0;34m\u001b[0m\u001b[0m\n\u001b[1;32m     12\u001b[0m \u001b[0;34m\u001b[0m\u001b[0m\n\u001b[0;32m---> 13\u001b[0;31m             \u001b[0mfidelity\u001b[0m\u001b[0;34m[\u001b[0m\u001b[0mrepeat\u001b[0m\u001b[0;34m]\u001b[0m \u001b[0;34m=\u001b[0m \u001b[0mcompute_fidelity\u001b[0m\u001b[0;34m(\u001b[0m\u001b[0mcircuit\u001b[0m\u001b[0;34m,\u001b[0m \u001b[0mrepeat\u001b[0m\u001b[0;34m,\u001b[0m \u001b[0mnoisy_clifford_gates\u001b[0m\u001b[0;34m,\u001b[0m \u001b[0mseq_len\u001b[0m\u001b[0;34m,\u001b[0m \u001b[0mnum_shots\u001b[0m\u001b[0;34m)\u001b[0m\u001b[0;34m\u001b[0m\u001b[0m\n\u001b[0m\u001b[1;32m     14\u001b[0m         \u001b[0maverage_fidelities\u001b[0m\u001b[0;34m[\u001b[0m\u001b[0mlength\u001b[0m\u001b[0;34m]\u001b[0m \u001b[0;34m=\u001b[0m \u001b[0;34m(\u001b[0m\u001b[0;36m1\u001b[0m\u001b[0;34m/\u001b[0m\u001b[0mnum_seq_repeats\u001b[0m\u001b[0;34m)\u001b[0m\u001b[0;34m*\u001b[0m\u001b[0mnp\u001b[0m\u001b[0;34m.\u001b[0m\u001b[0msum\u001b[0m\u001b[0;34m(\u001b[0m\u001b[0mfidelity\u001b[0m\u001b[0;34m)\u001b[0m\u001b[0;34m\u001b[0m\u001b[0m\n\u001b[1;32m     15\u001b[0m \u001b[0;34m\u001b[0m\u001b[0m\n",
      "\u001b[0;32m<ipython-input-6-8e3678352553>\u001b[0m in \u001b[0;36mcompute_fidelity\u001b[0;34m(circuit, random_seed, clifford_gates, length, num_shots)\u001b[0m\n\u001b[1;32m      1\u001b[0m \u001b[0;32mdef\u001b[0m \u001b[0mcompute_fidelity\u001b[0m\u001b[0;34m(\u001b[0m\u001b[0mcircuit\u001b[0m\u001b[0;34m,\u001b[0m \u001b[0mrandom_seed\u001b[0m\u001b[0;34m,\u001b[0m \u001b[0mclifford_gates\u001b[0m\u001b[0;34m,\u001b[0m \u001b[0mlength\u001b[0m\u001b[0;34m,\u001b[0m \u001b[0mnum_shots\u001b[0m\u001b[0;34m)\u001b[0m\u001b[0;34m:\u001b[0m\u001b[0;34m\u001b[0m\u001b[0m\n\u001b[1;32m      2\u001b[0m \u001b[0;31m#     print('\\n------------------------------------------\\nRandom seed is', random_seed)\u001b[0m\u001b[0;34m\u001b[0m\u001b[0;34m\u001b[0m\u001b[0m\n\u001b[0;32m----> 3\u001b[0;31m     \u001b[0mcircuit\u001b[0m \u001b[0;34m=\u001b[0m \u001b[0mrandom_clifford_sequence\u001b[0m\u001b[0;34m(\u001b[0m\u001b[0mcircuit\u001b[0m\u001b[0;34m,\u001b[0m \u001b[0mrandom_seed\u001b[0m\u001b[0;34m,\u001b[0m \u001b[0mclifford_gates\u001b[0m\u001b[0;34m,\u001b[0m \u001b[0mlength\u001b[0m\u001b[0;34m)\u001b[0m\u001b[0;34m\u001b[0m\u001b[0m\n\u001b[0m\u001b[1;32m      4\u001b[0m \u001b[0;31m#     print(circuit)\u001b[0m\u001b[0;34m\u001b[0m\u001b[0;34m\u001b[0m\u001b[0m\n\u001b[1;32m      5\u001b[0m     \u001b[0mro\u001b[0m \u001b[0;34m=\u001b[0m \u001b[0mcircuit\u001b[0m\u001b[0;34m.\u001b[0m\u001b[0mdeclare\u001b[0m\u001b[0;34m(\u001b[0m\u001b[0;34m'ro'\u001b[0m\u001b[0;34m,\u001b[0m \u001b[0;34m'BIT'\u001b[0m\u001b[0;34m,\u001b[0m \u001b[0;36m2\u001b[0m\u001b[0;34m)\u001b[0m\u001b[0;34m\u001b[0m\u001b[0m\n",
      "\u001b[0;32m<ipython-input-5-94ce06c59d28>\u001b[0m in \u001b[0;36mrandom_clifford_sequence\u001b[0;34m(circuit, random_seed, clifford_gates, length)\u001b[0m\n\u001b[1;32m      4\u001b[0m     \u001b[0mrandom_gates\u001b[0m \u001b[0;34m=\u001b[0m \u001b[0;34m[\u001b[0m\u001b[0;34m]\u001b[0m\u001b[0;34m\u001b[0m\u001b[0m\n\u001b[1;32m      5\u001b[0m     \u001b[0;32mfor\u001b[0m \u001b[0mlength\u001b[0m \u001b[0;32min\u001b[0m \u001b[0mrange\u001b[0m\u001b[0;34m(\u001b[0m\u001b[0mlength\u001b[0m\u001b[0;34m)\u001b[0m\u001b[0;34m:\u001b[0m\u001b[0;34m\u001b[0m\u001b[0m\n\u001b[0;32m----> 6\u001b[0;31m         \u001b[0mcircuit\u001b[0m\u001b[0;34m,\u001b[0m \u001b[0mrandom_clifford_gate\u001b[0m \u001b[0;34m=\u001b[0m \u001b[0mrandom_clifford\u001b[0m\u001b[0;34m(\u001b[0m\u001b[0mcircuit\u001b[0m\u001b[0;34m,\u001b[0m \u001b[0mclifford_gates\u001b[0m\u001b[0;34m,\u001b[0m \u001b[0mrandom_seed\u001b[0m\u001b[0;34m*\u001b[0m\u001b[0mlength\u001b[0m\u001b[0;34m)\u001b[0m\u001b[0;34m\u001b[0m\u001b[0m\n\u001b[0m\u001b[1;32m      7\u001b[0m         \u001b[0mrandom_gates\u001b[0m\u001b[0;34m.\u001b[0m\u001b[0mappend\u001b[0m\u001b[0;34m(\u001b[0m\u001b[0mrandom_clifford_gate\u001b[0m\u001b[0;34m)\u001b[0m     \u001b[0;31m# keep track of gate, run same sequence\u001b[0m\u001b[0;34m\u001b[0m\u001b[0m\n\u001b[1;32m      8\u001b[0m \u001b[0;34m\u001b[0m\u001b[0m\n",
      "\u001b[0;32m<ipython-input-4-cb5a52b9226a>\u001b[0m in \u001b[0;36mrandom_clifford\u001b[0;34m(circuit, clifford_gates, random_seed)\u001b[0m\n\u001b[1;32m      7\u001b[0m     \u001b[0mprint\u001b[0m\u001b[0;34m(\u001b[0m\u001b[0mrandom_clifford_gate\u001b[0m\u001b[0;34m)\u001b[0m\u001b[0;34m\u001b[0m\u001b[0m\n\u001b[1;32m      8\u001b[0m     \u001b[0mprint\u001b[0m\u001b[0;34m(\u001b[0m\u001b[0mcircuit\u001b[0m\u001b[0;34m)\u001b[0m\u001b[0;34m\u001b[0m\u001b[0m\n\u001b[0;32m----> 9\u001b[0;31m     \u001b[0mcircuit\u001b[0m \u001b[0;34m+=\u001b[0m \u001b[0mrandom_clifford_gate\u001b[0m\u001b[0;34m(\u001b[0m\u001b[0mqubits\u001b[0m\u001b[0;34m[\u001b[0m\u001b[0;36m0\u001b[0m\u001b[0;34m]\u001b[0m\u001b[0;34m)\u001b[0m\u001b[0;34m\u001b[0m\u001b[0m\n\u001b[0m\u001b[1;32m     10\u001b[0m     \u001b[0;32mreturn\u001b[0m \u001b[0mcircuit\u001b[0m\u001b[0;34m,\u001b[0m \u001b[0mrandom_clifford_gate\u001b[0m\u001b[0;34m\u001b[0m\u001b[0m\n",
      "\u001b[0;32m~/anaconda3/lib/python3.6/site-packages/pyquil/quil.py\u001b[0m in \u001b[0;36m__iadd__\u001b[0;34m(self, other)\u001b[0m\n\u001b[1;32m    640\u001b[0m         \u001b[0;34m:\u001b[0m\u001b[0mrtype\u001b[0m\u001b[0;34m:\u001b[0m \u001b[0mProgram\u001b[0m\u001b[0;34m\u001b[0m\u001b[0m\n\u001b[1;32m    641\u001b[0m         \"\"\"\n\u001b[0;32m--> 642\u001b[0;31m         \u001b[0;32mreturn\u001b[0m \u001b[0mself\u001b[0m\u001b[0;34m.\u001b[0m\u001b[0minst\u001b[0m\u001b[0;34m(\u001b[0m\u001b[0mother\u001b[0m\u001b[0;34m)\u001b[0m\u001b[0;34m\u001b[0m\u001b[0m\n\u001b[0m\u001b[1;32m    643\u001b[0m \u001b[0;34m\u001b[0m\u001b[0m\n\u001b[1;32m    644\u001b[0m     \u001b[0;32mdef\u001b[0m \u001b[0m__getitem__\u001b[0m\u001b[0;34m(\u001b[0m\u001b[0mself\u001b[0m\u001b[0;34m,\u001b[0m \u001b[0mindex\u001b[0m\u001b[0;34m)\u001b[0m\u001b[0;34m:\u001b[0m\u001b[0;34m\u001b[0m\u001b[0m\n",
      "\u001b[0;32m~/anaconda3/lib/python3.6/site-packages/pyquil/quil.py\u001b[0m in \u001b[0;36minst\u001b[0;34m(self, *instructions)\u001b[0m\n\u001b[1;32m    188\u001b[0m                 \u001b[0mself\u001b[0m\u001b[0;34m.\u001b[0m\u001b[0m_synthesized_instructions\u001b[0m \u001b[0;34m=\u001b[0m \u001b[0;32mNone\u001b[0m\u001b[0;34m\u001b[0m\u001b[0m\n\u001b[1;32m    189\u001b[0m             \u001b[0;32melse\u001b[0m\u001b[0;34m:\u001b[0m\u001b[0;34m\u001b[0m\u001b[0m\n\u001b[0;32m--> 190\u001b[0;31m                 \u001b[0;32mraise\u001b[0m \u001b[0mTypeError\u001b[0m\u001b[0;34m(\u001b[0m\u001b[0;34m\"Invalid instruction: {}\"\u001b[0m\u001b[0;34m.\u001b[0m\u001b[0mformat\u001b[0m\u001b[0;34m(\u001b[0m\u001b[0minstruction\u001b[0m\u001b[0;34m)\u001b[0m\u001b[0;34m)\u001b[0m\u001b[0;34m\u001b[0m\u001b[0m\n\u001b[0m\u001b[1;32m    191\u001b[0m \u001b[0;34m\u001b[0m\u001b[0m\n\u001b[1;32m    192\u001b[0m         \u001b[0;32mreturn\u001b[0m \u001b[0mself\u001b[0m\u001b[0;34m\u001b[0m\u001b[0m\n",
      "\u001b[0;31mTypeError\u001b[0m: Invalid instruction: <function DefGate.get_constructor.<locals>.<lambda>.<locals>.<lambda> at 0x7eff80672d90>"
     ]
    }
   ],
   "source": [
    "def compute_avg_fidelity_noisy(random_seeds, lengths, num_shots, noise=False, p=0.1):\n",
    "    average_fidelities = np.zeros(len(lengths)) # Array of average fidelities for each sequence length\n",
    "    \n",
    "    num_seq_repeats = len(random_seeds)\n",
    "    for length in range(len(lengths)):\n",
    "        fidelity = np.zeros(num_seq_repeats)\n",
    "        seq_len = lengths[length]\n",
    "        for repeat in range(num_seq_repeats):\n",
    "            circuit = Program()\n",
    "            circuit, noisy_clifford_gates = define_noisy_cliffords(circuit, p)\n",
    "            [Noisy_X, Noisy_Z, Noisy_H] = noisy_clifford_gates\n",
    "\n",
    "            fidelity[repeat] = compute_fidelity(circuit, repeat, noisy_clifford_gates, seq_len, num_shots)\n",
    "        average_fidelities[length] = (1/num_seq_repeats)*np.sum(fidelity)\n",
    "    \n",
    "    return average_fidelities\n",
    "sequence_length_repeats = 5 # Number of repeats of a particular sequence length\n",
    "\n",
    "random_seeds = np.arange(0, 10, sequence_length_repeats)\n",
    "num_shots = 5\n",
    "# clifford_gates = [Z, X]\n",
    "\n",
    "average_fidelities = compute_avg_fidelity_noisy(random_seeds, lengths, num_shots)\n",
    "print('The sequence lengths are:', lengths)\n",
    "print('\\nThe average fidelities are:' , average_fidelities)\n"
   ]
  }
 ],
 "metadata": {
  "kernelspec": {
   "display_name": "Python 3",
   "language": "python",
   "name": "python3"
  },
  "language_info": {
   "codemirror_mode": {
    "name": "ipython",
    "version": 3
   },
   "file_extension": ".py",
   "mimetype": "text/x-python",
   "name": "python",
   "nbconvert_exporter": "python",
   "pygments_lexer": "ipython3",
   "version": "3.6.5"
  }
 },
 "nbformat": 4,
 "nbformat_minor": 2
}
