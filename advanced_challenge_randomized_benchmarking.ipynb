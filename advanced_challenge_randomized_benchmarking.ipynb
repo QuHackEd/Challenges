{
 "cells": [
  {
   "cell_type": "markdown",
   "metadata": {},
   "source": [
    "# <font color='blue'>Advanced Challenge: Randomized Benchmarking</font> \n",
    "\n",
    "In this challenge, you will implement randomised benchmarking, a protocol to determine the \n",
    "average gate fidelity of a quantum process.\n",
    "\n",
    "You saw the basic idea in Ellen's talk a few days ago.\n",
    "\n",
    "One of the first papers on this subject can be found [here](https://arxiv.org/abs/0707.0963).\n",
    "\n",
    "This is a method which is 'easy' to implement in the near term, and gives an ideal about how well our\n",
    "quantum device is performing. In this sense, it is a *lightweight* form of verification of quantum computation.\n",
    "\n",
    "## <font color='red'>About this challenge</font> \n",
    "\n",
    "In this challenge, you can implement the randomized benchmarking protocol in the simplest case (RB of a single qubit).\n",
    "\n",
    "### <font color='orange'>Part 1:</font> \n",
    "\n",
    "First, you can do it for the 'trivial' case, i.e. the case where our quantum gates have **no** errors (of course this is pointless, since it is exactly the point of RB to determine some error, which will be zero in this case!)\n",
    "but it will show you how the protocol works.\n",
    "\n",
    "### <font color='orange'>Part 2:</font> \n",
    "\n",
    "Then we can try and artificially introduce errors on each gate, and use RB to determine the average value of this error."
   ]
  },
  {
   "cell_type": "markdown",
   "metadata": {},
   "source": [
    "Firstly, import the usual things we need:"
   ]
  },
  {
   "cell_type": "code",
   "execution_count": null,
   "metadata": {},
   "outputs": [],
   "source": [
    "from pyquil import Program\n",
    "from pyquil.api import get_qc, WavefunctionSimulator, local_qvm\n",
    "from pyquil.gates import *\n",
    "import numpy as np\n",
    "import os, inspect, sys\n",
    "import matplotlib.pyplot as plt\n",
    "import sys\n",
    "sys.path.insert(0, 'tests/')\n",
    "sys.path.insert(0, 'auxiliary_functions/')\n",
    "\n",
    "from auxiliary_functions.auxiliary_rb import *\n",
    "\n",
    "%matplotlib inline\n",
    "\n",
    "make_wf = WavefunctionSimulator()\n"
   ]
  },
  {
   "cell_type": "markdown",
   "metadata": {},
   "source": [
    "We are only using a single qubit, but we will use a two qubit simulator for no particular reason."
   ]
  },
  {
   "cell_type": "code",
   "execution_count": null,
   "metadata": {},
   "outputs": [],
   "source": [
    "qc_name = '2q-qvm'\n",
    "with local_qvm():\n",
    "    qc = get_qc(qc_name)\n",
    "\n",
    "qubits = qc.qubits()"
   ]
  },
  {
   "cell_type": "markdown",
   "metadata": {},
   "source": [
    "We need to run RB for different sequences of gates, which have different lengths. We will want to get a 'datapoint' for each of these sequence lengths.\n",
    "\n",
    "The longer the gate sequence, the more error is introduced, so it is less likely to find the qubit in the correct state at the end (*this will make more sense shortly*)"
   ]
  },
  {
   "cell_type": "code",
   "execution_count": null,
   "metadata": {},
   "outputs": [],
   "source": [
    "#Firstly define the pulse lengths. This will be the number of gates in a particular run\n",
    "    \n",
    "lengths = [2, 3, 4, 5, 10, 15, 20, 25, 30, 40, 50, 80, 90, 100] \n"
   ]
  },
  {
   "cell_type": "markdown",
   "metadata": {},
   "source": [
    "### <font color='orange'>Back to Part 1:</font> \n",
    "\n",
    "## Randomized Benchmarking Protocol: Ideal Case\n",
    "\n",
    "Here, we will apply noiseless gates (since we are using a perfect simulator), so the computation should be perfect.\n",
    "\n",
    "## <font color='red'>Task:</font> \n",
    "\n",
    "Define a function which takes a list of the possible gates and creates a **list** of random gates of length 'seq_len', which will be applied to the zeroth qubit in the chip. \n",
    "\n",
    "The gates we apply will be from the [Clifford Group](https://en.wikipedia.org/wiki/Clifford_algebra#Clifford_group) for technical reasons. From the [Gottesman-Knill Theorem](https://en.wikipedia.org/wiki/Gottesman%E2%80%93Knill_theorem), this gate set can be simulated efficiently by a classical computer."
   ]
  },
  {
   "cell_type": "code",
   "execution_count": null,
   "metadata": {},
   "outputs": [],
   "source": [
    "import random\n",
    "\n",
    "def random_clifford_noiseless_sequence(clifford_gates, seq_len):\n",
    "    '''Generates a sequence of random gates from the set of noiy gates of length 'seq_len' '''   \n",
    "    random_gate_sequence = []\n",
    " \n",
    "    return random_gate_sequence"
   ]
  },
  {
   "cell_type": "markdown",
   "metadata": {},
   "source": [
    "## <font color='red'>Task:</font> \n",
    "\n",
    "Next, define a function which takes in a Quil Program (a quantum circuit) and applies this sequence of gates, and then applies the inverse of every gate in the list."
   ]
  },
  {
   "cell_type": "code",
   "execution_count": null,
   "metadata": {},
   "outputs": [],
   "source": [
    "def apply_random_noiseless_gate_sequence(circuit, random_gate_sequence):\n",
    "    '''Applies the random_gate_sequence of length 'seq_len' to the circuit'''\n",
    "    \n",
    "    circuit += #Apply sequence here\n",
    " \n",
    "    return circuit\n"
   ]
  },
  {
   "cell_type": "markdown",
   "metadata": {},
   "source": [
    "Finally, \n",
    "\n",
    "Now take that circuit of random cliffords, and measure the fidelity of the final state remaining in the initial state. \n",
    "\n",
    "The final state is denoted $|\\psi\\rangle$, and the initial state was the computational basis state, $|0\\rangle$.\n",
    "\n",
    "If the sequence was perfectly inverted, (which it will be in the perfect case), we get back exactly the state we started with (i.e. as if the identity was applied and nothing happened to the state - in the noisy case this will not be true)\n",
    "\n",
    "We measure 'how much' of the original state is left by measuring the ***fidelity*** which is given by:\n",
    "\n",
    "\\begin{align}\n",
    "F = |\\langle 0 |\\psi \\rangle|^2 = \\Pr(final state = |0\\rangle)\n",
    "\\end{align}\n",
    "\n",
    "So we can estimate this by measuring the qubit a number of times, and counting the number of times we get the '0' ($|0\\rangle$) outcome.\n",
    "\n",
    "## <font color='red'>Task:</font> \n",
    "### Apply a measurement on the single qubit and compute the fidelity.\n",
    "\n",
    "In other words, compute the relative number of times we see the '0' outcome - the probability of getting 0"
   ]
  },
  {
   "cell_type": "code",
   "execution_count": null,
   "metadata": {},
   "outputs": [],
   "source": [
    "def compute_fidelity_noiseless(circuit, random_gate_seq, length, num_shots):\n",
    "    \n",
    "    circuit = apply_random_noiseless_gate_sequence(circuit, random_gate_seq) # Apply the random sequence\n",
    "  \n",
    "    prob_zero = # Compute fidelity here \n",
    "\n",
    "    return prob_zero\n"
   ]
  },
  {
   "cell_type": "markdown",
   "metadata": {},
   "source": [
    "## <font color='red'>Task:</font> \n",
    "### Finally, we will compute the average fidelity of the process, *per run*, *per sequence length*, by just running this many times\n",
    "\n",
    "We need:\n",
    "\n",
    "\\begin{align}\n",
    "1) &\\text{ The number of measurement shots to measure the qubit in computing the fidelity **in each run** . }\\\\\n",
    "2) &\\text{ The number of times we want to run a sequence of gates of a particular length. }\\\\\n",
    "3) &\\text{ The number of sequence lengths we choose. }\\\\\n",
    "\\end{align}\n",
    "\n",
    "*Note: You should not need to alter the below function*"
   ]
  },
  {
   "cell_type": "code",
   "execution_count": null,
   "metadata": {},
   "outputs": [],
   "source": [
    "def compute_avg_fidelity_noiseless(lengths, num_shots, num_seq_repeats):\n",
    "    \n",
    "    average_fidelities = np.zeros(len(lengths)) # Array of average fidelities for each sequence length\n",
    "    \n",
    "    for length in range(len(lengths)):\n",
    "        clifford_gates = define_cliffords_part1()# Define the list of possible Clifford gates (predefined for you)\n",
    "        random_gate_seq = random_clifford_noiseless_sequence(clifford_gates, length) # Choose random sequence\n",
    "        \n",
    "        fidelity = np.zeros(num_seq_repeats)\n",
    "        seq_len = lengths[length]\n",
    "        \n",
    "        for repeat in range(num_seq_repeats):\n",
    "            circuit = Program()\n",
    "            # Define noisy cliffords so they can be used in the circuit\n",
    "            circuit = apply_random_noiseless_gate_sequence(circuit, random_gate_seq)\n",
    "\n",
    "            fidelity[repeat] = compute_fidelity_noiseless(circuit, random_gate_seq, length, num_shots)\n",
    "            print('Fidelity for run, ', repeat, 'is', fidelity[repeat])\n",
    "            \n",
    "        average_fidelities[length] = (1/num_seq_repeats)*np.sum(fidelity)\n",
    "        print('Average fidelity for length: \\n', lengths[length],'\\n is:\\n', average_fidelities[length])\n",
    "        \n",
    "    return average_fidelities"
   ]
  },
  {
   "cell_type": "markdown",
   "metadata": {},
   "source": [
    "Ok, now choose the number of shots and number of sequence repeats:"
   ]
  },
  {
   "cell_type": "code",
   "execution_count": null,
   "metadata": {},
   "outputs": [],
   "source": [
    "num_shots =  10\n",
    "num_seq_repeats = 10\n",
    "\n",
    "average_fidelities = compute_avg_fidelity_noiseless(lengths, num_shots, num_seq_repeats)"
   ]
  },
  {
   "cell_type": "markdown",
   "metadata": {},
   "source": [
    "Next, we can plot the average fidelity as a function of the quantum circuit sequence lengths.\n",
    "In the ideal case (that you have just done), clearly the average fidelity should be the same regardless of the sequence length.\n",
    "\n",
    "When the inverse sequence of gates was applied, there was no noise, so effectively nothing happened to the $| 0\\rangle$ state; it returned to the $|0\\rangle$ state **every** time, and the fidelity should always be $1$.\n",
    "\n",
    "Increasing the length of the circuit does not affect this.\n",
    "\n",
    "We can plot the average fidelities as a function of the sequence lengths (this is a trivial task in this case, but it will become relevant shortly.)"
   ]
  },
  {
   "cell_type": "code",
   "execution_count": null,
   "metadata": {},
   "outputs": [],
   "source": [
    "plt.plot(lengths, average_fidelities)"
   ]
  },
  {
   "cell_type": "markdown",
   "metadata": {},
   "source": [
    "## <font color='orange'>Now onto to Part 2:</font> \n",
    "## Randomized Benchmarking Protocol: Noisy Case\n",
    "\n",
    "We will pick a particular noise model to test. This model will apply a specific noise error to *each* gate we apply.\n",
    "\n",
    "## <font color='red'>First things first..</font> \n",
    "\n",
    "Firstly, we must define 'noisy' gates to benchmark.\n",
    "\n",
    "These will be noisy versions of the perfect clifford gates we used above.\n",
    "\n",
    "For example, imagine our sequence of (one) random cliffords was $X$ applied the the input state:\n",
    "\n",
    "\\begin{align}\n",
    "X|0\\rangle\n",
    "\\end{align}\n",
    "\n",
    "The corresponding density matrix would be (in the perfect case):\n",
    "\n",
    "\\begin{align}\n",
    "\\rho_{ideal} = X|0\\rangle\\langle 0|X\n",
    "\\end{align}\n",
    "\n",
    "Now we can use the density matrix formalism to describe an ***error channel***. Firstly we can examine what is called a '*dephasing*' error channel, which means an erroneous phase error is applied to the state with some probability.\n",
    "\n",
    "In other words, after we thought we had applied the $X$ gates to the state, because of the presence of this error channel, the *actual* state will be the correct state, with some probability, $p$, and some other state (with an error), with the remaining probability (1-p):\n",
    "\n",
    "\\begin{align}\n",
    "\\rho_{noisy} = \\begin{cases}\n",
    "\\rho =  X|0\\rangle\\langle 0|X  &\\text{ with some probability } p\\\\\n",
    "Z\\rho Z = ZX|0\\rangle\\langle 0|XZ &\\text{ with probability } 1-p\n",
    "\\end{cases}\n",
    "\\end{align}\n",
    "\n",
    "We can represent this by a *statistical mixture of these two possibilities*:\n",
    "\\begin{align}\n",
    "\\rho_{noisy} = \\mathcal{E}_{dephase}(\\rho_{ideal}) =  p\\rho_{ideal}+ (1-p)Z\\rho_{ideal} Z = pX|0\\rangle\\langle 0|X+ (1-p)ZX|0\\rangle\\langle 0|XZ \n",
    "\\end{align}\n",
    "\n",
    "where $\\mathcal{E}_{dephase}(\\rho_{ideal})$ is the dephasing error channel applied to the *ideal* state, $\\rho_{ideal}$."
   ]
  },
  {
   "cell_type": "markdown",
   "metadata": {},
   "source": [
    "In the simplest example, we can assume this ***<font color='red'>same</font>*** error channel, $\\mathcal{E}_{dephase}$  with the ***<font color='red'>same</font>***  error strength, $p$, is applied after ***<font color='blue'>every</font>***  random gate. \n",
    "\n",
    "We can then use apply the same protocol as above with the noisy clifford gates (with this dephasing error model)\n",
    "to get an idea of the average fidelity of the process.\n",
    "\n",
    "*Hint: This should **not** be $1$ for all sequence lengths in this case, we should see the fidelity decay as longer sequences are applied $\\rightarrow$ the effect of noise compounds after each gate.*"
   ]
  },
  {
   "cell_type": "markdown",
   "metadata": {},
   "source": [
    "Of course, when using the simulator, we must **artificially** define our noisy gates. We will directly use the example [here](http://docs.rigetti.com/en/stable/noise.html) to create the dephasing channel.\n",
    "\n",
    "This uses the idea of Kraus maps, which is a generalisation of the above, for our purposes, a kraus map is just defined by a matrix, for example $Z$ or the identity $I$ (which would be the ideal case).\n",
    "\n",
    "The above equation can be written as:\n",
    "\n",
    "\\begin{align}\n",
    "\\rho_{noisy} = \\mathcal{E}_{dephase}(\\rho_{ideal}) =  (\\sqrt{p}\\mathbb{I})(\\rho_{ideal})(\\sqrt{p}\\mathbb{I})+ \\sqrt{(1-p)}Z\\rho_{ideal} \\sqrt{(1-p)}Z \n",
    "\\end{align}\n"
   ]
  },
  {
   "cell_type": "markdown",
   "metadata": {},
   "source": [
    "## <font color='blue'>Challenge</font> \n",
    "\n",
    "Repeat the entire process above, but instead of applying the **perfect** clifford gates, we must define and implement the noisy versions, which are predefined for you.\n",
    "\n",
    "## <font color='red'>Task</font> \n",
    "\n",
    "Define a function which takes a list of the possible clifford gates and creates a **list** of random gates of length 'seq_len', which will be applied to the zeroth qubit in the chip. \n",
    "\n",
    "*Note: We will not apply gates from the entire clifford group here, for this challenge it will not be relevant (we will see why shortly).\n",
    "In general, we **do** need to apply gates from the entire Clifford group as in the perfect case, above.*\n"
   ]
  },
  {
   "cell_type": "code",
   "execution_count": null,
   "metadata": {},
   "outputs": [],
   "source": [
    "import random\n",
    "\n",
    "def random_clifford_noisy_sequence(noisy_clifford_gates, seq_len):\n",
    "    '''Generates a sequence of random gates from the set of noisy gates of length 'seq_len' '''  \n",
    "    random_noisy_gate_sequence = []\n",
    "    \n",
    "    random_noisy_gate_sequence = # Generate random list here from set of noisy gates\n",
    "    \n",
    "    return random_noisy_gate_sequence\n"
   ]
  },
  {
   "cell_type": "markdown",
   "metadata": {},
   "source": [
    "## <font color='red'>Task:</font> \n",
    "\n",
    "Next, define a function which takes in a Quil Program (a quantum circuit) and applies this sequence of gates, and then applies the inverse of every gate in the list. This is different to the previous (noiseless) case, since in this case, we must define the strength of the error, $p$."
   ]
  },
  {
   "cell_type": "code",
   "execution_count": null,
   "metadata": {},
   "outputs": [],
   "source": [
    "def apply_random_noisy_gate_sequence(circuit, random_gate_sequence):\n",
    "    '''Generates a sequence of random operations'''\n",
    "\n",
    "\n",
    "    circuit += # Apply random sequence of noisy clifford gates and it's inverse here\n",
    "    \n",
    "    return circuit\n"
   ]
  },
  {
   "cell_type": "markdown",
   "metadata": {},
   "source": [
    "## <font color='red'>Task:</font> \n",
    "### Apply a measurement on the single qubit and compute the fidelity.\n",
    "\n",
    "Same as above in the noiseless case.\n",
    "\n",
    "In other words, compute the relative number of times we see the '0' outcome - the probability of getting 0"
   ]
  },
  {
   "cell_type": "code",
   "execution_count": null,
   "metadata": {},
   "outputs": [],
   "source": [
    "def compute_fidelity_noisy(circuit, random_gate_sequence, length, num_shots):\n",
    "    \n",
    "    circuit = apply_random_noisy_gate_sequence(circuit, random_gate_sequence)\n",
    "    \n",
    "    prob_zero = # Compute probability of getting zero here\n",
    "\n",
    "    return prob_zero"
   ]
  },
  {
   "cell_type": "markdown",
   "metadata": {},
   "source": [
    "## <font color='red'>Task:</font> \n",
    "### Finally, we will compute the average fidelity of the process, *per run*, *per sequence length*, by just running this many times, again just as in the ideal case\n",
    "\n",
    "We need:\n",
    "\n",
    "\\begin{align}\n",
    "1) &\\text{ The number of measurement shots to measure the qubit in computing the fidelity **in each run** . }\\\\\n",
    "2) &\\text{ The number of times we want to run a sequence of gates of a particular length. }\\\\\n",
    "3) &\\text{ The number of sequence lengths we choose. }\\\\\n",
    "3) &\\text{ The strength of the noise we apply to each gate. }\\\\\n",
    "\\end{align}\n",
    "\n",
    "*Note: You should not need to alter the below function, as above*"
   ]
  },
  {
   "cell_type": "markdown",
   "metadata": {},
   "source": [
    "We can load the sequence of predefined noisy clifford gates from an auxiliary function:"
   ]
  },
  {
   "cell_type": "code",
   "execution_count": null,
   "metadata": {},
   "outputs": [],
   "source": [
    "def compute_avg_fidelity_noisy(lengths, num_shots, num_seq_repeats, p=0.1):\n",
    "    \n",
    "    average_fidelities = np.zeros(len(lengths)) # Array of average fidelities for each sequence length\n",
    "    \n",
    "    for length in range(len(lengths)):\n",
    "        clifford_gates = define_cliffords_part2()# Define list \n",
    "        noisy_clifford_gates = define_noisy_cliffords(p)\n",
    "        # Generate a sequence of noisy gates\n",
    "        random_gate_seq = random_clifford_noisy_sequence(clifford_gates, length) \n",
    "\n",
    "        fidelity = np.zeros(num_seq_repeats)\n",
    "        seq_len = lengths[length]\n",
    "        \n",
    "        for repeat in range(num_seq_repeats):\n",
    "            circuit = Program()\n",
    "            # Define noisy cliffords so they can be used in the circuit\n",
    "            circuit = add_noisy_gates_to_circ(circuit, noisy_clifford_gates)\n",
    "\n",
    "            fidelity[repeat] = compute_fidelity_noisy(circuit, random_gate_seq, length, num_shots)\n",
    "            print('Fidelity for run, ', repeat, 'is', fidelity[repeat])\n",
    "            \n",
    "        average_fidelities[length] = (1/num_seq_repeats)*np.sum(fidelity)\n",
    "        print('Average fidelity for length: \\n', lengths[length],'\\n is:\\n', average_fidelities[length])\n",
    "    return average_fidelities\n",
    "\n",
    "num_seq_repeats = 10# Number of repeats of a particular sequence length\n",
    "\n",
    "num_shots = 10\n",
    "\n",
    "average_fidelities = compute_avg_fidelity_noisy( lengths, num_shots, num_seq_repeats, p=0.1)\n"
   ]
  },
  {
   "cell_type": "code",
   "execution_count": null,
   "metadata": {},
   "outputs": [],
   "source": [
    "plt.plot(lengths, average_fidelities)"
   ]
  },
  {
   "cell_type": "markdown",
   "metadata": {},
   "source": [
    "Oh no! What happened here? For some reason the fidelity was still $1$ for all sequence lengths...\n",
    "\n",
    "What do you think was the cause?\n",
    "\n",
    "*Hint: Have a look at the compiled code produced by the quil compiler. What gates were actually applied to the qubit?*"
   ]
  },
  {
   "cell_type": "code",
   "execution_count": null,
   "metadata": {},
   "outputs": [],
   "source": []
  }
 ],
 "metadata": {
  "kernelspec": {
   "display_name": "Python 3",
   "language": "python",
   "name": "python3"
  },
  "language_info": {
   "codemirror_mode": {
    "name": "ipython",
    "version": 3
   },
   "file_extension": ".py",
   "mimetype": "text/x-python",
   "name": "python",
   "nbconvert_exporter": "python",
   "pygments_lexer": "ipython3",
   "version": "3.6.5"
  }
 },
 "nbformat": 4,
 "nbformat_minor": 2
}
