{
 "cells": [
  {
   "cell_type": "markdown",
   "metadata": {},
   "source": [
    "# Advanced Challenge: Randomized Benchmarking\n",
    "\n",
    "In this challenge, you will implement randomised benchmarking, a protocol to determine the \n",
    "average gate fidelity of a quantum process.\n",
    "\n"
   ]
  },
  {
   "cell_type": "code",
   "execution_count": 1,
   "metadata": {},
   "outputs": [],
   "source": [
    "from pyquil import Program\n",
    "from pyquil.api import get_qc, WavefunctionSimulator, local_qvm\n",
    "from pyquil.gates import *\n",
    "import numpy as np\n",
    "import os, inspect, sys\n",
    "\n",
    "import sys\n",
    "sys.path.insert(0, 'tests/')\n",
    "\n",
    "# from test_single_qubit_unitaries import *\n",
    "\n",
    "# from auxiliary_functions.auxiliary_unitaries import plus_prep, minus_prep\n"
   ]
  },
  {
   "cell_type": "code",
   "execution_count": 2,
   "metadata": {},
   "outputs": [],
   "source": [
    "qc_name = '2q-qvm'\n",
    "with local_qvm():\n",
    "    qc = get_qc(qc_name)\n",
    "\n",
    "qubits = qc.qubits()"
   ]
  },
  {
   "cell_type": "code",
   "execution_count": 3,
   "metadata": {},
   "outputs": [],
   "source": [
    "#Firstly define the pulse lengths:\n",
    "    \n",
    "lengths = [5, 10, 20, 30, 50, 100] "
   ]
  },
  {
   "cell_type": "code",
   "execution_count": 4,
   "metadata": {},
   "outputs": [],
   "source": [
    "import random\n",
    "\n",
    "def random_clifford(circuit, clifford_gates,random_seed):\n",
    "    \n",
    "    random.seed(random_seed)\n",
    "    random_clifford_gate = random.choice(clifford_gates)\n",
    "\n",
    "    circuit += random_clifford_gate(qubits[0])\n",
    "    \n",
    "    return circuit, random_clifford_gate\n"
   ]
  },
  {
   "cell_type": "markdown",
   "metadata": {},
   "source": [
    "Next, define a function to apply a sequence of these random unitaries to the initial state"
   ]
  },
  {
   "cell_type": "code",
   "execution_count": 5,
   "metadata": {},
   "outputs": [],
   "source": [
    "def random_clifford_sequence(circuit, random_seed, clifford_gates, length):\n",
    "    \n",
    "    random_seed = random_seed\n",
    "    random_gates = []\n",
    "    for length in range(length):\n",
    "        circuit, random_clifford_gate = random_clifford(circuit, clifford_gates, random_seed*length)\n",
    "        random_gates.append(random_clifford_gate)     # keep track of gate, run same sequence\n",
    "\n",
    "    for gate in random_gates[::-1]: # Invert sequence and apply gates in reverse order (clifford are self-inverse)\n",
    "        circuit += gate(qubits[0])\n",
    "    return circuit\n",
    "\n",
    "# circuit = Program()\n",
    "# clifford_gates = [H, Z, X]\n",
    "\n",
    "# random_seed = 1\n",
    "# length = 4\n",
    "# circuit = random_clifford_sequence(circuit, random_seed, clifford_gates, length)"
   ]
  },
  {
   "cell_type": "markdown",
   "metadata": {},
   "source": [
    "Now take that circuit of random cliffords, and measure the fidelity of the final state remaining in the initial state. \n",
    "\n",
    "The final state is denoted $|\\psi\\rangle$, and the initial state was the computational basis state, $|0\\rangle$.\n",
    "\n",
    "Therefore the fidelity is:\n",
    "\n",
    "\\begin{align}\n",
    "F = |\\langle 0 |\\psi \\rangle|^2 = \\Pr(final state = |0\\rangle)\n",
    "\\end{align}\n",
    "\n",
    "So we can estimate this by measuring the qubit a number of times, and counting the number of times we get the '0' ($|0\\rangle$) outcome.\n",
    "\n",
    "# Task:\n",
    "## Apply a measurement on the single qubit and compute the fidelity."
   ]
  },
  {
   "cell_type": "code",
   "execution_count": 6,
   "metadata": {},
   "outputs": [
    {
     "name": "stdout",
     "output_type": "stream",
     "text": [
      "1.0\n"
     ]
    }
   ],
   "source": [
    "def compute_fidelity(circuit, random_seed, clifford_gates, length, num_shots):\n",
    "    \n",
    "    circuit = random_clifford_sequence(circuit, random_seed, clifford_gates, length)\n",
    "    \n",
    "    ro = circuit.declare('ro', 'BIT', 1)\n",
    "    circuit += MEASURE(qubits[0], ro[0])\n",
    "    circuit.wrap_in_numshots_loop(num_shots)\n",
    "    \n",
    "    executable = qc.compile(circuit)\n",
    "    results = qc.run(executable)\n",
    "    \n",
    "    prob_zero = list(results).count([0])/num_shots \n",
    "     \n",
    "    \n",
    "    return prob_zero\n",
    "\n",
    "\n",
    "circuit = Program()\n",
    "clifford_gates = [H, Z, X]\n",
    "\n",
    "random_seed = 1\n",
    "length = 4\n",
    "num_shots = 1000\n",
    "\n",
    "fidelity = compute_fidelity(circuit, random_seed, clifford_gates, length, num_shots)\n",
    "\n",
    "print(fidelity)"
   ]
  },
  {
   "cell_type": "code",
   "execution_count": 11,
   "metadata": {},
   "outputs": [
    {
     "name": "stdout",
     "output_type": "stream",
     "text": [
      "The sequence lenghts are: [5, 10, 20, 30, 50, 100]\n",
      "\n",
      "The average fidelities are: [1. 1. 1. 1. 1. 1.]\n"
     ]
    }
   ],
   "source": [
    "def compute_avg_fidelity(random_seeds, clifford_gates, lengths, num_shots):\n",
    "    average_fidelities = np.zeros(len(lengths)) # Array of average fidelities for each sequence length\n",
    "    \n",
    "    num_seq_repeats = len(random_seeds)\n",
    "    for length in range(len(lengths)):\n",
    "        fidelity = np.zeros(num_seq_repeats)\n",
    "        seq_len = lengths[length]\n",
    "        for repeat in range(num_seq_repeats):\n",
    "            circuit = Program()\n",
    "            fidelity[repeat] = compute_fidelity(circuit, random_seed, clifford_gates, seq_len, num_shots)\n",
    "#             print(fidelity)\n",
    "        average_fidelities[length] = (1/num_seq_repeats)*np.sum(fidelity)\n",
    "    \n",
    "    return average_fidelities\n",
    "\n",
    "sequence_length_repeats = 10 # Number of repeats of a particular sequence length\n",
    "\n",
    "random_seeds = np.arange(0, 1000, sequence_length_repeats)\n",
    "num_shots = 10\n",
    "clifford_gates = [H, Z, X]\n",
    "\n",
    "average_fidelities = compute_avg_fidelity( random_seeds, clifford_gates, lengths, num_shots)\n",
    "print('The sequence lenghts are:', lengths)\n",
    "print('\\nThe average fidelities are:' , average_fidelities)\n",
    "# plot avg_fid_per_lenth vs lenght\n",
    "# check if you get 1\n",
    "\n",
    "\n",
    "# Noisy_gates = []"
   ]
  },
  {
   "cell_type": "code",
   "execution_count": null,
   "metadata": {},
   "outputs": [],
   "source": []
  },
  {
   "cell_type": "code",
   "execution_count": null,
   "metadata": {},
   "outputs": [],
   "source": []
  },
  {
   "cell_type": "code",
   "execution_count": null,
   "metadata": {},
   "outputs": [],
   "source": []
  }
 ],
 "metadata": {
  "kernelspec": {
   "display_name": "Python 3",
   "language": "python",
   "name": "python3"
  },
  "language_info": {
   "codemirror_mode": {
    "name": "ipython",
    "version": 3
   },
   "file_extension": ".py",
   "mimetype": "text/x-python",
   "name": "python",
   "nbconvert_exporter": "python",
   "pygments_lexer": "ipython3",
   "version": "3.6.5"
  }
 },
 "nbformat": 4,
 "nbformat_minor": 2
}
