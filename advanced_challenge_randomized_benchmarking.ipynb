{
 "cells": [
  {
   "cell_type": "markdown",
   "metadata": {},
   "source": [
    "# Advanced Challenge: Randomized Benchmarking\n",
    "\n",
    "In this challenge, you will implement randomised benchmarking, a protocol to determine the \n",
    "average gate fidelity of a quantum process.\n",
    "\n"
   ]
  },
  {
   "cell_type": "code",
   "execution_count": null,
   "metadata": {},
   "outputs": [],
   "source": [
    "from pyquil import Program\n",
    "from pyquil.api import get_qc, WavefunctionSimulator\n",
    "from pyquil.gates import *\n",
    "import numpy as np\n",
    "import os, inspect, sys\n",
    "\n",
    "import sys\n",
    "sys.path.insert(0, 'tests/')\n",
    "\n",
    "# from test_single_qubit_unitaries import *\n",
    "\n",
    "# from auxiliary_functions.auxiliary_unitaries import plus_prep, minus_prep\n"
   ]
  },
  {
   "cell_type": "code",
   "execution_count": null,
   "metadata": {},
   "outputs": [],
   "source": [
    "#Firstly define the pulse lengths:\n",
    "    \n",
    "L = [5, 10, 20, 30, 50, 100] \n",
    "\n",
    "circuit = Program()\n",
    "\n",
    "pi_pulses = [0, 1, 2]"
   ]
  },
  {
   "cell_type": "code",
   "execution_count": null,
   "metadata": {},
   "outputs": [],
   "source": [
    "[Z, H, CZ]\n",
    "import random\n",
    "def random_clifford(gates, circuit):\n",
    "    b = random..\n",
    "    if b = 0:\n",
    "        circuit += H(qubit[0])\n",
    "    elif: b =1:\n",
    "        circuit\n",
    "        ..\n",
    "        \n",
    "    return circuit\n",
    "\n",
    "def random_clifford_sequence(circuit, random_seed, seq_len):\n",
    "    \n",
    "    for length in range(seq_len):\n",
    "        circuit = random_clifford(gates, random_seed, circuit)\n",
    "    # keep track of gate, run same sequence\n",
    "    \n",
    "    num_trials = 1000\n",
    "    ro = circuit.declare('ro', 'BIT', 1)\n",
    "    circuit += MEASURE(qubits[0], ro[0])\n",
    "    circuit.wrap_in_numshots_loop(num_trials)\n",
    "    \n",
    "    executable = qc.compile(circuit)\n",
    "    results = qc.run(executable)\n",
    "    \n",
    "    fidelity = num_zeros/num_trials\n",
    "    \n",
    "    return fidelity\n",
    "random_seed = [0, 1000]\n",
    "num_repeats = 1000\n",
    "for lenght in lenghts:\n",
    "    for repeat in repeats:\n",
    "        fidelity = random_clifford_sequence(circuit, random_seed, seq_len):\n",
    "        average_fidelity_per_length[length] = (1/num_repeats)*fidelity\n",
    "\n",
    "plot avg_fid_per_lenth vs lenght\n",
    "check if you get 1\n",
    "\n",
    "\n",
    "Noisy_gates = []"
   ]
  },
  {
   "cell_type": "code",
   "execution_count": null,
   "metadata": {},
   "outputs": [],
   "source": []
  },
  {
   "cell_type": "code",
   "execution_count": null,
   "metadata": {},
   "outputs": [],
   "source": []
  }
 ],
 "metadata": {
  "kernelspec": {
   "display_name": "Python 3",
   "language": "python",
   "name": "python3"
  },
  "language_info": {
   "codemirror_mode": {
    "name": "ipython",
    "version": 3
   },
   "file_extension": ".py",
   "mimetype": "text/x-python",
   "name": "python",
   "nbconvert_exporter": "python",
   "pygments_lexer": "ipython3",
   "version": "3.6.5"
  }
 },
 "nbformat": 4,
 "nbformat_minor": 2
}
