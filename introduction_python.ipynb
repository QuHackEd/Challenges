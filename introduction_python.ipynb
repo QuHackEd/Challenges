{
 "cells": [
  {
   "cell_type": "markdown",
   "metadata": {},
   "source": [
    "# Introduction: Python\n",
    "\n",
    "Here is a brief introduction to some python things which will be useful.\n",
    "\n",
    "If you are familiar with python dictionaries, lists, and numpy (including arrays etc.), feel free to skip this notebook."
   ]
  },
  {
   "cell_type": "markdown",
   "metadata": {},
   "source": [
    "## Python lists\n",
    "\n",
    "A list is one of the most fundamental data-structures. They can contain items of different types and are *ordered* (meaning if items are inputted in a specific order, they remain in this order).\n",
    "\n",
    "Let's declare a empty list to work with:"
   ]
  },
  {
   "cell_type": "code",
   "execution_count": null,
   "metadata": {},
   "outputs": [],
   "source": [
    "our_list = [] # Declare an empty list\n",
    "print(our_list)"
   ]
  },
  {
   "cell_type": "markdown",
   "metadata": {},
   "source": [
    "Now, let's add some things to the list:\n"
   ]
  },
  {
   "cell_type": "code",
   "execution_count": null,
   "metadata": {},
   "outputs": [],
   "source": [
    "our_list.append('apples') # add a string to the list\n",
    "our_list.append(3)        # add an int to the list\n",
    "our_list.append(5.32)     # add a float to the list\n",
    "\n",
    "print(our_list)"
   ]
  },
  {
   "cell_type": "markdown",
   "metadata": {},
   "source": [
    "Now we can pick out elements by index:\n",
    "    "
   ]
  },
  {
   "cell_type": "code",
   "execution_count": null,
   "metadata": {},
   "outputs": [],
   "source": [
    "print(our_list[0]) # this should print the '0'th element of the list\n"
   ]
  },
  {
   "cell_type": "markdown",
   "metadata": {},
   "source": [
    "## Python dictionaries\n",
    "\n",
    "A dictionary is also a useful data structure. They can contain items of different types and are ***un-ordered***.\n",
    "\n",
    "Let's declare a empty dictionary to work with:"
   ]
  },
  {
   "cell_type": "code",
   "execution_count": null,
   "metadata": {},
   "outputs": [],
   "source": [
    "my_dict = {}"
   ]
  },
  {
   "cell_type": "markdown",
   "metadata": {},
   "source": [
    "Dictionary *items* have corresponding *keys* and to work with a particular item in a dictionary, you call it by key, not by index. Let's add a few items to the dict with the corresponding keys"
   ]
  },
  {
   "cell_type": "code",
   "execution_count": null,
   "metadata": {},
   "outputs": [],
   "source": [
    "my_dict['key1'] = 'apple'\n",
    "my_dict['key2'] = 'banana'\n",
    "my_dict['key3'] = 'orange'\n",
    "my_dict['key4'] = 4\n",
    "print(my_dict)"
   ]
  },
  {
   "cell_type": "markdown",
   "metadata": {},
   "source": [
    "Index an element in the dictionary by the corresponding key:"
   ]
  },
  {
   "cell_type": "code",
   "execution_count": null,
   "metadata": {},
   "outputs": [],
   "source": [
    "print(my_dict['key2'])"
   ]
  },
  {
   "cell_type": "markdown",
   "metadata": {},
   "source": [
    "This should have printed **banana**"
   ]
  },
  {
   "cell_type": "markdown",
   "metadata": {},
   "source": [
    "We can also access all keys and items in the dict. It is useful to then convert the results to lists.\n"
   ]
  },
  {
   "cell_type": "code",
   "execution_count": null,
   "metadata": {},
   "outputs": [],
   "source": [
    "keys = my_dict.keys()\n",
    "values = my_dict.values()\n",
    "\n",
    "print('The keys are:', keys, '\\nThe corresponding values are:', values)\n",
    "\n",
    "keys_list = list(keys)\n",
    "values_list = list(values)\n",
    "\n",
    "print('\\nThe list of keys are:', keys_list, '\\nThe corresponding list of values are:', values_list)\n"
   ]
  },
  {
   "cell_type": "markdown",
   "metadata": {},
   "source": [
    "We can check if a particular value exists in the dictionary:\n"
   ]
  },
  {
   "cell_type": "code",
   "execution_count": null,
   "metadata": {},
   "outputs": [],
   "source": [
    "'apple' in my_dict.values() "
   ]
  },
  {
   "cell_type": "code",
   "execution_count": null,
   "metadata": {},
   "outputs": [],
   "source": [
    "'apple' in values_list "
   ]
  },
  {
   "cell_type": "markdown",
   "metadata": {},
   "source": [
    "The above should both have given 'True'."
   ]
  },
  {
   "cell_type": "markdown",
   "metadata": {},
   "source": [
    "# Numpy Arrays\n",
    "The third datastructure you will need is the numpy array.\n",
    "\n",
    "To use the numpy array, and all the functions we need in the numpy library, \n",
    "we need to import it."
   ]
  },
  {
   "cell_type": "code",
   "execution_count": null,
   "metadata": {},
   "outputs": [],
   "source": [
    "import numpy as np"
   ]
  },
  {
   "cell_type": "markdown",
   "metadata": {},
   "source": [
    "Let's prepare a numpy 1 dimensional array with 3 floats as elements"
   ]
  },
  {
   "cell_type": "code",
   "execution_count": null,
   "metadata": {},
   "outputs": [],
   "source": [
    "our_array = np.array([3.2, 42.0, 7.3])\n",
    "print(our_array)"
   ]
  },
  {
   "cell_type": "markdown",
   "metadata": {},
   "source": [
    "We can access elements of the array the same as python lists"
   ]
  },
  {
   "cell_type": "code",
   "execution_count": null,
   "metadata": {},
   "outputs": [],
   "source": [
    "print(our_array[1])"
   ]
  },
  {
   "cell_type": "markdown",
   "metadata": {},
   "source": [
    "This should have printed [42](https://en.wikipedia.org/wiki/42_(number)#The_Hitchhiker's_Guide_to_the_Galaxy).\n",
    "\n",
    "We can also convert python lists into numpy arrays easily."
   ]
  },
  {
   "cell_type": "code",
   "execution_count": null,
   "metadata": {},
   "outputs": [],
   "source": [
    "array_list = [3.0, 5.6]\n",
    "list_array = np.array(array_list)\n",
    "\n",
    "print('The type of my original list is: ', type(array_list))\n",
    "print('The type of my list converted into a numpy array is: ', type(list_array))\n"
   ]
  },
  {
   "cell_type": "markdown",
   "metadata": {},
   "source": [
    "Numpy arrays can also be multi-dimensional. Let's define an array which is all zeros (for the americans) with 9 columns and 7 rows."
   ]
  },
  {
   "cell_type": "code",
   "execution_count": null,
   "metadata": {},
   "outputs": [],
   "source": [
    "zero_array = np.zeros([7, 9])\n",
    "print(zero_array)"
   ]
  },
  {
   "cell_type": "markdown",
   "metadata": {},
   "source": [
    "We can access the entire row also:\n",
    "    "
   ]
  },
  {
   "cell_type": "code",
   "execution_count": null,
   "metadata": {},
   "outputs": [],
   "source": [
    "third_row = zero_array[2]\n",
    "\n",
    "print(third_row)"
   ]
  },
  {
   "cell_type": "markdown",
   "metadata": {},
   "source": [
    "And also the entire column"
   ]
  },
  {
   "cell_type": "code",
   "execution_count": null,
   "metadata": {},
   "outputs": [],
   "source": [
    "second_column = zero_array[:,2]\n",
    "\n",
    "print(second_column)"
   ]
  }
 ],
 "metadata": {
  "kernelspec": {
   "display_name": "Python 3",
   "language": "python",
   "name": "python3"
  },
  "language_info": {
   "codemirror_mode": {
    "name": "ipython",
    "version": 3
   },
   "file_extension": ".py",
   "mimetype": "text/x-python",
   "name": "python",
   "nbconvert_exporter": "python",
   "pygments_lexer": "ipython3",
   "version": "3.6.5"
  }
 },
 "nbformat": 4,
 "nbformat_minor": 2
}
