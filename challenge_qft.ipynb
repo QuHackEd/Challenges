{
 "cells": [
  {
   "cell_type": "markdown",
   "metadata": {},
   "source": [
    "# Challenge: Quantum Fourier Transform\n",
    "\n",
    "In this challenge you will implement the Quantum Fourier Transform (QFT),\n",
    "which is one of the fundamental primitives used in designing quantum algorithms\n"
   ]
  },
  {
   "cell_type": "markdown",
   "metadata": {},
   "source": [
    "Again, let's import some stuff..."
   ]
  },
  {
   "cell_type": "code",
   "execution_count": 1,
   "metadata": {},
   "outputs": [],
   "source": [
    "from pyquil import Program\n",
    "from pyquil.api import get_qc, WavefunctionSimulator, local_qvm\n",
    "from pyquil.gates import *\n",
    "import numpy as np\n",
    "import os, inspect, sys\n",
    "\n",
    "import sys\n",
    "sys.path.insert(0, 'tests/')\n",
    "\n",
    "from test_qft import *\n",
    "make_wf = WavefunctionSimulator()"
   ]
  },
  {
   "cell_type": "markdown",
   "metadata": {},
   "source": [
    "## Part 0:\n",
    "\n",
    "Write a function that takes an input bitstring of length $n$, $\\mathbf{x} = x_1x_2\\dots x_n \\in \\{0, 1\\}^n$ and prepares a corresponding quantum state in the computational basis.\n",
    "\n",
    "### Example:\n",
    "(1) $\\mathbf{x} = 01001 \\overset{\\mathsf{Prepare}}{\\rightarrow} \\left|01001\\right>$\n",
    "\n",
    "*Note: PyQuil (like most libraries) uses the 'little-endian' convention: A Wavefunction represented as |001> actually means **qubit 0** is in state $\\left|1\\right>$, while qubits 1, 2 are in state $\\left|0\\right>$.\n",
    "This is in contrast to the usual notation which would label the qubits as $\\left|100\\right>$. Because of this, you need to be slightly careful extracting probabilities from wavefunctions etc..*\n",
    "\n",
    "*This means that if you print the wavefunction for the above example (1), you will **actually** want to see the state $\\left|10010\\right>$*\n",
    "\n",
    "*The motivation for this is described [here](https://arxiv.org/abs/1711.02086).*"
   ]
  },
  {
   "cell_type": "code",
   "execution_count": 2,
   "metadata": {},
   "outputs": [],
   "source": [
    "def prep_comp_state(bitstring):\n",
    "    circuit = Program()\n",
    "    circuit += #Add code here\n",
    "    return circuit"
   ]
  },
  {
   "cell_type": "code",
   "execution_count": 9,
   "metadata": {},
   "outputs": [
    {
     "name": "stdout",
     "output_type": "stream",
     "text": [
      "Congrats, you prepared the correct state!\n"
     ]
    }
   ],
   "source": [
    "bitstring = [0,1,0,0,1]\n",
    "circuit = prep_comp_state(bitstring)\n",
    "\n",
    "test_prep_comp_bitstring(circuit, bitstring)"
   ]
  },
  {
   "cell_type": "markdown",
   "metadata": {},
   "source": [
    "## Part 1:"
   ]
  },
  {
   "cell_type": "markdown",
   "metadata": {},
   "source": [
    "The first task is, given an input state in the form, $\\left|x_1\\right>, x_1 \\in\\{0, 1\\}$, find a transformation (circuit) that will create the following state in the qubit register:\n",
    "\n",
    "$\\frac{1}{\\sqrt{2}}\\left(\\left|0\\right>+ \\exp\\left(\\frac{2\\pi i x_1}{2}\\right)\\left|1\\right>\\right) = \\frac{1}{\\sqrt{2}}\\left(\\left|0\\right>+ \\exp\\left(2\\pi i [0.x_1]\\right)\\left|1\\right>\\right)$\n",
    "\n",
    "The state you create will depend on the input state value, $x_1$.\n",
    "\n",
    "*Hint: The unitary transformation itself you apply must be **independent** of the input, i.e. it must work regardless what the input is. Try checking manually what state you receive when each possible value for the qubit is inputted*\n",
    "\n",
    "**We are using the binary fraction notation: $[0.x_1] = \\frac{x_1}{2}, [0.x_1x_2] = \\frac{x_1}{2}+ \\frac{x_2}{2^2}, [0.x_lx_{l+1}\\dots x_{m-1}x_m] = \\frac{x_l}{2}+ \\frac{x_{l+1}}{2^2} + \\dots + \\frac{x_{m-1}}{2^{m-l}}+ \\frac{x_{m}}{2^{m-l+1}}$ - This will become useful later**\n",
    "\n",
    "For each of these parts, you should use a Python function. We will assume for now to only use the QVM, and we can access qubit 0."
   ]
  },
  {
   "cell_type": "code",
   "execution_count": 4,
   "metadata": {},
   "outputs": [],
   "source": [
    "circuit = Program()\n",
    "def funky_single_qubit_state(circuit):\n",
    "    \n",
    "    #  circuit += #Add gates here (to act only on qubit -> 0)\n",
    "\n",
    "    return circuit"
   ]
  },
  {
   "cell_type": "markdown",
   "metadata": {},
   "source": [
    "Next, you can check the results by inputting the two options for $x_1$:\n"
   ]
  },
  {
   "cell_type": "code",
   "execution_count": 5,
   "metadata": {},
   "outputs": [
    {
     "name": "stdout",
     "output_type": "stream",
     "text": [
      "\n",
      "The state produced with input |0> is:\n",
      " (0.7071067812+0j)|0> + (0.7071067812+0j)|1>\n",
      "\n",
      "Congratulations, this state is correct:\n",
      "\n",
      "This correponds to the phase exp(2\\pi i * 0/2) = +1\n",
      "\n",
      "The state produced with input |1> is:\n",
      " (0.7071067812+0j)|0> + (-0.7071067812+0j)|1>\n",
      "\n",
      "Congratulations, this state is correct:\n",
      "\n",
      "This correponds to the phase exp(2\\pi i * 1/2) = -1\n"
     ]
    }
   ],
   "source": [
    "circuit_zero = Program()\n",
    "\n",
    "circuit_zero += I(0) # Try x_1 = 0: |0> (i.e. do nothing)\n",
    "circuit_zero = funky_single_qubit_state(circuit_zero)\n",
    "\n",
    "with local_qvm():\n",
    "    zero_state_output_wf = make_wf.wavefunction(circuit_zero)\n",
    "\n",
    "print('\\nThe state produced with input |0> is:\\n',zero_state_output_wf)\n",
    "\n",
    "test_zero_output_state(zero_state_output_wf) # Test to check if you got the correct outcome state for this input\n",
    "circuit_one = Program()\n",
    "\n",
    "circuit_one += X(0) # Next try x_1 = 1: |1>\n",
    "circuit_one = funky_single_qubit_state(circuit_one)\n",
    "\n",
    "with local_qvm():\n",
    "    one_state_output_wf = make_wf.wavefunction(circuit_one)\n",
    "\n",
    "print('\\nThe state produced with input |1> is:\\n',one_state_output_wf)\n",
    "\n",
    "test_one_output_state(one_state_output_wf) # Test to check if you got the correct outcome state for this input\n"
   ]
  },
  {
   "cell_type": "markdown",
   "metadata": {},
   "source": [
    "## Part 2:\n",
    "\n",
    "Now, repeat this for two qubits:\n",
    "\n",
    "Given the state $\\left|x_1x_2\\right>$, prepare the following state in two registers:\n",
    "\n",
    "$\\left|x_1x_2\\right> \\rightarrow \\frac{1}{\\sqrt{2}}\\left(\\left|0\\right>+ \\exp\\left(2\\pi i \\left\\{\\frac{x_1}{2} + \\frac{x_2}{2^2}\\right\\}\\right)\\left|1\\right>\\right)\\otimes \\frac{1}{\\sqrt{2}}\\left(\\left|0\\right>+ \\exp\\left(\\frac{2\\pi i x_2}{2}\\right)\\left|1\\right>\\right) = \\frac{1}{\\sqrt{2}}\\left(\\left|0\\right>+ \\exp\\left(2\\pi i [0.x_1x_2]\\right)\\left|1\\right>\\right)\\otimes \\frac{1}{\\sqrt{2}}\\left(\\left|0\\right>+ \\exp\\left(2\\pi i[0.x_2]\\right)\\left|1\\right>\\right)$\n",
    "\n",
    "*Hint: You will need a controlled gate.*"
   ]
  },
  {
   "cell_type": "code",
   "execution_count": 6,
   "metadata": {},
   "outputs": [],
   "source": [
    "circuit = Program()\n",
    "def funky_two_qubit_state(circuit):\n",
    "    \n",
    "    circuit += #Add gates here (to act only on qubits -> 0, 1)\n",
    "\n",
    "    return circuit"
   ]
  },
  {
   "cell_type": "markdown",
   "metadata": {},
   "source": [
    "You can repeat the checking here with the **four** options:\n",
    "\n",
    "*00, 01, 10, 11*\n"
   ]
  },
  {
   "cell_type": "code",
   "execution_count": 7,
   "metadata": {},
   "outputs": [
    {
     "name": "stdout",
     "output_type": "stream",
     "text": [
      "\n",
      "The state produced with input |0> is:\n",
      " (0.5+0j)|00> + (-0-0.5j)|01> + (-0.5+0j)|10> + 0.5j|11>\n"
     ]
    }
   ],
   "source": [
    "circuit_zero_zero = Program()\n"
   ]
  },
  {
   "cell_type": "markdown",
   "metadata": {},
   "source": [
    "## Part n:\n",
    "\n",
    "Now, repeat this for $n$ qubits:\n",
    "\n",
    "Given the state $\\left|x_1x_2\\dots x_n\\right>$, prepare the following state in $n$ registers:\n",
    "\n",
    "$\\left|x_1x_2\\dots x_n\\right> \\rightarrow \\left|\\psi_n\\right> = \\frac{1}{\\sqrt{2}}\\left(\\left|0\\right>+ \\exp\\left(2\\pi i \\left\\{\\frac{x_1}{2} + \\frac{x_2}{2^2} + \\dots + \\frac{x_n}{2^n}\\right\\}\\right)\\left|1\\right>\\right)\\otimes \\frac{1}{\\sqrt{2}}\\left(\\left|0\\right>+ \\exp\\left(2\\pi i \\left\\{\\frac{x_2}{2}+ \\dots + \\frac{x_{n}}{2^{n-1}}\\right\\}\\right)\\left|1\\right>\\right) \\otimes \\dots \\otimes \\frac{1}{\\sqrt{2}}\\left(\\left|0\\right>+ \\exp\\left(\\frac{2\\pi i x_n}{2}\\right)\\left|1\\right>\\right)$\n",
    "\n",
    "$= \\frac{1}{\\sqrt{2}}\\left(\\left|0\\right>+ \\exp\\left(2\\pi i [0.x_1x_2\\dots x_n]\\right)\\left|1\\right>\\right)\\otimes \\frac{1}{\\sqrt{2}}\\left(\\left|0\\right>+ \\exp\\left(2\\pi i [0.x_2\\dots x_{n-1}x_n]\\right)\\left|1\\right>\\right)\\otimes\\dots\\otimes \\frac{1}{\\sqrt{2}}\\left(\\left|0\\right>+ \\exp\\left(2\\pi i[0.x_n]\\right)\\left|1\\right>\\right)$\n",
    "\n",
    "It would be a good idea to define a function which takes in a parameter $n$"
   ]
  },
  {
   "cell_type": "code",
   "execution_count": 8,
   "metadata": {},
   "outputs": [
    {
     "ename": "SyntaxError",
     "evalue": "invalid syntax (<ipython-input-8-d3daa5e83f6f>, line 5)",
     "output_type": "error",
     "traceback": [
      "\u001b[0;36m  File \u001b[0;32m\"<ipython-input-8-d3daa5e83f6f>\"\u001b[0;36m, line \u001b[0;32m5\u001b[0m\n\u001b[0;31m    circuit += #Add gates here\u001b[0m\n\u001b[0m                              ^\u001b[0m\n\u001b[0;31mSyntaxError\u001b[0m\u001b[0;31m:\u001b[0m invalid syntax\n"
     ]
    }
   ],
   "source": [
    "def funky_state_prep(n):\n",
    "    \n",
    "    circuit = Program()\n",
    "\n",
    "    circuit += #Add gates here\n",
    "    \n",
    "    return circuit"
   ]
  },
  {
   "cell_type": "markdown",
   "metadata": {},
   "source": [
    "Next, apply SWAP gates (which you saw in the unitaries challenge) such that the order of the qubits is reversed.\n",
    "\n",
    "The quantum registers will contain the information previously held in those from which they swapped.\n",
    "\n",
    "For example, the qubit 'register' $n$ will contain the information held in qubit register $1$ before the SWAP, and vice versa. \n",
    "\n",
    "The state should be now be of the form:\n",
    "\n",
    "$\\mathsf{SWAP}_{1, n}\\mathsf{SWAP}_{2, n-1}\\dots \\left|\\psi_n\\right> \\rightarrow \\frac{1}{\\sqrt{2}}\\left(\\left|0\\right>+ \\exp\\left(\\frac{2\\pi i x_n}{2}\\right)\\left|1\\right>\\right) \\otimes \\dots \\otimes\\otimes \\frac{1}{\\sqrt{2}}\\left(\\left|0\\right>+ \\exp\\left(2\\pi i \\left\\{\\frac{x_2}{2}+ \\dots + \\frac{x_{n}}{2^{n-1}}\\right\\}\\right)\\left|1\\right>\\right) \\otimes \\frac{1}{\\sqrt{2}}\\left(\\left|0\\right>+ \\exp\\left(2\\pi i \\left\\{\\frac{x_1}{2} + \\frac{x_2}{2^2} + \\dots + \\frac{x_n}{2^n}\\right\\}\\right)\\left|1\\right>\\right) $\n",
    "\n",
    "$=  \\frac{1}{\\sqrt{2}}\\left(\\left|0\\right>+ \\exp\\left(2\\pi i[0.x_n]\\right)\\left|1\\right>\\right) \\otimes \\frac{1}{\\sqrt{2}}\\left(\\left|0\\right>+ \\exp\\left(2\\pi i [0.x_2\\dots x_{n-1}x_n]\\right)\\left|1\\right>\\right) \\otimes \\frac{1}{\\sqrt{2}}\\left(\\left|0\\right>+ \\exp\\left(2\\pi i [0.x_1x_2\\dots x_n]\\right)\\left|1\\right>\\right)$"
   ]
  },
  {
   "cell_type": "code",
   "execution_count": null,
   "metadata": {},
   "outputs": [],
   "source": [
    "circuit = funky_state_prep(n)\n",
    "\n",
    "circuit += #Apply SWAP's here\n",
    "\n"
   ]
  },
  {
   "cell_type": "markdown",
   "metadata": {},
   "source": [
    "Now it turns out, that by preparing this state, we have prepared the Quantum Fourier Transform of the input state, $\\left|x\\right> = \\left|x_1\\dots x_n\\right>$, where $x = \\frac{x_1}{2^{n-1}} + \\frac{x_2}{2^{n-2}}+\\dots + \\frac{x_{n-1}}{2^{1}}+ \\frac{x_n}{2^{0}}$.\n",
    "\n",
    "We can see these are equivalent by doing some maths and writing the coefficient $k$ as its binary expansion:\n",
    "\n",
    "$\\left|x\\right> =  \\frac{1}{\\sqrt{2^n}}\\sum\\limits_{k=0}^{2^n-1}e^{2\\pi ixk}\\left|k\\right> = \\frac{1}{\\sqrt{2^n}}\\sum\\limits_{k_1=0}^{1}\\sum\\limits_{k_2=0}^{1}\\dots \\sum\\limits_{k_n=0}^{1}e^{2\\pi ix\\sum_{l=1}^n\\frac{k_l}{2^l}}\\left|k_1k_2\\dots k_n\\right> $"
   ]
  },
  {
   "cell_type": "markdown",
   "metadata": {},
   "source": [
    "It would be incredibly useful if we could directly access the coefficients of this state, which would give us the Fouier transform of the input. Unfortunately we are not so lucky.\n",
    "\n",
    "We must measure this state in order to get the information about the Fourier Transform out, but we would need to measure it many, many times to get the full thing. \n",
    "\n",
    "For this reason, the QFT is typically used as a subroutine in other Quantum Algorithms, and it's use in Shor's Algorithm is the real reason we can factor numbers quickly on a Quantum Computer."
   ]
  },
  {
   "cell_type": "markdown",
   "metadata": {},
   "source": [
    "## Final part\n",
    "\n",
    "Measure the single qubit state from part 1 and try and extract the Fourier transform.\n",
    "\n",
    "Notice you will only get a single bit out each time you measure."
   ]
  },
  {
   "cell_type": "code",
   "execution_count": null,
   "metadata": {},
   "outputs": [],
   "source": [
    "circuit_zero = funky_single_qubit_state(circuit_zero)\n"
   ]
  }
 ],
 "metadata": {
  "kernelspec": {
   "display_name": "Python 3",
   "language": "python",
   "name": "python3"
  },
  "language_info": {
   "codemirror_mode": {
    "name": "ipython",
    "version": 3
   },
   "file_extension": ".py",
   "mimetype": "text/x-python",
   "name": "python",
   "nbconvert_exporter": "python",
   "pygments_lexer": "ipython3",
   "version": "3.6.5"
  }
 },
 "nbformat": 4,
 "nbformat_minor": 2
}
