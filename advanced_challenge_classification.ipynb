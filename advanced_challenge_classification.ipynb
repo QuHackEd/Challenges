{
 "cells": [
  {
   "cell_type": "markdown",
   "metadata": {},
   "source": [
    "# Challenge: Classification"
   ]
  },
  {
   "cell_type": "markdown",
   "metadata": {},
   "source": [
    "In this challenge, you will use a quantum circuit as a classifier, to classify input data into two classes.\n",
    "\n",
    "The data will be 'quantum', meaning that your circuit will receive quantum states as an input.\n",
    "\n",
    "Depending on some property of these states, the classifier will decide whether they should receive the label '0', or '1'.\n",
    "\n",
    "This can be achieved with variational circuits, and we can use the following as an [example](https://arxiv.org/abs/1802.06002)\n",
    "\n",
    "The idea is to use an 'ancilla' qubit, which, when measured will decide whether a given input gets classified as a zero or a one. "
   ]
  },
  {
   "cell_type": "markdown",
   "metadata": {},
   "source": [
    "The measurement of a quantum state can behave like the 'non-linearity' present in neural neural networks, which is a key feature of the success of neural networks. \n",
    "\n",
    "As such, in this challenge, you will construct a rudimentary 'quantum neural network' which can classify."
   ]
  },
  {
   "cell_type": "markdown",
   "metadata": {},
   "source": [
    "We will use two qubits as the target, and the ancilla will be measured in the Pauli-'Y' basis:\n",
    "\\begin{align}\n",
    "Y = \\left(\\begin{array}{cc}\n",
    "0 & -i \\\\\n",
    "i & 0\n",
    "\\end{array}\n",
    "\\right)\n",
    "\\end{align}\n"
   ]
  },
  {
   "cell_type": "markdown",
   "metadata": {},
   "source": [
    "We will apply some parameterised unitary operations, $\\mathcal{U}(\\theta)$ to three qubits, and then measure the ancilla in the $Y$ basis."
   ]
  },
  {
   "cell_type": "markdown",
   "metadata": {},
   "source": [
    "In this simple example, we will be classifying binary strings, $z\\in \\{0, 1\\}^n$.\n",
    "\n",
    "Each string will have a predefined label, $l(z)$, which is either $\\pm 1$\n",
    "\n",
    "The 'loss' function (per example string z) will be the difference between the expectation value of the ancilla when measured in the $Y$ basis, and the true label:\n",
    "\\begin{align}\n",
    "    L(z) = 1 - l(z)\\langle, z, 1|\\mathcal{U}(\\theta)Y_{anc}\\mathcal{U}(\\theta)|z, 1\\rangle\n",
    "\\end{align}\n",
    "\n",
    "If the value of the **true** label (say +1) is different than that of the measured one (say -1), then:\n",
    "measured in the $Y$ basis, and the true label:\n",
    "\\begin{align}\n",
    "    L(z) = l(z)\\langle, z, 1|\\mathcal{U}(\\theta)Y_{anc}\\mathcal{U}(\\theta)|z, 1\\rangle = (+1)(-1) = -1\n",
    "\\end{align}\n",
    "\n",
    "so the cost function will be at maximum (the minimum would be where the measured value and the true label are identical so :\n",
    "\\begin{align}\n",
    "    L(z) = l(z)\\langle, z, 1|\\mathcal{U}(\\theta)Y_{anc}\\mathcal{U}(\\theta)|z, 1\\rangle = 1\\\\\n",
    "    \\implies L(z) = 0\n",
    "\\end{align}\n"
   ]
  },
  {
   "cell_type": "code",
   "execution_count": null,
   "metadata": {},
   "outputs": [],
   "source": []
  }
 ],
 "metadata": {
  "kernelspec": {
   "display_name": "Python 3",
   "language": "python",
   "name": "python3"
  },
  "language_info": {
   "codemirror_mode": {
    "name": "ipython",
    "version": 3
   },
   "file_extension": ".py",
   "mimetype": "text/x-python",
   "name": "python",
   "nbconvert_exporter": "python",
   "pygments_lexer": "ipython3",
   "version": "3.6.5"
  }
 },
 "nbformat": 4,
 "nbformat_minor": 2
}
