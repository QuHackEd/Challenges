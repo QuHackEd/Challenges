{
 "cells": [
  {
   "cell_type": "markdown",
   "metadata": {},
   "source": [
    "# Challenge: Measurement\n",
    "In this challenge, you will experiment with different ways to measure\n",
    "quantum systems using pyQuil\n"
   ]
  },
  {
   "cell_type": "markdown",
   "metadata": {},
   "source": [
    "Import the things we will need:"
   ]
  },
  {
   "cell_type": "code",
   "execution_count": 1,
   "metadata": {},
   "outputs": [],
   "source": [
    "from pyquil import Program\n",
    "from pyquil.api import get_qc\n",
    "from pyquil.gates import H, MEASURE\n"
   ]
  },
  {
   "cell_type": "markdown",
   "metadata": {},
   "source": [
    "# Measurement: Option 1"
   ]
  },
  {
   "cell_type": "markdown",
   "metadata": {},
   "source": [
    "First, we will explicitly define the measure instuctions as part\n",
    "of the quil Program, and call the **run** function "
   ]
  },
  {
   "cell_type": "markdown",
   "metadata": {},
   "source": [
    "## Task:\n",
    "\n",
    "Implement a Hadamard gate on qubits [0, 1] of \n",
    "*qvm_name* and measure ONLY these two qubits *num_shots* times\n"
   ]
  },
  {
   "cell_type": "code",
   "execution_count": 2,
   "metadata": {},
   "outputs": [],
   "source": [
    "def measurement_1(qvm_name, as_qvm_value, num_shots):\n",
    "    \"\"\"\n",
    "        Args: \n",
    "            qvm_name [type : str]\n",
    "            Name of the device on which to run the Program\n",
    "\n",
    "            as_qvm_value [type : bool]\n",
    "            True if device is a QVM, otherwise false\n",
    "\n",
    "            num_shots [type : int]\n",
    "            Number of shots to repeat measurement for\n",
    "\n",
    "        Output:\n",
    "            results [type : np.ndarray]\n",
    "            Numpy array of measurement outcomes for all shots\n",
    "    \"\"\"\n",
    "    qc = get_qc(qvm_name, as_qvm=as_qvm_value)\n",
    "    circuit = Program()\n",
    "    creg = circuit.declare(\"ro\", \"BIT\", 2)\n",
    "    circuit += H(0)\n",
    "    circuit += H(1)\n",
    "    circuit += MEASURE(0, creg[0])\n",
    "    circuit += MEASURE(1, creg[1])\n",
    "\n",
    "    circuit.wrap_in_numshots_loop(1000)\n",
    "    executable = qc.compile(circuit)\n",
    "    result = qc.run(executable)\n",
    "\n",
    "    return result\n"
   ]
  },
  {
   "cell_type": "markdown",
   "metadata": {},
   "source": [
    "Now run 100 times and collect the results"
   ]
  },
  {
   "cell_type": "code",
   "execution_count": null,
   "metadata": {},
   "outputs": [],
   "source": [
    "qvm_name = '3q-qvm'\n",
    "as_qvm_value = True\n",
    "num_shots = 100\n",
    "\n",
    "results_1 = measurement_1(qvm_name, as_qvm_value, num_shots)\n",
    "print(results_1)"
   ]
  },
  {
   "cell_type": "markdown",
   "metadata": {},
   "source": [
    "# Measurement: Option 2\n",
    "Next, we will use the run_and_measure function to measure all qubits\n",
    "at once, without explicitly using MEASURE instructions.\n",
    "\n"
   ]
  },
  {
   "cell_type": "markdown",
   "metadata": {},
   "source": [
    "## Task:\n",
    "Implement a Hadamard gates on the first two available \n",
    "qubits [7, 0] of the chip *qpu_name* and measure ALL qubits \n",
    "(use **run_and_measure**)\n",
    "\n",
    "Note: The labels of qubits on the chip *qpu_name* may not correspond \n",
    "to an ordered list starting at index 0"
   ]
  },
  {
   "cell_type": "code",
   "execution_count": 3,
   "metadata": {},
   "outputs": [],
   "source": [
    "def measurement_2(qpu_name, as_qvm_value, num_shots):\n",
    "    \"\"\"\n",
    "        Args: \n",
    "            qpu_name [type : str]\n",
    "            Name of the device on which to run the Program.\n",
    "\n",
    "            as_qvm_value [type : bool]\n",
    "            True if device is a QVM, otherwise false.\n",
    "\n",
    "            num_shots [type : int]\n",
    "            Number of shots to repeat measurement for.\n",
    "\n",
    "        Output:\n",
    "            results [type : dict]\n",
    "            Dictionary, keys correspond to qubits, values are numpy arrays\n",
    "            with measurement results. \n",
    "    \"\"\"\n",
    "    qc = get_qc(qpu_name, as_qvm=as_qvm_value)\n",
    "    qubits = qc.qubits()\n",
    "    circuit = Program()\n",
    "    \n",
    "    circuit += H(qubits[0])\n",
    "    circuit += H(qubits[3])\n",
    "    \n",
    "    results = qc.run_and_measure(circuit, num_shots)\n",
    "    \n",
    "    return results"
   ]
  },
  {
   "cell_type": "code",
   "execution_count": 6,
   "metadata": {},
   "outputs": [
    {
     "name": "stdout",
     "output_type": "stream",
     "text": [
      "{0: array([1, 0, 0, 1, 1, 1, 1, 0, 1, 0, 1, 0, 1, 1, 0, 0, 1, 1, 1, 1, 1, 1,\n",
      "       0, 0, 1, 1, 0, 0, 0, 0, 0, 0, 0, 1, 1, 1, 0, 0, 0, 1, 0, 1, 0, 1,\n",
      "       0, 0, 1, 0, 1, 0, 0, 1, 1, 1, 1, 0, 0, 0, 1, 1, 0, 1, 0, 1, 0, 0,\n",
      "       0, 0, 0, 1, 1, 0, 1, 0, 1, 1, 0, 1, 1, 1, 0, 1, 1, 1, 1, 1, 1, 0,\n",
      "       0, 0, 1, 0, 1, 0, 0, 0, 0, 0, 0, 0]), 1: array([0, 0, 0, 0, 0, 0, 0, 0, 0, 0, 0, 0, 0, 0, 0, 0, 0, 0, 0, 0, 0, 0,\n",
      "       0, 0, 0, 0, 0, 0, 0, 0, 0, 0, 0, 0, 0, 0, 0, 0, 0, 0, 0, 0, 0, 0,\n",
      "       0, 0, 0, 0, 0, 0, 0, 0, 0, 0, 0, 0, 0, 0, 0, 0, 0, 0, 0, 0, 0, 0,\n",
      "       0, 0, 0, 0, 0, 0, 0, 0, 0, 0, 0, 0, 0, 0, 0, 0, 0, 0, 0, 0, 0, 0,\n",
      "       0, 0, 0, 0, 0, 0, 0, 0, 0, 0, 0, 0]), 2: array([0, 0, 0, 0, 0, 0, 0, 0, 0, 0, 0, 0, 0, 0, 0, 0, 0, 0, 0, 0, 0, 0,\n",
      "       0, 0, 0, 0, 0, 0, 0, 0, 0, 0, 0, 0, 0, 0, 0, 0, 0, 0, 0, 0, 0, 0,\n",
      "       0, 0, 0, 0, 0, 0, 0, 0, 0, 0, 0, 0, 0, 0, 0, 0, 0, 0, 0, 0, 0, 0,\n",
      "       0, 0, 0, 0, 0, 0, 0, 0, 0, 0, 0, 0, 0, 0, 0, 0, 0, 0, 0, 0, 0, 0,\n",
      "       0, 0, 0, 0, 0, 0, 0, 0, 0, 0, 0, 0]), 7: array([0, 0, 0, 0, 1, 1, 0, 0, 1, 1, 1, 0, 0, 0, 0, 1, 1, 0, 0, 1, 1, 1,\n",
      "       1, 0, 1, 1, 0, 0, 1, 1, 0, 0, 1, 1, 1, 0, 1, 1, 1, 1, 0, 0, 1, 0,\n",
      "       1, 1, 0, 0, 0, 0, 1, 0, 1, 1, 1, 1, 0, 1, 0, 0, 1, 0, 1, 0, 0, 1,\n",
      "       0, 1, 0, 0, 0, 1, 0, 0, 0, 1, 0, 1, 0, 1, 0, 0, 0, 1, 0, 1, 0, 0,\n",
      "       0, 0, 0, 1, 1, 0, 1, 0, 0, 0, 1, 1])}\n"
     ]
    }
   ],
   "source": [
    "qpu_name = 'Aspen-4-4Q-A'\n",
    "as_qvm_value = True\n",
    "num_shots = 100\n",
    "\n",
    "results_2 = measurement_2(qpu_name, as_qvm_value, num_shots)\n",
    "print(results_2)"
   ]
  }
 ],
 "metadata": {
  "kernelspec": {
   "display_name": "Python 3",
   "language": "python",
   "name": "python3"
  },
  "language_info": {
   "codemirror_mode": {
    "name": "ipython",
    "version": 3
   },
   "file_extension": ".py",
   "mimetype": "text/x-python",
   "name": "python",
   "nbconvert_exporter": "python",
   "pygments_lexer": "ipython3",
   "version": "3.6.5"
  }
 },
 "nbformat": 4,
 "nbformat_minor": 2
}
