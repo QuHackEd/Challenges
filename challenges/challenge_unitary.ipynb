{
 "cells": [
  {
   "cell_type": "markdown",
   "metadata": {},
   "source": [
    "# Challenge: Unitaries"
   ]
  },
  {
   "cell_type": "markdown",
   "metadata": {},
   "source": [
    "In this challenge, you will have to apply certain unitaries to prepare particular final states"
   ]
  },
  {
   "cell_type": "markdown",
   "metadata": {},
   "source": [
    "Firstly, import the things we will need:"
   ]
  },
  {
   "cell_type": "code",
   "execution_count": 5,
   "metadata": {},
   "outputs": [],
   "source": [
    "from pyquil import Program\n",
    "from pyquil.api import get_qc, WavefunctionSimulator\n",
    "from pyquil.gates import *\n"
   ]
  },
  {
   "cell_type": "markdown",
   "metadata": {},
   "source": [
    "## Challenge 1: \n",
    "Bit flip.\n",
    "\n",
    "Inputs: Initial state prepared in the computational basis state: |0> \n",
    "\n",
    "Task: Output a state which is prepared in the orthogonal state: |1>"
   ]
  },
  {
   "cell_type": "code",
   "execution_count": 8,
   "metadata": {},
   "outputs": [
    {
     "name": "stdout",
     "output_type": "stream",
     "text": [
      "The wavefunction is: (1+0j)|1>\n"
     ]
    }
   ],
   "source": [
    "# Initialise an empty circuit: \n",
    "\n",
    "circuit = Program()\n",
    "\n",
    "# The circuit now contains a quantum register in the \n",
    "# state |0>.\n",
    "# Apply a unitary gate (or gates) such that the output state is |1>\n",
    "\n",
    "# circuit += #Apply gates here\n",
    "\n",
    "# You can check if the output state if correct by printing \n",
    "# out the wavefunction of the state using a simulator.\n",
    "make_wf = WavefunctionSimulator()\n",
    "\n",
    "wavefunction = make_wf.wavefunction(circuit)\n",
    "print('The wavefunction is:', wavefunction)"
   ]
  },
  {
   "cell_type": "markdown",
   "metadata": {},
   "source": [
    "## Challenge 2: \n",
    "Bit flip (again).\n",
    "\n",
    "Inputs: Initial state prepared in the *superposition* state: $\\frac{1}{\\sqrt{2}}\\left(|0> + |1> \\right)$\n",
    "\n",
    "Task: Output a state which is prepared in the orthogonal state: |1>"
   ]
  },
  {
   "cell_type": "code",
   "execution_count": null,
   "metadata": {},
   "outputs": [],
   "source": []
  },
  {
   "cell_type": "code",
   "execution_count": null,
   "metadata": {},
   "outputs": [],
   "source": []
  }
 ],
 "metadata": {
  "kernelspec": {
   "display_name": "Python 3",
   "language": "python",
   "name": "python3"
  },
  "language_info": {
   "codemirror_mode": {
    "name": "ipython",
    "version": 3
   },
   "file_extension": ".py",
   "mimetype": "text/x-python",
   "name": "python",
   "nbconvert_exporter": "python",
   "pygments_lexer": "ipython3",
   "version": "3.6.5"
  }
 },
 "nbformat": 4,
 "nbformat_minor": 2
}
